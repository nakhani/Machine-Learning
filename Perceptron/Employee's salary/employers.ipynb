{
 "cells": [
  {
   "cell_type": "code",
   "execution_count": 17,
   "metadata": {},
   "outputs": [],
   "source": [
    "%matplotlib qt"
   ]
  },
  {
   "cell_type": "code",
   "execution_count": 18,
   "metadata": {},
   "outputs": [],
   "source": [
    "from sklearn.datasets import make_regression\n",
    "from sklearn.model_selection import train_test_split\n",
    "import matplotlib.pyplot as plt\n",
    "import numpy as np\n",
    "from perceptron import Perceptron"
   ]
  },
  {
   "cell_type": "code",
   "execution_count": 19,
   "metadata": {},
   "outputs": [],
   "source": [
    "X, y = make_regression(n_samples=100, n_features=1, noise=20, random_state=42)\n",
    "y = y * 1000 "
   ]
  },
  {
   "cell_type": "code",
   "execution_count": 20,
   "metadata": {},
   "outputs": [],
   "source": [
    "plt.figure(figsize=(8, 6))\n",
    "plt.scatter(X, y, color='blue', alpha=0.7, label='Employee Data')\n",
    "plt.title(\"Simulated Employee Salaries Dataset\")\n",
    "plt.xlabel(\"feature\")\n",
    "plt.ylabel(\"Salary ($)\")\n",
    "plt.legend()\n",
    "plt.grid(True, alpha=0.3)\n",
    "plt.show()"
   ]
  },
  {
   "cell_type": "code",
   "execution_count": 21,
   "metadata": {},
   "outputs": [
    {
     "name": "stdout",
     "output_type": "stream",
     "text": [
      "Shape of X_train: (80, 1)\n",
      "Shape of X_test: (20, 1)\n",
      "Shape of y_train: (80,)\n",
      "Shape of y_test: (20,)\n"
     ]
    }
   ],
   "source": [
    "X_train, X_test, y_train, y_test = train_test_split(X, y, test_size=0.2, random_state=42)\n",
    "\n",
    "print(f\"Shape of X_train: {X_train.shape}\")\n",
    "print(f\"Shape of X_test: {X_test.shape}\")\n",
    "print(f\"Shape of y_train: {y_train.shape}\")\n",
    "print(f\"Shape of y_test: {y_test.shape}\")"
   ]
  },
  {
   "cell_type": "code",
   "execution_count": 22,
   "metadata": {},
   "outputs": [
    {
     "name": "stdout",
     "output_type": "stream",
     "text": [
      "Epoch 1: Loss = [[2.00120422e+09]]\n",
      "Epoch 2: Loss = [[1.77770122e+09]]\n",
      "Epoch 3: Loss = [[1.59337668e+09]]\n",
      "Epoch 4: Loss = [[1.43354301e+09]]\n",
      "Epoch 5: Loss = [[1.29351824e+09]]\n",
      "Epoch 6: Loss = [[1.17066076e+09]]\n",
      "Epoch 7: Loss = [[1.06287242e+09]]\n",
      "Epoch 8: Loss = [[9.68325073e+08]]\n",
      "Epoch 9: Loss = [[8.85404299e+08]]\n",
      "Epoch 10: Loss = [[8.12686251e+08]]\n",
      "Epoch 11: Loss = [[7.48918204e+08]]\n",
      "Epoch 12: Loss = [[6.92999737e+08]]\n",
      "Epoch 13: Loss = [[6.43965052e+08]]\n",
      "Epoch 14: Loss = [[6.00966891e+08]]\n",
      "Epoch 15: Loss = [[5.6326215e+08]]\n",
      "Epoch 16: Loss = [[5.30199149e+08]]\n",
      "Epoch 17: Loss = [[5.01206417e+08]]\n",
      "Epoch 18: Loss = [[4.75782832e+08]]\n",
      "Epoch 19: Loss = [[4.5348897e+08]]\n",
      "Epoch 20: Loss = [[4.33939506e+08]]\n",
      "Epoch 21: Loss = [[4.1679656e+08]]\n",
      "Epoch 22: Loss = [[4.01763851e+08]]\n",
      "Epoch 23: Loss = [[3.88581578e+08]]\n",
      "Epoch 24: Loss = [[3.77021928e+08]]\n",
      "Epoch 25: Loss = [[3.66885137e+08]]\n",
      "Epoch 26: Loss = [[3.57996036e+08]]\n",
      "Epoch 27: Loss = [[3.50201024e+08]]\n",
      "Epoch 28: Loss = [[3.4336541e+08]]\n",
      "Epoch 29: Loss = [[3.37371087e+08]]\n",
      "Epoch 30: Loss = [[3.32114489e+08]]\n",
      "Epoch 31: Loss = [[3.27504803e+08]]\n",
      "Epoch 32: Loss = [[3.23462392e+08]]\n",
      "Epoch 33: Loss = [[3.19917428e+08]]\n",
      "Epoch 34: Loss = [[3.16808679e+08]]\n",
      "Epoch 35: Loss = [[3.14082448e+08]]\n",
      "Epoch 36: Loss = [[3.11691654e+08]]\n",
      "Epoch 37: Loss = [[3.09595008e+08]]\n",
      "Epoch 38: Loss = [[3.07756306e+08]]\n",
      "Epoch 39: Loss = [[3.06143801e+08]]\n",
      "Epoch 40: Loss = [[3.04729653e+08]]\n",
      "Epoch 41: Loss = [[3.03489451e+08]]\n",
      "Epoch 42: Loss = [[3.02401788e+08]]\n",
      "Epoch 43: Loss = [[3.01447891e+08]]\n",
      "Epoch 44: Loss = [[3.00611301e+08]]\n",
      "Epoch 45: Loss = [[2.99877581e+08]]\n",
      "Epoch 46: Loss = [[2.99234075e+08]]\n",
      "Epoch 47: Loss = [[2.98669682e+08]]\n",
      "Epoch 48: Loss = [[2.98174668e+08]]\n",
      "Epoch 49: Loss = [[2.97740499e+08]]\n",
      "Epoch 50: Loss = [[2.97359689e+08]]\n",
      "Epoch 51: Loss = [[2.97025674e+08]]\n",
      "Epoch 52: Loss = [[2.96732698e+08]]\n",
      "Epoch 53: Loss = [[2.96475714e+08]]\n",
      "Epoch 54: Loss = [[2.96250295e+08]]\n",
      "Epoch 55: Loss = [[2.96052559e+08]]\n",
      "Epoch 56: Loss = [[2.95879103e+08]]\n",
      "Epoch 57: Loss = [[2.95726941e+08]]\n",
      "Epoch 58: Loss = [[2.95593454e+08]]\n",
      "Epoch 59: Loss = [[2.95476348e+08]]\n",
      "Epoch 60: Loss = [[2.95373609e+08]]\n",
      "Epoch 61: Loss = [[2.95283471e+08]]\n",
      "Epoch 62: Loss = [[2.95204386e+08]]\n",
      "Epoch 63: Loss = [[2.95134995e+08]]\n",
      "Epoch 64: Loss = [[2.95074108e+08]]\n",
      "Epoch 65: Loss = [[2.95020681e+08]]\n",
      "Epoch 66: Loss = [[2.94973796e+08]]\n",
      "Epoch 67: Loss = [[2.94932651e+08]]\n",
      "Epoch 68: Loss = [[2.94896542e+08]]\n",
      "Epoch 69: Loss = [[2.94864849e+08]]\n",
      "Epoch 70: Loss = [[2.94837031e+08]]\n",
      "Epoch 71: Loss = [[2.94812613e+08]]\n",
      "Epoch 72: Loss = [[2.94791178e+08]]\n",
      "Epoch 73: Loss = [[2.9477236e+08]]\n",
      "Epoch 74: Loss = [[2.94755837e+08]]\n",
      "Epoch 75: Loss = [[2.9474133e+08]]\n",
      "Epoch 76: Loss = [[2.9472859e+08]]\n",
      "Epoch 77: Loss = [[2.94717402e+08]]\n",
      "Epoch 78: Loss = [[2.94707575e+08]]\n",
      "Epoch 79: Loss = [[2.94698943e+08]]\n",
      "Epoch 80: Loss = [[2.9469136e+08]]\n",
      "Epoch 81: Loss = [[2.94684697e+08]]\n",
      "Epoch 82: Loss = [[2.94678842e+08]]\n",
      "Epoch 83: Loss = [[2.94673697e+08]]\n",
      "Epoch 84: Loss = [[2.94669174e+08]]\n",
      "Epoch 85: Loss = [[2.94665198e+08]]\n",
      "Epoch 86: Loss = [[2.94661702e+08]]\n",
      "Epoch 87: Loss = [[2.94658627e+08]]\n",
      "Epoch 88: Loss = [[2.94655923e+08]]\n",
      "Epoch 89: Loss = [[2.94653543e+08]]\n",
      "Epoch 90: Loss = [[2.9465145e+08]]\n",
      "Epoch 91: Loss = [[2.94649607e+08]]\n",
      "Epoch 92: Loss = [[2.94647984e+08]]\n",
      "Epoch 93: Loss = [[2.94646556e+08]]\n",
      "Epoch 94: Loss = [[2.94645298e+08]]\n",
      "Epoch 95: Loss = [[2.94644189e+08]]\n",
      "Epoch 96: Loss = [[2.94643212e+08]]\n",
      "Epoch 97: Loss = [[2.9464235e+08]]\n",
      "Epoch 98: Loss = [[2.9464159e+08]]\n",
      "Epoch 99: Loss = [[2.9464092e+08]]\n",
      "Epoch 100: Loss = [[2.94640329e+08]]\n"
     ]
    }
   ],
   "source": [
    "perceptron = Perceptron(input_size=1, learning_rate_w=0.001, learning_rate_b=0.01, epochs=100)\n",
    "perceptron.fit(X_train, y_train)\n"
   ]
  },
  {
   "cell_type": "code",
   "execution_count": 23,
   "metadata": {},
   "outputs": [],
   "source": [
    "y_pred = perceptron.predict(X_test)"
   ]
  },
  {
   "cell_type": "code",
   "execution_count": 24,
   "metadata": {},
   "outputs": [],
   "source": [
    "fig, axes = plt.subplots(1, 2, figsize=(14, 6))\n",
    "fig.patch.set_facecolor('#2b2b2b')  \n",
    "\n",
    "# Data Graph\n",
    "axes[0].scatter(X_train, y_train, color='blue', alpha=0.7, label='Train Data')\n",
    "axes[0].scatter(X_test, y_test, color='green', alpha=0.7, label='Test Data')\n",
    "axes[0].plot(X_test, y_pred, color='red', label='Model Prediction', linewidth=2)\n",
    "axes[0].set_title(\"Employee Salary Prediction\", color='#e0e0e0')\n",
    "axes[0].set_xlabel(\"Years of Experience\", color='#e0e0e0')\n",
    "axes[0].set_ylabel(\"Salary ($)\", color='#e0e0e0')\n",
    "axes[0].legend(facecolor='#2b2b2b', edgecolor='#555555', framealpha=0.8)\n",
    "axes[0].tick_params(colors='#e0e0e0')\n",
    "axes[0].grid(color='#555555', linestyle='--', linewidth=0.5, alpha=0.6)\n",
    "axes[0].set_facecolor('#2b2b2b')  \n",
    "\n",
    "# Loss Graph \n",
    "axes[1].plot(range(1, perceptron.epochs + 1), np.array(perceptron.loss_history).flatten(), color='yellow', linewidth=2)\n",
    "axes[1].set_title(\"Loss Over Epochs\", color='#e0e0e0')\n",
    "axes[1].set_xlabel(\"Epochs\", color='#e0e0e0')\n",
    "axes[1].set_ylabel(\"Average Loss\", color='#e0e0e0')\n",
    "axes[1].tick_params(colors='#e0e0e0')\n",
    "axes[1].grid(color='#555555', linestyle='--', linewidth=0.5, alpha=0.6)\n",
    "axes[1].set_facecolor('#2b2b2b')  \n",
    "\n",
    "\n",
    "plt.tight_layout()\n",
    "plt.show()"
   ]
  }
 ],
 "metadata": {
  "kernelspec": {
   "display_name": "Python 3",
   "language": "python",
   "name": "python3"
  },
  "language_info": {
   "codemirror_mode": {
    "name": "ipython",
    "version": 3
   },
   "file_extension": ".py",
   "mimetype": "text/x-python",
   "name": "python",
   "nbconvert_exporter": "python",
   "pygments_lexer": "ipython3",
   "version": "3.9.7"
  }
 },
 "nbformat": 4,
 "nbformat_minor": 2
}
