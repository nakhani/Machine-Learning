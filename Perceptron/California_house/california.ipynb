{
 "cells": [
  {
   "cell_type": "code",
   "execution_count": 1,
   "metadata": {},
   "outputs": [],
   "source": [
    "%matplotlib qt"
   ]
  },
  {
   "cell_type": "code",
   "execution_count": 2,
   "metadata": {},
   "outputs": [],
   "source": [
    "from sklearn.model_selection import train_test_split\n",
    "from sklearn.datasets import fetch_california_housing\n",
    "import matplotlib.pyplot as plt\n",
    "import numpy as np\n",
    "import pandas as pd\n",
    "import seaborn as sns\n",
    "import matplotlib.pyplot as plt\n",
    "from perceptron import Perceptron"
   ]
  },
  {
   "cell_type": "code",
   "execution_count": 3,
   "metadata": {},
   "outputs": [
    {
     "data": {
      "text/plain": [
       "array([4.526, 3.585, 3.521, ..., 0.923, 0.847, 0.894])"
      ]
     },
     "execution_count": 3,
     "metadata": {},
     "output_type": "execute_result"
    }
   ],
   "source": [
    "california = fetch_california_housing()\n",
    "data = california.data\n",
    "target = california.target  \n",
    "features = california.feature_names\n",
    "target"
   ]
  },
  {
   "cell_type": "code",
   "execution_count": 4,
   "metadata": {},
   "outputs": [
    {
     "data": {
      "text/html": [
       "<div>\n",
       "<style scoped>\n",
       "    .dataframe tbody tr th:only-of-type {\n",
       "        vertical-align: middle;\n",
       "    }\n",
       "\n",
       "    .dataframe tbody tr th {\n",
       "        vertical-align: top;\n",
       "    }\n",
       "\n",
       "    .dataframe thead th {\n",
       "        text-align: right;\n",
       "    }\n",
       "</style>\n",
       "<table border=\"1\" class=\"dataframe\">\n",
       "  <thead>\n",
       "    <tr style=\"text-align: right;\">\n",
       "      <th></th>\n",
       "      <th>MedInc</th>\n",
       "      <th>HouseAge</th>\n",
       "      <th>AveRooms</th>\n",
       "      <th>AveBedrms</th>\n",
       "      <th>Population</th>\n",
       "      <th>AveOccup</th>\n",
       "      <th>Latitude</th>\n",
       "      <th>Longitude</th>\n",
       "      <th>Target</th>\n",
       "    </tr>\n",
       "  </thead>\n",
       "  <tbody>\n",
       "    <tr>\n",
       "      <th>0</th>\n",
       "      <td>8.3252</td>\n",
       "      <td>41.0</td>\n",
       "      <td>6.984127</td>\n",
       "      <td>1.023810</td>\n",
       "      <td>322.0</td>\n",
       "      <td>2.555556</td>\n",
       "      <td>37.88</td>\n",
       "      <td>-122.23</td>\n",
       "      <td>4.526</td>\n",
       "    </tr>\n",
       "    <tr>\n",
       "      <th>1</th>\n",
       "      <td>8.3014</td>\n",
       "      <td>21.0</td>\n",
       "      <td>6.238137</td>\n",
       "      <td>0.971880</td>\n",
       "      <td>2401.0</td>\n",
       "      <td>2.109842</td>\n",
       "      <td>37.86</td>\n",
       "      <td>-122.22</td>\n",
       "      <td>3.585</td>\n",
       "    </tr>\n",
       "    <tr>\n",
       "      <th>2</th>\n",
       "      <td>7.2574</td>\n",
       "      <td>52.0</td>\n",
       "      <td>8.288136</td>\n",
       "      <td>1.073446</td>\n",
       "      <td>496.0</td>\n",
       "      <td>2.802260</td>\n",
       "      <td>37.85</td>\n",
       "      <td>-122.24</td>\n",
       "      <td>3.521</td>\n",
       "    </tr>\n",
       "    <tr>\n",
       "      <th>3</th>\n",
       "      <td>5.6431</td>\n",
       "      <td>52.0</td>\n",
       "      <td>5.817352</td>\n",
       "      <td>1.073059</td>\n",
       "      <td>558.0</td>\n",
       "      <td>2.547945</td>\n",
       "      <td>37.85</td>\n",
       "      <td>-122.25</td>\n",
       "      <td>3.413</td>\n",
       "    </tr>\n",
       "    <tr>\n",
       "      <th>4</th>\n",
       "      <td>3.8462</td>\n",
       "      <td>52.0</td>\n",
       "      <td>6.281853</td>\n",
       "      <td>1.081081</td>\n",
       "      <td>565.0</td>\n",
       "      <td>2.181467</td>\n",
       "      <td>37.85</td>\n",
       "      <td>-122.25</td>\n",
       "      <td>3.422</td>\n",
       "    </tr>\n",
       "  </tbody>\n",
       "</table>\n",
       "</div>"
      ],
      "text/plain": [
       "   MedInc  HouseAge  AveRooms  AveBedrms  Population  AveOccup  Latitude  \\\n",
       "0  8.3252      41.0  6.984127   1.023810       322.0  2.555556     37.88   \n",
       "1  8.3014      21.0  6.238137   0.971880      2401.0  2.109842     37.86   \n",
       "2  7.2574      52.0  8.288136   1.073446       496.0  2.802260     37.85   \n",
       "3  5.6431      52.0  5.817352   1.073059       558.0  2.547945     37.85   \n",
       "4  3.8462      52.0  6.281853   1.081081       565.0  2.181467     37.85   \n",
       "\n",
       "   Longitude  Target  \n",
       "0    -122.23   4.526  \n",
       "1    -122.22   3.585  \n",
       "2    -122.24   3.521  \n",
       "3    -122.25   3.413  \n",
       "4    -122.25   3.422  "
      ]
     },
     "execution_count": 4,
     "metadata": {},
     "output_type": "execute_result"
    }
   ],
   "source": [
    "data_df = pd.DataFrame(data, columns=features)\n",
    "data_df['Target'] = target\n",
    "data_df.head()"
   ]
  },
  {
   "cell_type": "code",
   "execution_count": 5,
   "metadata": {},
   "outputs": [
    {
     "name": "stdout",
     "output_type": "stream",
     "text": [
      "Target        1.000000\n",
      "MedInc        0.688075\n",
      "AveRooms      0.151948\n",
      "HouseAge      0.105623\n",
      "AveOccup     -0.023737\n",
      "Population   -0.024650\n",
      "Longitude    -0.045967\n",
      "AveBedrms    -0.046701\n",
      "Latitude     -0.144160\n",
      "Name: Target, dtype: float64\n"
     ]
    }
   ],
   "source": [
    "correlation_matrix = data_df.corr()  \n",
    "print(correlation_matrix[\"Target\"].sort_values(ascending=False))  \n",
    "\n",
    "plt.figure(figsize=(10, 8))\n",
    "sns.heatmap(correlation_matrix, annot=True, cmap=\"coolwarm\")\n",
    "plt.title(\"Correlation Heatmap\")\n",
    "plt.show()\n",
    "\n",
    "sns.pairplot(data_df, x_vars=features, y_vars=[\"Target\"], height=2.5, aspect=0.7)\n",
    "plt.title(\"Feature vs Target Pairplot\")\n",
    "plt.show()\n"
   ]
  },
  {
   "cell_type": "code",
   "execution_count": 6,
   "metadata": {},
   "outputs": [],
   "source": [
    "feature1 = np.where(np.array(features) == \"MedInc\")[0][0]  \n",
    "feature2 = np.where(np.array(features) == \"AveRooms\")[0][0]  \n",
    "\n",
    "X = data[:, [feature1, feature2]]\n",
    "y = target"
   ]
  },
  {
   "cell_type": "code",
   "execution_count": 7,
   "metadata": {},
   "outputs": [],
   "source": [
    "from sklearn.preprocessing import MinMaxScaler\n",
    "scaler = MinMaxScaler()\n",
    "X = scaler.fit_transform(X)"
   ]
  },
  {
   "cell_type": "code",
   "execution_count": 8,
   "metadata": {},
   "outputs": [
    {
     "name": "stdout",
     "output_type": "stream",
     "text": [
      "Shape of X_train: (16512, 2)\n",
      "Shape of X_test: (4128, 2)\n",
      "Shape of y_train: (16512,)\n",
      "Shape of y_test: (4128,)\n"
     ]
    }
   ],
   "source": [
    "X_train, X_test, y_train, y_test = train_test_split(X, y, test_size=0.2, random_state=42)\n",
    "\n",
    "print(f\"Shape of X_train: {X_train.shape}\")\n",
    "print(f\"Shape of X_test: {X_test.shape}\")\n",
    "print(f\"Shape of y_train: {y_train.shape}\")\n",
    "print(f\"Shape of y_test: {y_test.shape}\")"
   ]
  },
  {
   "cell_type": "code",
   "execution_count": 9,
   "metadata": {},
   "outputs": [
    {
     "name": "stdout",
     "output_type": "stream",
     "text": [
      "Epoch 1: Loss = [[0.01075798]]\n",
      "Epoch 2: Loss = [[-0.00025252]]\n",
      "Epoch 3: Loss = [[-0.00024541]]\n",
      "Epoch 4: Loss = [[-0.0002385]]\n",
      "Epoch 5: Loss = [[-0.00023179]]\n",
      "Epoch 6: Loss = [[-0.00022526]]\n",
      "Epoch 7: Loss = [[-0.00021892]]\n",
      "Epoch 8: Loss = [[-0.00021276]]\n",
      "Epoch 9: Loss = [[-0.00020676]]\n",
      "Epoch 10: Loss = [[-0.00020094]]\n",
      "Epoch 11: Loss = [[-0.00019528]]\n",
      "Epoch 12: Loss = [[-0.00018978]]\n",
      "Epoch 13: Loss = [[-0.00018444]]\n",
      "Epoch 14: Loss = [[-0.00017924]]\n",
      "Epoch 15: Loss = [[-0.00017419]]\n",
      "Epoch 16: Loss = [[-0.00016929]]\n",
      "Epoch 17: Loss = [[-0.00016452]]\n",
      "Epoch 18: Loss = [[-0.00015988]]\n",
      "Epoch 19: Loss = [[-0.00015538]]\n",
      "Epoch 20: Loss = [[-0.000151]]\n",
      "Epoch 21: Loss = [[-0.00014675]]\n",
      "Epoch 22: Loss = [[-0.00014261]]\n",
      "Epoch 23: Loss = [[-0.00013859]]\n",
      "Epoch 24: Loss = [[-0.00013469]]\n",
      "Epoch 25: Loss = [[-0.00013089]]\n",
      "Epoch 26: Loss = [[-0.0001272]]\n",
      "Epoch 27: Loss = [[-0.00012361]]\n",
      "Epoch 28: Loss = [[-0.00012013]]\n",
      "Epoch 29: Loss = [[-0.00011674]]\n",
      "Epoch 30: Loss = [[-0.00011345]]\n",
      "Epoch 31: Loss = [[-0.00011025]]\n",
      "Epoch 32: Loss = [[-0.00010714]]\n",
      "Epoch 33: Loss = [[-0.00010412]]\n",
      "Epoch 34: Loss = [[-0.00010118]]\n",
      "Epoch 35: Loss = [[-9.83297056e-05]]\n",
      "Epoch 36: Loss = [[-9.55556621e-05]]\n",
      "Epoch 37: Loss = [[-9.28596091e-05]]\n",
      "Epoch 38: Loss = [[-9.0239354e-05]]\n",
      "Epoch 39: Loss = [[-8.7692766e-05]]\n",
      "Epoch 40: Loss = [[-8.5217774e-05]]\n",
      "Epoch 41: Loss = [[-8.28123654e-05]]\n",
      "Epoch 42: Loss = [[-8.04745838e-05]]\n",
      "Epoch 43: Loss = [[-7.82025281e-05]]\n",
      "Epoch 44: Loss = [[-7.59943506e-05]]\n",
      "Epoch 45: Loss = [[-7.38482555e-05]]\n",
      "Epoch 46: Loss = [[-7.17624973e-05]]\n",
      "Epoch 47: Loss = [[-6.973538e-05]]\n",
      "Epoch 48: Loss = [[-6.77652548e-05]]\n",
      "Epoch 49: Loss = [[-6.58505197e-05]]\n",
      "Epoch 50: Loss = [[-6.39896174e-05]]\n",
      "Epoch 51: Loss = [[-6.21810345e-05]]\n",
      "Epoch 52: Loss = [[-6.04233002e-05]]\n",
      "Epoch 53: Loss = [[-5.87149849e-05]]\n",
      "Epoch 54: Loss = [[-5.70546994e-05]]\n",
      "Epoch 55: Loss = [[-5.54410934e-05]]\n",
      "Epoch 56: Loss = [[-5.38728546e-05]]\n",
      "Epoch 57: Loss = [[-5.23487076e-05]]\n",
      "Epoch 58: Loss = [[-5.08674128e-05]]\n",
      "Epoch 59: Loss = [[-4.94277655e-05]]\n",
      "Epoch 60: Loss = [[-4.8028595e-05]]\n",
      "Epoch 61: Loss = [[-4.66687632e-05]]\n",
      "Epoch 62: Loss = [[-4.53471643e-05]]\n",
      "Epoch 63: Loss = [[-4.40627234e-05]]\n",
      "Epoch 64: Loss = [[-4.28143959e-05]]\n",
      "Epoch 65: Loss = [[-4.16011665e-05]]\n",
      "Epoch 66: Loss = [[-4.04220485e-05]]\n",
      "Epoch 67: Loss = [[-3.9276083e-05]]\n",
      "Epoch 68: Loss = [[-3.8162338e-05]]\n",
      "Epoch 69: Loss = [[-3.70799076e-05]]\n",
      "Epoch 70: Loss = [[-3.60279114e-05]]\n",
      "Epoch 71: Loss = [[-3.50054939e-05]]\n",
      "Epoch 72: Loss = [[-3.40118236e-05]]\n",
      "Epoch 73: Loss = [[-3.30460922e-05]]\n",
      "Epoch 74: Loss = [[-3.21075144e-05]]\n",
      "Epoch 75: Loss = [[-3.11953267e-05]]\n",
      "Epoch 76: Loss = [[-3.03087873e-05]]\n",
      "Epoch 77: Loss = [[-2.9447175e-05]]\n",
      "Epoch 78: Loss = [[-2.86097892e-05]]\n",
      "Epoch 79: Loss = [[-2.77959488e-05]]\n",
      "Epoch 80: Loss = [[-2.70049917e-05]]\n",
      "Epoch 81: Loss = [[-2.62362748e-05]]\n",
      "Epoch 82: Loss = [[-2.54891727e-05]]\n",
      "Epoch 83: Loss = [[-2.47630778e-05]]\n",
      "Epoch 84: Loss = [[-2.40573995e-05]]\n",
      "Epoch 85: Loss = [[-2.33715639e-05]]\n",
      "Epoch 86: Loss = [[-2.27050131e-05]]\n",
      "Epoch 87: Loss = [[-2.2057205e-05]]\n",
      "Epoch 88: Loss = [[-2.14276126e-05]]\n",
      "Epoch 89: Loss = [[-2.08157239e-05]]\n",
      "Epoch 90: Loss = [[-2.02210412e-05]]\n",
      "Epoch 91: Loss = [[-1.96430806e-05]]\n",
      "Epoch 92: Loss = [[-1.90813722e-05]]\n",
      "Epoch 93: Loss = [[-1.8535459e-05]]\n",
      "Epoch 94: Loss = [[-1.8004897e-05]]\n",
      "Epoch 95: Loss = [[-1.74892546e-05]]\n",
      "Epoch 96: Loss = [[-1.69881124e-05]]\n",
      "Epoch 97: Loss = [[-1.65010627e-05]]\n",
      "Epoch 98: Loss = [[-1.60277094e-05]]\n",
      "Epoch 99: Loss = [[-1.55676673e-05]]\n",
      "Epoch 100: Loss = [[-1.51205624e-05]]\n"
     ]
    }
   ],
   "source": [
    "perceptron = Perceptron(input_size=X_train.shape[1], learning_rate_w=0.0001, learning_rate_b=0.01, epochs=100)\n",
    "perceptron.fit(X_train, y_train)\n"
   ]
  },
  {
   "cell_type": "code",
   "execution_count": 10,
   "metadata": {},
   "outputs": [],
   "source": [
    "y_pred = perceptron.predict(X_test)"
   ]
  },
  {
   "cell_type": "code",
   "execution_count": 11,
   "metadata": {},
   "outputs": [],
   "source": [
    "fig, ax = plt.subplots(figsize=(8, 6)) \n",
    "fig.patch.set_facecolor('#2b2b2b')  \n",
    "\n",
    "ax.plot(range(1, perceptron.epochs + 1), np.array(perceptron.loss_history).flatten(), color='yellow', linewidth=2)\n",
    "ax.set_title(\"Loss Over Epochs\", color='#e0e0e0')\n",
    "ax.set_xlabel(\"Epochs\", color='#e0e0e0')\n",
    "ax.set_ylabel(\"Loss (Mean Squared Error)\", color='#e0e0e0')\n",
    "ax.tick_params(colors='#e0e0e0')\n",
    "ax.grid(color='#555555', linestyle='--', linewidth=0.5, alpha=0.6)\n",
    "ax.set_facecolor('#2b2b2b') \n",
    "\n",
    "plt.tight_layout()\n",
    "plt.show()\n"
   ]
  },
  {
   "cell_type": "code",
   "execution_count": null,
   "metadata": {},
   "outputs": [],
   "source": [
    "import matplotlib.animation as animation\n",
    "from PIL import Image\n",
    "\n",
    "fig = plt.figure(figsize=(14, 8))\n",
    "fig.patch.set_facecolor('#2b2b2b')  \n",
    "ax = fig.add_subplot(111, projection='3d')\n",
    "ax.set_facecolor('#2b2b2b')  \n",
    "\n",
    "ax.scatter(X_train[:, 0], X_train[:, 1], y_train, c='blue', alpha=0.7, label='Train Data')\n",
    "ax.scatter(X_test[:, 0], X_test[:, 1], y_test, c='green', alpha=0.7, label='Test Data')\n",
    "\n",
    "x1_range = np.linspace(X_train[:, 0].min(), X_train[:, 0].max(), 10)\n",
    "x2_range = np.linspace(X_train[:, 1].min(), X_train[:, 1].max(), 10)\n",
    "x1_grid, x2_grid = np.meshgrid(x1_range, x2_range)\n",
    "\n",
    "y_pred_plane = perceptron.b + perceptron.w[0] * x1_grid + perceptron.w[1] * x2_grid\n",
    "\n",
    "plane = ax.plot_surface(x1_grid, x2_grid, y_pred_plane, alpha=0.6, color='yellow', edgecolor='grey')\n",
    "\n",
    "ax.set_title(\"California House Price Prediction (3D)\", fontsize=14, color='#e0e0e0')\n",
    "ax.set_xlabel(\"Median Income (MedInc)\", fontsize=12, color='#e0e0e0')\n",
    "ax.set_ylabel(\"Average Rooms (AveRooms)\", fontsize=12, color='#e0e0e0')\n",
    "ax.set_zlabel(\"House Price ($)\", fontsize=12, color='#e0e0e0')\n",
    "\n",
    "ax.tick_params(axis='x', colors='#e0e0e0')\n",
    "ax.tick_params(axis='y', colors='#e0e0e0')\n",
    "ax.tick_params(axis='z', colors='#e0e0e0')\n",
    "ax.legend(facecolor='#2b2b2b', edgecolor='#555555', framealpha=0.8)\n",
    "\n",
    "ax.grid(color='#555555', linestyle='--', linewidth=0.5, alpha=0.6)\n",
    "\n",
    "def animate(i):\n",
    "    ax.view_init(elev=30 + i, azim=45 + i)  \n",
    "\n",
    "anim = animation.FuncAnimation(fig, animate, frames=50, interval=100, repeat=True)\n",
    "\n",
    "anim.save('house_price_prediction.gif', writer='pillow', fps=10)\n",
    "\n",
    "plt.tight_layout()\n",
    "plt.show()\n"
   ]
  }
 ],
 "metadata": {
  "kernelspec": {
   "display_name": "Python 3",
   "language": "python",
   "name": "python3"
  },
  "language_info": {
   "codemirror_mode": {
    "name": "ipython",
    "version": 3
   },
   "file_extension": ".py",
   "mimetype": "text/x-python",
   "name": "python",
   "nbconvert_exporter": "python",
   "pygments_lexer": "ipython3",
   "version": "3.9.7"
  }
 },
 "nbformat": 4,
 "nbformat_minor": 2
}
