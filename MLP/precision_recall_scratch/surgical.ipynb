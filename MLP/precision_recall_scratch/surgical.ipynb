{
 "cells": [
  {
   "cell_type": "code",
   "execution_count": 1,
   "metadata": {},
   "outputs": [],
   "source": [
    "import numpy as np\n",
    "import pandas as pd\n",
    "import matplotlib.pyplot as plt\n",
    "from sklearn.model_selection import train_test_split\n",
    "from sklearn.metrics import precision_score, recall_score, confusion_matrix\n",
    "from sklearn.preprocessing import StandardScaler\n",
    "import seaborn as sns\n",
    "from perceptron import Perceptron\n"
   ]
  },
  {
   "cell_type": "code",
   "execution_count": 2,
   "metadata": {},
   "outputs": [
    {
     "data": {
      "text/html": [
       "<div>\n",
       "<style scoped>\n",
       "    .dataframe tbody tr th:only-of-type {\n",
       "        vertical-align: middle;\n",
       "    }\n",
       "\n",
       "    .dataframe tbody tr th {\n",
       "        vertical-align: top;\n",
       "    }\n",
       "\n",
       "    .dataframe thead th {\n",
       "        text-align: right;\n",
       "    }\n",
       "</style>\n",
       "<table border=\"1\" class=\"dataframe\">\n",
       "  <thead>\n",
       "    <tr style=\"text-align: right;\">\n",
       "      <th></th>\n",
       "      <th>bmi</th>\n",
       "      <th>Age</th>\n",
       "      <th>asa_status</th>\n",
       "      <th>baseline_cancer</th>\n",
       "      <th>baseline_charlson</th>\n",
       "      <th>baseline_cvd</th>\n",
       "      <th>baseline_dementia</th>\n",
       "      <th>baseline_diabetes</th>\n",
       "      <th>baseline_digestive</th>\n",
       "      <th>baseline_osteoart</th>\n",
       "      <th>...</th>\n",
       "      <th>complication_rsi</th>\n",
       "      <th>dow</th>\n",
       "      <th>gender</th>\n",
       "      <th>hour</th>\n",
       "      <th>month</th>\n",
       "      <th>moonphase</th>\n",
       "      <th>mort30</th>\n",
       "      <th>mortality_rsi</th>\n",
       "      <th>race</th>\n",
       "      <th>complication</th>\n",
       "    </tr>\n",
       "  </thead>\n",
       "  <tbody>\n",
       "    <tr>\n",
       "      <th>0</th>\n",
       "      <td>19.31</td>\n",
       "      <td>59.2</td>\n",
       "      <td>1</td>\n",
       "      <td>1</td>\n",
       "      <td>0</td>\n",
       "      <td>0</td>\n",
       "      <td>0</td>\n",
       "      <td>0</td>\n",
       "      <td>0</td>\n",
       "      <td>0</td>\n",
       "      <td>...</td>\n",
       "      <td>-0.57</td>\n",
       "      <td>3</td>\n",
       "      <td>0</td>\n",
       "      <td>7.63</td>\n",
       "      <td>6</td>\n",
       "      <td>1</td>\n",
       "      <td>0</td>\n",
       "      <td>-0.43</td>\n",
       "      <td>1</td>\n",
       "      <td>0</td>\n",
       "    </tr>\n",
       "    <tr>\n",
       "      <th>1</th>\n",
       "      <td>18.73</td>\n",
       "      <td>59.1</td>\n",
       "      <td>0</td>\n",
       "      <td>0</td>\n",
       "      <td>0</td>\n",
       "      <td>0</td>\n",
       "      <td>0</td>\n",
       "      <td>0</td>\n",
       "      <td>0</td>\n",
       "      <td>0</td>\n",
       "      <td>...</td>\n",
       "      <td>0.21</td>\n",
       "      <td>0</td>\n",
       "      <td>0</td>\n",
       "      <td>12.93</td>\n",
       "      <td>0</td>\n",
       "      <td>1</td>\n",
       "      <td>0</td>\n",
       "      <td>-0.41</td>\n",
       "      <td>1</td>\n",
       "      <td>0</td>\n",
       "    </tr>\n",
       "    <tr>\n",
       "      <th>2</th>\n",
       "      <td>21.85</td>\n",
       "      <td>59.0</td>\n",
       "      <td>0</td>\n",
       "      <td>0</td>\n",
       "      <td>0</td>\n",
       "      <td>0</td>\n",
       "      <td>0</td>\n",
       "      <td>0</td>\n",
       "      <td>0</td>\n",
       "      <td>0</td>\n",
       "      <td>...</td>\n",
       "      <td>0.00</td>\n",
       "      <td>2</td>\n",
       "      <td>0</td>\n",
       "      <td>7.68</td>\n",
       "      <td>5</td>\n",
       "      <td>3</td>\n",
       "      <td>0</td>\n",
       "      <td>0.08</td>\n",
       "      <td>1</td>\n",
       "      <td>0</td>\n",
       "    </tr>\n",
       "    <tr>\n",
       "      <th>3</th>\n",
       "      <td>18.49</td>\n",
       "      <td>59.0</td>\n",
       "      <td>1</td>\n",
       "      <td>0</td>\n",
       "      <td>1</td>\n",
       "      <td>0</td>\n",
       "      <td>0</td>\n",
       "      <td>1</td>\n",
       "      <td>1</td>\n",
       "      <td>0</td>\n",
       "      <td>...</td>\n",
       "      <td>-0.65</td>\n",
       "      <td>2</td>\n",
       "      <td>1</td>\n",
       "      <td>7.58</td>\n",
       "      <td>4</td>\n",
       "      <td>3</td>\n",
       "      <td>0</td>\n",
       "      <td>-0.32</td>\n",
       "      <td>1</td>\n",
       "      <td>0</td>\n",
       "    </tr>\n",
       "    <tr>\n",
       "      <th>4</th>\n",
       "      <td>19.70</td>\n",
       "      <td>59.0</td>\n",
       "      <td>1</td>\n",
       "      <td>0</td>\n",
       "      <td>0</td>\n",
       "      <td>0</td>\n",
       "      <td>0</td>\n",
       "      <td>0</td>\n",
       "      <td>0</td>\n",
       "      <td>0</td>\n",
       "      <td>...</td>\n",
       "      <td>0.00</td>\n",
       "      <td>0</td>\n",
       "      <td>0</td>\n",
       "      <td>7.88</td>\n",
       "      <td>11</td>\n",
       "      <td>0</td>\n",
       "      <td>0</td>\n",
       "      <td>0.00</td>\n",
       "      <td>1</td>\n",
       "      <td>0</td>\n",
       "    </tr>\n",
       "  </tbody>\n",
       "</table>\n",
       "<p>5 rows × 25 columns</p>\n",
       "</div>"
      ],
      "text/plain": [
       "     bmi   Age  asa_status  baseline_cancer  baseline_charlson  baseline_cvd  \\\n",
       "0  19.31  59.2           1                1                  0             0   \n",
       "1  18.73  59.1           0                0                  0             0   \n",
       "2  21.85  59.0           0                0                  0             0   \n",
       "3  18.49  59.0           1                0                  1             0   \n",
       "4  19.70  59.0           1                0                  0             0   \n",
       "\n",
       "   baseline_dementia  baseline_diabetes  baseline_digestive  \\\n",
       "0                  0                  0                   0   \n",
       "1                  0                  0                   0   \n",
       "2                  0                  0                   0   \n",
       "3                  0                  1                   1   \n",
       "4                  0                  0                   0   \n",
       "\n",
       "   baseline_osteoart  ...  complication_rsi  dow  gender   hour  month  \\\n",
       "0                  0  ...             -0.57    3       0   7.63      6   \n",
       "1                  0  ...              0.21    0       0  12.93      0   \n",
       "2                  0  ...              0.00    2       0   7.68      5   \n",
       "3                  0  ...             -0.65    2       1   7.58      4   \n",
       "4                  0  ...              0.00    0       0   7.88     11   \n",
       "\n",
       "   moonphase  mort30  mortality_rsi  race  complication  \n",
       "0          1       0          -0.43     1             0  \n",
       "1          1       0          -0.41     1             0  \n",
       "2          3       0           0.08     1             0  \n",
       "3          3       0          -0.32     1             0  \n",
       "4          0       0           0.00     1             0  \n",
       "\n",
       "[5 rows x 25 columns]"
      ]
     },
     "execution_count": 2,
     "metadata": {},
     "output_type": "execute_result"
    }
   ],
   "source": [
    "df = pd.read_csv(\"Surgical-deepnet.csv\")\n",
    "df.head()"
   ]
  },
  {
   "cell_type": "code",
   "execution_count": 3,
   "metadata": {},
   "outputs": [],
   "source": [
    "X = df.drop(\"complication\", axis=1).copy().values\n",
    "Y = df[\"complication\"].copy().values\n",
    "\n",
    "scaler = StandardScaler()\n",
    "X = scaler.fit_transform(X)\n",
    "\n",
    "X_train, X_test, Y_train, Y_test = train_test_split(X, Y, test_size=0.2, random_state=42)\n",
    "X_test, x_validation, Y_test, y_validation = train_test_split(X_test, Y_test, test_size=.25, random_state=42)\n",
    "\n"
   ]
  },
  {
   "cell_type": "code",
   "execution_count": 4,
   "metadata": {},
   "outputs": [
    {
     "name": "stderr",
     "output_type": "stream",
     "text": [
      "  2%|▏         | 1/50 [00:01<01:06,  1.35s/it]"
     ]
    },
    {
     "name": "stdout",
     "output_type": "stream",
     "text": [
      "Epoch 1:\n",
      "Train Loss: 0.39373289901617836, Train Accuracy: 0.6480184489238128\n",
      "Validation Loss: 0.4588314483519177, Validation Accuracy: 0.5709486697124428\n"
     ]
    },
    {
     "name": "stderr",
     "output_type": "stream",
     "text": [
      "  4%|▍         | 2/50 [00:02<01:02,  1.31s/it]"
     ]
    },
    {
     "name": "stdout",
     "output_type": "stream",
     "text": [
      "Epoch 2:\n",
      "Train Loss: 0.36399883523707294, Train Accuracy: 0.6941407584557567\n",
      "Validation Loss: 0.4318640808297801, Validation Accuracy: 0.6079011018543402\n"
     ]
    },
    {
     "name": "stderr",
     "output_type": "stream",
     "text": [
      "  6%|▌         | 3/50 [00:03<00:56,  1.21s/it]"
     ]
    },
    {
     "name": "stdout",
     "output_type": "stream",
     "text": [
      "Epoch 3:\n",
      "Train Loss: 0.3391389891299484, Train Accuracy: 0.7331738981892723\n",
      "Validation Loss: 0.4105725548034477, Validation Accuracy: 0.6345068529965063\n"
     ]
    },
    {
     "name": "stderr",
     "output_type": "stream",
     "text": [
      "  8%|▊         | 4/50 [00:04<00:52,  1.14s/it]"
     ]
    },
    {
     "name": "stdout",
     "output_type": "stream",
     "text": [
      "Epoch 4:\n",
      "Train Loss: 0.3223362112892929, Train Accuracy: 0.7613597540143492\n",
      "Validation Loss: 0.39629309467153845, Validation Accuracy: 0.652983069067455\n"
     ]
    },
    {
     "name": "stderr",
     "output_type": "stream",
     "text": [
      " 10%|█         | 5/50 [00:05<00:50,  1.12s/it]"
     ]
    },
    {
     "name": "stdout",
     "output_type": "stream",
     "text": [
      "Epoch 5:\n",
      "Train Loss: 0.31169331427689434, Train Accuracy: 0.7814314998291766\n",
      "Validation Loss: 0.38693146499624387, Validation Accuracy: 0.6736764310669175\n"
     ]
    },
    {
     "name": "stderr",
     "output_type": "stream",
     "text": [
      " 12%|█▏        | 6/50 [00:07<00:54,  1.23s/it]"
     ]
    },
    {
     "name": "stdout",
     "output_type": "stream",
     "text": [
      "Epoch 6:\n",
      "Train Loss: 0.3047919395770612, Train Accuracy: 0.7914246668944311\n",
      "Validation Loss: 0.3806133099975265, Validation Accuracy: 0.6825450147809728\n"
     ]
    },
    {
     "name": "stderr",
     "output_type": "stream",
     "text": [
      " 14%|█▍        | 7/50 [00:08<00:49,  1.16s/it]"
     ]
    },
    {
     "name": "stdout",
     "output_type": "stream",
     "text": [
      "Epoch 7:\n",
      "Train Loss: 0.3001479431697664, Train Accuracy: 0.7945848992142125\n",
      "Validation Loss: 0.3761748657712859, Validation Accuracy: 0.6847621607094867\n"
     ]
    },
    {
     "name": "stderr",
     "output_type": "stream",
     "text": [
      " 16%|█▌        | 8/50 [00:09<00:46,  1.10s/it]"
     ]
    },
    {
     "name": "stdout",
     "output_type": "stream",
     "text": [
      "Epoch 8:\n",
      "Train Loss: 0.29691384598858517, Train Accuracy: 0.7946703108985309\n",
      "Validation Loss: 0.3729735315347754, Validation Accuracy: 0.6899355012093523\n"
     ]
    },
    {
     "name": "stderr",
     "output_type": "stream",
     "text": [
      " 18%|█▊        | 9/50 [00:10<00:43,  1.07s/it]"
     ]
    },
    {
     "name": "stdout",
     "output_type": "stream",
     "text": [
      "Epoch 9:\n",
      "Train Loss: 0.29459155830992073, Train Accuracy: 0.7958660744789887\n",
      "Validation Loss: 0.37064719593552214, Validation Accuracy: 0.6914135984950283\n"
     ]
    },
    {
     "name": "stderr",
     "output_type": "stream",
     "text": [
      " 20%|██        | 10/50 [00:11<00:42,  1.05s/it]"
     ]
    },
    {
     "name": "stdout",
     "output_type": "stream",
     "text": [
      "Epoch 10:\n",
      "Train Loss: 0.2928803516564927, Train Accuracy: 0.7970618380594465\n",
      "Validation Loss: 0.3689549971164226, Validation Accuracy: 0.6921526471378662\n"
     ]
    },
    {
     "name": "stderr",
     "output_type": "stream",
     "text": [
      " 22%|██▏       | 11/50 [00:12<00:41,  1.06s/it]"
     ]
    },
    {
     "name": "stdout",
     "output_type": "stream",
     "text": [
      "Epoch 11:\n",
      "Train Loss: 0.29159181778038773, Train Accuracy: 0.7980013665869491\n",
      "Validation Loss: 0.36772076932622855, Validation Accuracy: 0.6921526471378662\n"
     ]
    },
    {
     "name": "stderr",
     "output_type": "stream",
     "text": [
      " 24%|██▍       | 12/50 [00:13<00:39,  1.04s/it]"
     ]
    },
    {
     "name": "stdout",
     "output_type": "stream",
     "text": [
      "Epoch 12:\n",
      "Train Loss: 0.2906041760432843, Train Accuracy: 0.7976597198496754\n",
      "Validation Loss: 0.3668153209374605, Validation Accuracy: 0.6928916957807041\n"
     ]
    },
    {
     "name": "stderr",
     "output_type": "stream",
     "text": [
      " 26%|██▌       | 13/50 [00:14<00:37,  1.03s/it]"
     ]
    },
    {
     "name": "stdout",
     "output_type": "stream",
     "text": [
      "Epoch 13:\n",
      "Train Loss: 0.28983638312380094, Train Accuracy: 0.7970618380594465\n",
      "Validation Loss: 0.3661457398891595, Validation Accuracy: 0.6936307444235421\n"
     ]
    },
    {
     "name": "stderr",
     "output_type": "stream",
     "text": [
      " 28%|██▊       | 14/50 [00:15<00:36,  1.00s/it]"
     ]
    },
    {
     "name": "stdout",
     "output_type": "stream",
     "text": [
      "Epoch 14:\n",
      "Train Loss: 0.2892327645217681, Train Accuracy: 0.7971472497437649\n",
      "Validation Loss: 0.365646204816243, Validation Accuracy: 0.6936307444235421\n"
     ]
    },
    {
     "name": "stderr",
     "output_type": "stream",
     "text": [
      " 30%|███       | 15/50 [00:16<00:35,  1.01s/it]"
     ]
    },
    {
     "name": "stdout",
     "output_type": "stream",
     "text": [
      "Epoch 15:\n",
      "Train Loss: 0.2887538391634375, Train Accuracy: 0.7974888964810386\n",
      "Validation Loss: 0.3652702789116455, Validation Accuracy: 0.69436979306638\n"
     ]
    },
    {
     "name": "stderr",
     "output_type": "stream",
     "text": [
      " 32%|███▏      | 16/50 [00:17<00:33,  1.01it/s]"
     ]
    },
    {
     "name": "stdout",
     "output_type": "stream",
     "text": [
      "Epoch 16:\n",
      "Train Loss: 0.2883708073590523, Train Accuracy: 0.7971472497437649\n",
      "Validation Loss: 0.3649850503183528, Validation Accuracy: 0.6936307444235421\n"
     ]
    },
    {
     "name": "stderr",
     "output_type": "stream",
     "text": [
      " 34%|███▍      | 17/50 [00:18<00:32,  1.02it/s]"
     ]
    },
    {
     "name": "stdout",
     "output_type": "stream",
     "text": [
      "Epoch 17:\n",
      "Train Loss: 0.2880621821544765, Train Accuracy: 0.7967201913221729\n",
      "Validation Loss: 0.3647669779286597, Validation Accuracy: 0.69436979306638\n"
     ]
    },
    {
     "name": "stderr",
     "output_type": "stream",
     "text": [
      " 36%|███▌      | 18/50 [00:19<00:30,  1.03it/s]"
     ]
    },
    {
     "name": "stdout",
     "output_type": "stream",
     "text": [
      "Epoch 18:\n",
      "Train Loss: 0.28781166522128926, Train Accuracy: 0.7966347796378545\n",
      "Validation Loss: 0.3645990433508796, Validation Accuracy: 0.6936307444235421\n"
     ]
    },
    {
     "name": "stderr",
     "output_type": "stream",
     "text": [
      " 38%|███▊      | 19/50 [00:20<00:29,  1.03it/s]"
     ]
    },
    {
     "name": "stdout",
     "output_type": "stream",
     "text": [
      "Epoch 19:\n",
      "Train Loss: 0.2876067515389286, Train Accuracy: 0.796122309531944\n",
      "Validation Loss: 0.364468815539255, Validation Accuracy: 0.6951088417092179\n"
     ]
    },
    {
     "name": "stderr",
     "output_type": "stream",
     "text": [
      " 40%|████      | 20/50 [00:21<00:30,  1.01s/it]"
     ]
    },
    {
     "name": "stdout",
     "output_type": "stream",
     "text": [
      "Epoch 20:\n",
      "Train Loss: 0.2874377728440654, Train Accuracy: 0.7958660744789887\n",
      "Validation Loss: 0.36436712920406916, Validation Accuracy: 0.69436979306638\n"
     ]
    },
    {
     "name": "stderr",
     "output_type": "stream",
     "text": [
      " 42%|████▏     | 21/50 [00:22<00:30,  1.04s/it]"
     ]
    },
    {
     "name": "stdout",
     "output_type": "stream",
     "text": [
      "Epoch 21:\n",
      "Train Loss: 0.28729721646068046, Train Accuracy: 0.7956098394260335\n",
      "Validation Loss: 0.3642871720405304, Validation Accuracy: 0.6936307444235421\n"
     ]
    },
    {
     "name": "stderr",
     "output_type": "stream",
     "text": [
      " 44%|████▍     | 22/50 [00:23<00:28,  1.03s/it]"
     ]
    },
    {
     "name": "stdout",
     "output_type": "stream",
     "text": [
      "Epoch 22:\n",
      "Train Loss: 0.28717922534310064, Train Accuracy: 0.7956952511103519\n",
      "Validation Loss: 0.3642238456585232, Validation Accuracy: 0.6921526471378662\n"
     ]
    },
    {
     "name": "stderr",
     "output_type": "stream",
     "text": [
      " 46%|████▌     | 23/50 [00:24<00:27,  1.02s/it]"
     ]
    },
    {
     "name": "stdout",
     "output_type": "stream",
     "text": [
      "Epoch 23:\n",
      "Train Loss: 0.28707922290835974, Train Accuracy: 0.7955244277417151\n",
      "Validation Loss: 0.3641733119892849, Validation Accuracy: 0.6921526471378662\n"
     ]
    },
    {
     "name": "stderr",
     "output_type": "stream",
     "text": [
      " 48%|████▊     | 24/50 [00:25<00:26,  1.02s/it]"
     ]
    },
    {
     "name": "stdout",
     "output_type": "stream",
     "text": [
      "Epoch 24:\n",
      "Train Loss: 0.286993627175273, Train Accuracy: 0.7952681926887598\n",
      "Validation Loss: 0.36413266725462784, Validation Accuracy: 0.6921526471378662\n"
     ]
    },
    {
     "name": "stderr",
     "output_type": "stream",
     "text": [
      " 50%|█████     | 25/50 [00:26<00:25,  1.01s/it]"
     ]
    },
    {
     "name": "stdout",
     "output_type": "stream",
     "text": [
      "Epoch 25:\n",
      "Train Loss: 0.2869196307410553, Train Accuracy: 0.7950119576358046\n",
      "Validation Loss: 0.3640997049998884, Validation Accuracy: 0.6921526471378662\n"
     ]
    },
    {
     "name": "stderr",
     "output_type": "stream",
     "text": [
      " 52%|█████▏    | 26/50 [00:27<00:24,  1.00s/it]"
     ]
    },
    {
     "name": "stdout",
     "output_type": "stream",
     "text": [
      "Epoch 26:\n",
      "Train Loss: 0.2868550303389601, Train Accuracy: 0.7949265459514862\n",
      "Validation Loss: 0.3640727421980261, Validation Accuracy: 0.6921526471378662\n"
     ]
    },
    {
     "name": "stderr",
     "output_type": "stream",
     "text": [
      " 54%|█████▍    | 27/50 [00:28<00:22,  1.00it/s]"
     ]
    },
    {
     "name": "stdout",
     "output_type": "stream",
     "text": [
      "Epoch 27:\n",
      "Train Loss: 0.28679809428116376, Train Accuracy: 0.7944994875298941\n",
      "Validation Loss: 0.36405049059118694, Validation Accuracy: 0.6921526471378662\n"
     ]
    },
    {
     "name": "stderr",
     "output_type": "stream",
     "text": [
      " 56%|█████▌    | 28/50 [00:29<00:22,  1.04s/it]"
     ]
    },
    {
     "name": "stdout",
     "output_type": "stream",
     "text": [
      "Epoch 28:\n",
      "Train Loss: 0.2867474591277975, Train Accuracy: 0.795097369320123\n",
      "Validation Loss: 0.3640319608438059, Validation Accuracy: 0.6921526471378662\n"
     ]
    },
    {
     "name": "stderr",
     "output_type": "stream",
     "text": [
      " 58%|█████▊    | 29/50 [00:30<00:21,  1.03s/it]"
     ]
    },
    {
     "name": "stdout",
     "output_type": "stream",
     "text": [
      "Epoch 29:\n",
      "Train Loss: 0.2867020490394477, Train Accuracy: 0.7952681926887598\n",
      "Validation Loss: 0.36401639072601494, Validation Accuracy: 0.6921526471378662\n"
     ]
    },
    {
     "name": "stderr",
     "output_type": "stream",
     "text": [
      " 60%|██████    | 30/50 [00:31<00:20,  1.00s/it]"
     ]
    },
    {
     "name": "stdout",
     "output_type": "stream",
     "text": [
      "Epoch 30:\n",
      "Train Loss: 0.2866610128008058, Train Accuracy: 0.7949265459514862\n",
      "Validation Loss: 0.36400319104275664, Validation Accuracy: 0.6921526471378662\n"
     ]
    },
    {
     "name": "stderr",
     "output_type": "stream",
     "text": [
      " 62%|██████▏   | 31/50 [00:32<00:18,  1.01it/s]"
     ]
    },
    {
     "name": "stdout",
     "output_type": "stream",
     "text": [
      "Epoch 31:\n",
      "Train Loss: 0.2866236746405254, Train Accuracy: 0.7948411342671677\n",
      "Validation Loss: 0.3639919047604259, Validation Accuracy: 0.6921526471378662\n"
     ]
    },
    {
     "name": "stderr",
     "output_type": "stream",
     "text": [
      " 64%|██████▍   | 32/50 [00:33<00:18,  1.02s/it]"
     ]
    },
    {
     "name": "stdout",
     "output_type": "stream",
     "text": [
      "Epoch 32:\n",
      "Train Loss: 0.28658949583425464, Train Accuracy: 0.7949265459514862\n",
      "Validation Loss: 0.3639821760073605, Validation Accuracy: 0.6921526471378662\n"
     ]
    },
    {
     "name": "stderr",
     "output_type": "stream",
     "text": [
      " 66%|██████▌   | 33/50 [00:34<00:16,  1.00it/s]"
     ]
    },
    {
     "name": "stdout",
     "output_type": "stream",
     "text": [
      "Epoch 33:\n",
      "Train Loss: 0.28655804473958935, Train Accuracy: 0.7950119576358046\n",
      "Validation Loss: 0.36397372649877713, Validation Accuracy: 0.6921526471378662\n"
     ]
    },
    {
     "name": "stderr",
     "output_type": "stream",
     "text": [
      " 68%|██████▊   | 34/50 [00:35<00:15,  1.00it/s]"
     ]
    },
    {
     "name": "stdout",
     "output_type": "stream",
     "text": [
      "Epoch 34:\n",
      "Train Loss: 0.2865289734243277, Train Accuracy: 0.795097369320123\n",
      "Validation Loss: 0.3639663375679199, Validation Accuracy: 0.6921526471378662\n"
     ]
    },
    {
     "name": "stderr",
     "output_type": "stream",
     "text": [
      " 70%|███████   | 35/50 [00:36<00:14,  1.01it/s]"
     ]
    },
    {
     "name": "stdout",
     "output_type": "stream",
     "text": [
      "Epoch 35:\n",
      "Train Loss: 0.28650199944864857, Train Accuracy: 0.7950119576358046\n",
      "Validation Loss: 0.36395983644528396, Validation Accuracy: 0.6921526471378662\n"
     ]
    },
    {
     "name": "stderr",
     "output_type": "stream",
     "text": [
      " 72%|███████▏  | 36/50 [00:37<00:13,  1.01it/s]"
     ]
    },
    {
     "name": "stdout",
     "output_type": "stream",
     "text": [
      "Epoch 36:\n",
      "Train Loss: 0.28647689167392293, Train Accuracy: 0.7950119576358046\n",
      "Validation Loss: 0.36395408576605826, Validation Accuracy: 0.6921526471378662\n"
     ]
    },
    {
     "name": "stderr",
     "output_type": "stream",
     "text": [
      " 74%|███████▍  | 37/50 [00:38<00:12,  1.00it/s]"
     ]
    },
    {
     "name": "stdout",
     "output_type": "stream",
     "text": [
      "Epoch 37:\n",
      "Train Loss: 0.2864534592152707, Train Accuracy: 0.7949265459514862\n",
      "Validation Loss: 0.36394897553652095, Validation Accuracy: 0.6921526471378662\n"
     ]
    },
    {
     "name": "stderr",
     "output_type": "stream",
     "text": [
      " 76%|███████▌  | 38/50 [00:39<00:11,  1.01it/s]"
     ]
    },
    {
     "name": "stdout",
     "output_type": "stream",
     "text": [
      "Epoch 38:\n",
      "Train Loss: 0.2864315428466204, Train Accuracy: 0.7948411342671677\n",
      "Validation Loss: 0.3639444169769217, Validation Accuracy: 0.6921526471378662\n"
     ]
    },
    {
     "name": "stderr",
     "output_type": "stream",
     "text": [
      " 78%|███████▊  | 39/50 [00:40<00:10,  1.02it/s]"
     ]
    },
    {
     "name": "stdout",
     "output_type": "stream",
     "text": [
      "Epoch 39:\n",
      "Train Loss: 0.28641100831733995, Train Accuracy: 0.7949265459514862\n",
      "Validation Loss: 0.36394033779846885, Validation Accuracy: 0.6921526471378662\n"
     ]
    },
    {
     "name": "stderr",
     "output_type": "stream",
     "text": [
      " 80%|████████  | 40/50 [00:41<00:10,  1.04s/it]"
     ]
    },
    {
     "name": "stdout",
     "output_type": "stream",
     "text": [
      "Epoch 40:\n",
      "Train Loss: 0.28639174115743093, Train Accuracy: 0.7950119576358046\n",
      "Validation Loss: 0.3639366785775214, Validation Accuracy: 0.6921526471378662\n"
     ]
    },
    {
     "name": "stderr",
     "output_type": "stream",
     "text": [
      " 82%|████████▏ | 41/50 [00:42<00:09,  1.02s/it]"
     ]
    },
    {
     "name": "stdout",
     "output_type": "stream",
     "text": [
      "Epoch 41:\n",
      "Train Loss: 0.286373642640729, Train Accuracy: 0.7950119576358046\n",
      "Validation Loss: 0.36393338996992963, Validation Accuracy: 0.6921526471378662\n"
     ]
    },
    {
     "name": "stderr",
     "output_type": "stream",
     "text": [
      " 84%|████████▍ | 42/50 [00:43<00:08,  1.01s/it]"
     ]
    },
    {
     "name": "stdout",
     "output_type": "stream",
     "text": [
      "Epoch 42:\n",
      "Train Loss: 0.2863566266480493, Train Accuracy: 0.7952681926887598\n",
      "Validation Loss: 0.36393043056901486, Validation Accuracy: 0.6921526471378662\n"
     ]
    },
    {
     "name": "stderr",
     "output_type": "stream",
     "text": [
      " 86%|████████▌ | 43/50 [00:44<00:07,  1.02s/it]"
     ]
    },
    {
     "name": "stdout",
     "output_type": "stream",
     "text": [
      "Epoch 43:\n",
      "Train Loss: 0.28634061722896675, Train Accuracy: 0.795097369320123\n",
      "Validation Loss: 0.3639277652568148, Validation Accuracy: 0.6921526471378662\n"
     ]
    },
    {
     "name": "stderr",
     "output_type": "stream",
     "text": [
      " 88%|████████▊ | 44/50 [00:45<00:06,  1.01s/it]"
     ]
    },
    {
     "name": "stdout",
     "output_type": "stream",
     "text": [
      "Epoch 44:\n",
      "Train Loss: 0.2863255467053841, Train Accuracy: 0.7950119576358046\n",
      "Validation Loss: 0.3639253639333887, Validation Accuracy: 0.6921526471378662\n"
     ]
    },
    {
     "name": "stderr",
     "output_type": "stream",
     "text": [
      " 90%|█████████ | 45/50 [00:46<00:04,  1.01it/s]"
     ]
    },
    {
     "name": "stdout",
     "output_type": "stream",
     "text": [
      "Epoch 45:\n",
      "Train Loss: 0.28631135419477044, Train Accuracy: 0.7949265459514862\n",
      "Validation Loss: 0.36392320053588073, Validation Accuracy: 0.6921526471378662\n"
     ]
    },
    {
     "name": "stderr",
     "output_type": "stream",
     "text": [
      " 92%|█████████▏| 46/50 [00:47<00:03,  1.02it/s]"
     ]
    },
    {
     "name": "stdout",
     "output_type": "stream",
     "text": [
      "Epoch 46:\n",
      "Train Loss: 0.28629798445813864, Train Accuracy: 0.7950119576358046\n",
      "Validation Loss: 0.36392125227964417, Validation Accuracy: 0.6921526471378662\n"
     ]
    },
    {
     "name": "stderr",
     "output_type": "stream",
     "text": [
      " 94%|█████████▍| 47/50 [00:48<00:02,  1.01it/s]"
     ]
    },
    {
     "name": "stdout",
     "output_type": "stream",
     "text": [
      "Epoch 47:\n",
      "Train Loss: 0.2862853869990325, Train Accuracy: 0.7950119576358046\n",
      "Validation Loss: 0.3639194990695075, Validation Accuracy: 0.6921526471378662\n"
     ]
    },
    {
     "name": "stderr",
     "output_type": "stream",
     "text": [
      " 96%|█████████▌| 48/50 [00:49<00:02,  1.01s/it]"
     ]
    },
    {
     "name": "stdout",
     "output_type": "stream",
     "text": [
      "Epoch 48:\n",
      "Train Loss: 0.28627351535632856, Train Accuracy: 0.795097369320123\n",
      "Validation Loss: 0.3639179230413756, Validation Accuracy: 0.6921526471378662\n"
     ]
    },
    {
     "name": "stderr",
     "output_type": "stream",
     "text": [
      " 98%|█████████▊| 49/50 [00:50<00:00,  1.01it/s]"
     ]
    },
    {
     "name": "stdout",
     "output_type": "stream",
     "text": [
      "Epoch 49:\n",
      "Train Loss: 0.2862623265465537, Train Accuracy: 0.795097369320123\n",
      "Validation Loss: 0.36391650820366556, Validation Accuracy: 0.6914135984950283\n"
     ]
    },
    {
     "name": "stderr",
     "output_type": "stream",
     "text": [
      "100%|██████████| 50/50 [00:51<00:00,  1.03s/it]"
     ]
    },
    {
     "name": "stdout",
     "output_type": "stream",
     "text": [
      "Epoch 50:\n",
      "Train Loss: 0.28625178062146206, Train Accuracy: 0.795097369320123\n",
      "Validation Loss: 0.36391524015520454, Validation Accuracy: 0.6914135984950283\n"
     ]
    },
    {
     "name": "stderr",
     "output_type": "stream",
     "text": [
      "\n"
     ]
    }
   ],
   "source": [
    "model = Perceptron(input_size=X_train.shape[1] , learning_rate=0.0002, epochs=50, activation=\"sigmoid\")\n",
    "model.fit(X_train, Y_train, x_validation, y_validation)\n"
   ]
  },
  {
   "cell_type": "code",
   "execution_count": 5,
   "metadata": {},
   "outputs": [
    {
     "name": "stdout",
     "output_type": "stream",
     "text": [
      "Test Loss: 0.37145227336926456, Test Accuracy: 0.6895628395452493\n"
     ]
    }
   ],
   "source": [
    "train_predictions = model.predict(X_train)\n",
    "test_predictions = model.predict(X_test)\n",
    "\n",
    "test_loss, test_accuracy = model.evaluate(X_test, Y_test)\n",
    "print(f\"Test Loss: {test_loss}, Test Accuracy: {test_accuracy}\")"
   ]
  },
  {
   "cell_type": "code",
   "execution_count": 6,
   "metadata": {},
   "outputs": [
    {
     "data": {
      "image/png": "[encoded data removed]",
      "text/plain": [
       "<Figure size 1500x800 with 2 Axes>"
      ]
     },
     "metadata": {},
     "output_type": "display_data"
    }
   ],
   "source": [
    "epochs = range(1, model.epochs + 1)\n",
    "\n",
    "fig = plt.figure(figsize=(15, 8))\n",
    "fig.patch.set_facecolor('#2b2b2b')  \n",
    "\n",
    "ax1 = fig.add_subplot(121)  \n",
    "ax2 = fig.add_subplot(122)  \n",
    "\n",
    "\n",
    "ax1.plot(epochs, model.train_accuracies, label='Training Accuracy', color='lime', linewidth=2.5)\n",
    "ax1.plot(epochs, model.validation_accuracies, label='Test Accuracy', color='cyan', linewidth=2.5)\n",
    "ax1.set_title(\"Accuracy per Epoch\", fontsize=14, color='#e0e0e0')\n",
    "ax1.set_xlabel(\"Epoch\", fontsize=12, color='#e0e0e0')\n",
    "ax1.set_ylabel(\"Accuracy\", fontsize=12, color='#e0e0e0')\n",
    "ax1.legend(loc='best', fontsize=10, facecolor='#2b2b2b', edgecolor='#555555')\n",
    "ax1.tick_params(axis='x', colors='#e0e0e0')\n",
    "ax1.tick_params(axis='y', colors='#e0e0e0')\n",
    "ax1.grid(color='#555555', linestyle='--', linewidth=0.5, alpha=0.6)\n",
    "ax1.set_facecolor('#2b2b2b')  \n",
    "\n",
    "\n",
    "ax2.plot(epochs, model.train_losses, label='Training Loss', color='orange', linewidth=2.5)\n",
    "ax2.plot(epochs, model.validation_losses, label='Test Loss', color='red', linewidth=2.5)\n",
    "ax2.set_title(\"Loss per Epoch\", fontsize=14, color='#e0e0e0')\n",
    "ax2.set_xlabel(\"Epoch\", fontsize=12, color='#e0e0e0')\n",
    "ax2.set_ylabel(\"Loss\", fontsize=12, color='#e0e0e0')\n",
    "ax2.legend(loc='best', fontsize=10, facecolor='#2b2b2b', edgecolor='#555555')\n",
    "ax2.tick_params(axis='x', colors='#e0e0e0')\n",
    "ax2.tick_params(axis='y', colors='#e0e0e0')\n",
    "ax2.grid(color='#555555', linestyle='--', linewidth=0.5, alpha=0.6)\n",
    "ax2.set_facecolor('#2b2b2b') \n",
    "\n",
    "\n",
    "plt.tight_layout()\n",
    "plt.show()\n",
    "\n"
   ]
  },
  {
   "cell_type": "code",
   "execution_count": null,
   "metadata": {},
   "outputs": [
    {
     "name": "stdout",
     "output_type": "stream",
     "text": [
      "Confusion Matrix:\n",
      "[[1560  113]\n",
      " [ 331  191]]\n",
      "\n",
      "Custom Precision: 0.6282894736842105\n",
      "Custom Recall: 0.36590038314176243\n",
      "\n",
      "Scikit-Learn Precision: 0.6282894736842105\n",
      "Scikit-Learn Recall: 0.36590038314176243\n"
     ]
    }
   ],
   "source": [
    "#precision and recall from scratch\n",
    "def custom_precision(y_true, y_pred):\n",
    "    tp = np.sum((y_true == 1) & (y_pred == 1))\n",
    "    fp = np.sum((y_true == 0) & (y_pred == 1))\n",
    "    precision = tp / (tp + fp) if (tp + fp) > 0 else 0\n",
    "    return precision\n",
    "\n",
    "def custom_recall(y_true, y_pred):\n",
    "    tp = np.sum((y_true == 1) & (y_pred == 1))\n",
    "    fn = np.sum((y_true == 1) & (y_pred == 0))\n",
    "    recall = tp / (tp + fn) if (tp + fn) > 0 else 0\n",
    "    return recall\n",
    "\n",
    "\n",
    "Y_test = np.where(Y_test > 0.5, 1, 0).flatten()\n",
    "test_predictions = np.where(model.predict(X_test) > 0.5, 1, 0).flatten()\n",
    "\n",
    "# Confusion Matrix\n",
    "conf_matrix = confusion_matrix(Y_test, test_predictions)\n",
    "print(\"Confusion Matrix:\")\n",
    "print(conf_matrix)\n",
    "\n",
    "# Compute Precision and Recall using custom functions\n",
    "custom_precision_value = custom_precision(Y_test, test_predictions)\n",
    "custom_recall_value = custom_recall(Y_test, test_predictions)\n",
    "\n",
    "print(\"\\nCustom Precision:\", custom_precision_value)\n",
    "print(\"Custom Recall:\", custom_recall_value)\n",
    "\n",
    "# Compare with Scikit-Learn results\n",
    "sklearn_precision = precision_score(Y_test, test_predictions)\n",
    "sklearn_recall = recall_score(Y_test, test_predictions)\n",
    "\n",
    "print(\"\\nScikit-Learn Precision:\", sklearn_precision)\n",
    "print(\"Scikit-Learn Recall:\", sklearn_recall)\n"
   ]
  },
  {
   "cell_type": "code",
   "execution_count": 10,
   "metadata": {},
   "outputs": [
    {
     "data": {
      "image/png": "[encoded data removed]",
      "text/plain": [
       "<Figure size 800x600 with 1 Axes>"
      ]
     },
     "metadata": {},
     "output_type": "display_data"
    }
   ],
   "source": [
    "plt.figure(figsize=(8, 6))\n",
    "fig = plt.gcf()  \n",
    "fig.patch.set_facecolor('#2b2b2b')  \n",
    "\n",
    "sns.heatmap(conf_matrix, annot=True, fmt=\"d\", cmap=\"coolwarm\", cbar=False)\n",
    "plt.title(\"Confusion Matrix\", fontsize=14, color='#e0e0e0')\n",
    "plt.xlabel(\"Predicted Labels\", fontsize=12, color='#e0e0e0')\n",
    "plt.ylabel(\"True Labels\", fontsize=12, color='#e0e0e0')\n",
    "plt.xticks(color='#e0e0e0')\n",
    "plt.yticks(color='#e0e0e0')\n",
    "\n",
    "plt.tight_layout()\n",
    "plt.show()\n"
   ]
  },
  {
   "cell_type": "code",
   "execution_count": 11,
   "metadata": {},
   "outputs": [
    {
     "name": "stderr",
     "output_type": "stream",
     "text": [
      "  2%|▏         | 1/50 [00:00<00:46,  1.05it/s]"
     ]
    },
    {
     "name": "stdout",
     "output_type": "stream",
     "text": [
      "Epoch 1:\n",
      "Train Loss: 0.5594882782874735, Train Accuracy: 0.6776563033823026\n",
      "Validation Loss: 0.5162215799288015, Validation Accuracy: 0.5702096210696049\n"
     ]
    },
    {
     "name": "stderr",
     "output_type": "stream",
     "text": [
      "  4%|▍         | 2/50 [00:01<00:43,  1.11it/s]"
     ]
    },
    {
     "name": "stdout",
     "output_type": "stream",
     "text": [
      "Epoch 2:\n",
      "Train Loss: 0.35746375321981766, Train Accuracy: 0.7271096686026648\n",
      "Validation Loss: 0.408793467485592, Validation Accuracy: 0.6374630475678581\n"
     ]
    },
    {
     "name": "stderr",
     "output_type": "stream",
     "text": [
      "  6%|▌         | 3/50 [00:02<00:44,  1.06it/s]"
     ]
    },
    {
     "name": "stdout",
     "output_type": "stream",
     "text": [
      "Epoch 3:\n",
      "Train Loss: 0.3128398639003009, Train Accuracy: 0.7752818585582507\n",
      "Validation Loss: 0.3860293489871425, Validation Accuracy: 0.6648078473528621\n"
     ]
    },
    {
     "name": "stderr",
     "output_type": "stream",
     "text": [
      "  8%|▊         | 4/50 [00:03<00:43,  1.05it/s]"
     ]
    },
    {
     "name": "stdout",
     "output_type": "stream",
     "text": [
      "Epoch 4:\n",
      "Train Loss: 0.3020249060013967, Train Accuracy: 0.787068670994192\n",
      "Validation Loss: 0.37920104917074365, Validation Accuracy: 0.6758935769954313\n"
     ]
    },
    {
     "name": "stderr",
     "output_type": "stream",
     "text": [
      " 10%|█         | 5/50 [00:04<00:42,  1.07it/s]"
     ]
    },
    {
     "name": "stdout",
     "output_type": "stream",
     "text": [
      "Epoch 5:\n",
      "Train Loss: 0.29929456710201685, Train Accuracy: 0.7900580799453365\n",
      "Validation Loss: 0.37703919417805487, Validation Accuracy: 0.6788497715667832\n"
     ]
    },
    {
     "name": "stderr",
     "output_type": "stream",
     "text": [
      " 12%|█▏        | 6/50 [00:05<00:40,  1.08it/s]"
     ]
    },
    {
     "name": "stdout",
     "output_type": "stream",
     "text": [
      "Epoch 6:\n",
      "Train Loss: 0.29859089150013507, Train Accuracy: 0.79202254868466\n",
      "Validation Loss: 0.37617630655720136, Validation Accuracy: 0.680327868852459\n"
     ]
    },
    {
     "name": "stderr",
     "output_type": "stream",
     "text": [
      " 14%|█▍        | 7/50 [00:06<00:44,  1.03s/it]"
     ]
    },
    {
     "name": "stdout",
     "output_type": "stream",
     "text": [
      "Epoch 7:\n",
      "Train Loss: 0.2983944172610845, Train Accuracy: 0.7924496071062521\n",
      "Validation Loss: 0.3754764989348576, Validation Accuracy: 0.680327868852459\n"
     ]
    },
    {
     "name": "stderr",
     "output_type": "stream",
     "text": [
      " 16%|█▌        | 8/50 [00:08<00:46,  1.10s/it]"
     ]
    },
    {
     "name": "stdout",
     "output_type": "stream",
     "text": [
      "Epoch 8:\n",
      "Train Loss: 0.29806191489100575, Train Accuracy: 0.7927058421592074\n",
      "Validation Loss: 0.3740300271638809, Validation Accuracy: 0.6825450147809728\n"
     ]
    },
    {
     "name": "stderr",
     "output_type": "stream",
     "text": [
      " 18%|█▊        | 9/50 [00:08<00:42,  1.03s/it]"
     ]
    },
    {
     "name": "stdout",
     "output_type": "stream",
     "text": [
      "Epoch 9:\n",
      "Train Loss: 0.29797578440418404, Train Accuracy: 0.7938161940553468\n",
      "Validation Loss: 0.37343373041679156, Validation Accuracy: 0.6818059661381349\n"
     ]
    },
    {
     "name": "stderr",
     "output_type": "stream",
     "text": [
      " 20%|██        | 10/50 [00:09<00:39,  1.00it/s]"
     ]
    },
    {
     "name": "stdout",
     "output_type": "stream",
     "text": [
      "Epoch 10:\n",
      "Train Loss: 0.2980520103355862, Train Accuracy: 0.7938161940553468\n",
      "Validation Loss: 0.3734007183516676, Validation Accuracy: 0.6825450147809728\n"
     ]
    },
    {
     "name": "stderr",
     "output_type": "stream",
     "text": [
      " 22%|██▏       | 11/50 [00:10<00:38,  1.00it/s]"
     ]
    },
    {
     "name": "stdout",
     "output_type": "stream",
     "text": [
      "Epoch 11:\n",
      "Train Loss: 0.2981142255341804, Train Accuracy: 0.794072429108302\n",
      "Validation Loss: 0.37340322365861517, Validation Accuracy: 0.6832840634238108\n"
     ]
    },
    {
     "name": "stderr",
     "output_type": "stream",
     "text": [
      " 24%|██▍       | 12/50 [00:11<00:36,  1.04it/s]"
     ]
    },
    {
     "name": "stdout",
     "output_type": "stream",
     "text": [
      "Epoch 12:\n",
      "Train Loss: 0.2981534013515592, Train Accuracy: 0.7942432524769388\n",
      "Validation Loss: 0.37339189830290603, Validation Accuracy: 0.6840231120666488\n"
     ]
    },
    {
     "name": "stderr",
     "output_type": "stream",
     "text": [
      " 26%|██▌       | 13/50 [00:12<00:34,  1.07it/s]"
     ]
    },
    {
     "name": "stdout",
     "output_type": "stream",
     "text": [
      "Epoch 13:\n",
      "Train Loss: 0.298179390759533, Train Accuracy: 0.7939870174239836\n",
      "Validation Loss: 0.37338063963700596, Validation Accuracy: 0.6840231120666488\n"
     ]
    },
    {
     "name": "stderr",
     "output_type": "stream",
     "text": [
      " 28%|██▊       | 14/50 [00:13<00:33,  1.08it/s]"
     ]
    },
    {
     "name": "stdout",
     "output_type": "stream",
     "text": [
      "Epoch 14:\n",
      "Train Loss: 0.29819778216006415, Train Accuracy: 0.7941578407926204\n",
      "Validation Loss: 0.3733721743624024, Validation Accuracy: 0.6840231120666488\n"
     ]
    },
    {
     "name": "stderr",
     "output_type": "stream",
     "text": [
      " 30%|███       | 15/50 [00:14<00:31,  1.10it/s]"
     ]
    },
    {
     "name": "stdout",
     "output_type": "stream",
     "text": [
      "Epoch 15:\n",
      "Train Loss: 0.29821055184694173, Train Accuracy: 0.7941578407926204\n",
      "Validation Loss: 0.3733662330614503, Validation Accuracy: 0.6840231120666488\n"
     ]
    },
    {
     "name": "stderr",
     "output_type": "stream",
     "text": [
      " 32%|███▏      | 16/50 [00:15<00:30,  1.12it/s]"
     ]
    },
    {
     "name": "stdout",
     "output_type": "stream",
     "text": [
      "Epoch 16:\n",
      "Train Loss: 0.29821932025676323, Train Accuracy: 0.7941578407926204\n",
      "Validation Loss: 0.37336214924303646, Validation Accuracy: 0.6840231120666488\n"
     ]
    },
    {
     "name": "stderr",
     "output_type": "stream",
     "text": [
      " 34%|███▍      | 17/50 [00:16<00:28,  1.14it/s]"
     ]
    },
    {
     "name": "stdout",
     "output_type": "stream",
     "text": [
      "Epoch 17:\n",
      "Train Loss: 0.2982252767678953, Train Accuracy: 0.794072429108302\n",
      "Validation Loss: 0.3733593609842105, Validation Accuracy: 0.6847621607094867\n"
     ]
    },
    {
     "name": "stderr",
     "output_type": "stream",
     "text": [
      " 36%|███▌      | 18/50 [00:17<00:29,  1.10it/s]"
     ]
    },
    {
     "name": "stdout",
     "output_type": "stream",
     "text": [
      "Epoch 18:\n",
      "Train Loss: 0.2982293256790923, Train Accuracy: 0.7939870174239836\n",
      "Validation Loss: 0.3733574615691701, Validation Accuracy: 0.6847621607094867\n"
     ]
    },
    {
     "name": "stderr",
     "output_type": "stream",
     "text": [
      " 38%|███▊      | 19/50 [00:17<00:27,  1.11it/s]"
     ]
    },
    {
     "name": "stdout",
     "output_type": "stream",
     "text": [
      "Epoch 19:\n",
      "Train Loss: 0.2982320703353237, Train Accuracy: 0.7939016057396652\n",
      "Validation Loss: 0.3733561687824071, Validation Accuracy: 0.6847621607094867\n"
     ]
    },
    {
     "name": "stderr",
     "output_type": "stream",
     "text": [
      " 40%|████      | 20/50 [00:18<00:26,  1.13it/s]"
     ]
    },
    {
     "name": "stdout",
     "output_type": "stream",
     "text": [
      "Epoch 20:\n",
      "Train Loss: 0.2982339291855837, Train Accuracy: 0.7939016057396652\n",
      "Validation Loss: 0.3733552893240563, Validation Accuracy: 0.6847621607094867\n"
     ]
    },
    {
     "name": "stderr",
     "output_type": "stream",
     "text": [
      " 42%|████▏     | 21/50 [00:19<00:25,  1.14it/s]"
     ]
    },
    {
     "name": "stdout",
     "output_type": "stream",
     "text": [
      "Epoch 21:\n",
      "Train Loss: 0.2982351974843511, Train Accuracy: 0.7939016057396652\n",
      "Validation Loss: 0.3733546913134915, Validation Accuracy: 0.6847621607094867\n"
     ]
    },
    {
     "name": "stderr",
     "output_type": "stream",
     "text": [
      " 44%|████▍     | 22/50 [00:20<00:24,  1.15it/s]"
     ]
    },
    {
     "name": "stdout",
     "output_type": "stream",
     "text": [
      "Epoch 22:\n",
      "Train Loss: 0.29823605850847174, Train Accuracy: 0.7939016057396652\n",
      "Validation Loss: 0.37335428487354455, Validation Accuracy: 0.6847621607094867\n"
     ]
    },
    {
     "name": "stderr",
     "output_type": "stream",
     "text": [
      " 46%|████▌     | 23/50 [00:21<00:23,  1.15it/s]"
     ]
    },
    {
     "name": "stdout",
     "output_type": "stream",
     "text": [
      "Epoch 23:\n",
      "Train Loss: 0.2982366406895377, Train Accuracy: 0.7939016057396652\n",
      "Validation Loss: 0.37335400877498365, Validation Accuracy: 0.6847621607094867\n"
     ]
    },
    {
     "name": "stderr",
     "output_type": "stream",
     "text": [
      " 48%|████▊     | 24/50 [00:22<00:22,  1.15it/s]"
     ]
    },
    {
     "name": "stdout",
     "output_type": "stream",
     "text": [
      "Epoch 24:\n",
      "Train Loss: 0.29823703416538516, Train Accuracy: 0.7939016057396652\n",
      "Validation Loss: 0.37335382131680817, Validation Accuracy: 0.6847621607094867\n"
     ]
    },
    {
     "name": "stderr",
     "output_type": "stream",
     "text": [
      " 50%|█████     | 25/50 [00:23<00:21,  1.16it/s]"
     ]
    },
    {
     "name": "stdout",
     "output_type": "stream",
     "text": [
      "Epoch 25:\n",
      "Train Loss: 0.29823730000262205, Train Accuracy: 0.7939016057396652\n",
      "Validation Loss: 0.37335369410837804, Validation Accuracy: 0.6847621607094867\n"
     ]
    },
    {
     "name": "stderr",
     "output_type": "stream",
     "text": [
      " 52%|█████▏    | 26/50 [00:24<00:21,  1.12it/s]"
     ]
    },
    {
     "name": "stdout",
     "output_type": "stream",
     "text": [
      "Epoch 26:\n",
      "Train Loss: 0.2982374795452037, Train Accuracy: 0.7939016057396652\n",
      "Validation Loss: 0.37335360782991034, Validation Accuracy: 0.6847621607094867\n"
     ]
    },
    {
     "name": "stderr",
     "output_type": "stream",
     "text": [
      " 54%|█████▍    | 27/50 [00:24<00:20,  1.14it/s]"
     ]
    },
    {
     "name": "stdout",
     "output_type": "stream",
     "text": [
      "Epoch 27:\n",
      "Train Loss: 0.2982376007684701, Train Accuracy: 0.7939016057396652\n",
      "Validation Loss: 0.37335354934134335, Validation Accuracy: 0.6847621607094867\n"
     ]
    },
    {
     "name": "stderr",
     "output_type": "stream",
     "text": [
      " 56%|█████▌    | 28/50 [00:25<00:20,  1.10it/s]"
     ]
    },
    {
     "name": "stdout",
     "output_type": "stream",
     "text": [
      "Epoch 28:\n",
      "Train Loss: 0.29823768259270295, Train Accuracy: 0.7939016057396652\n",
      "Validation Loss: 0.37335350971075904, Validation Accuracy: 0.6847621607094867\n"
     ]
    },
    {
     "name": "stderr",
     "output_type": "stream",
     "text": [
      " 58%|█████▊    | 29/50 [00:26<00:19,  1.09it/s]"
     ]
    },
    {
     "name": "stdout",
     "output_type": "stream",
     "text": [
      "Epoch 29:\n",
      "Train Loss: 0.2982377378086067, Train Accuracy: 0.7939016057396652\n",
      "Validation Loss: 0.3733534828702505, Validation Accuracy: 0.6847621607094867\n"
     ]
    },
    {
     "name": "stderr",
     "output_type": "stream",
     "text": [
      " 60%|██████    | 30/50 [00:27<00:18,  1.06it/s]"
     ]
    },
    {
     "name": "stdout",
     "output_type": "stream",
     "text": [
      "Epoch 30:\n",
      "Train Loss: 0.2982377750598078, Train Accuracy: 0.7939016057396652\n",
      "Validation Loss: 0.3733534646999586, Validation Accuracy: 0.6847621607094867\n"
     ]
    },
    {
     "name": "stderr",
     "output_type": "stream",
     "text": [
      " 62%|██████▏   | 31/50 [00:28<00:17,  1.07it/s]"
     ]
    },
    {
     "name": "stdout",
     "output_type": "stream",
     "text": [
      "Epoch 31:\n",
      "Train Loss: 0.2982378001854318, Train Accuracy: 0.7939016057396652\n",
      "Validation Loss: 0.3733534524042375, Validation Accuracy: 0.6847621607094867\n"
     ]
    },
    {
     "name": "stderr",
     "output_type": "stream",
     "text": [
      " 64%|██████▍   | 32/50 [00:29<00:16,  1.10it/s]"
     ]
    },
    {
     "name": "stdout",
     "output_type": "stream",
     "text": [
      "Epoch 32:\n",
      "Train Loss: 0.2982378171288029, Train Accuracy: 0.7939016057396652\n",
      "Validation Loss: 0.3733534440870426, Validation Accuracy: 0.6847621607094867\n"
     ]
    },
    {
     "name": "stderr",
     "output_type": "stream",
     "text": [
      " 66%|██████▌   | 33/50 [00:30<00:15,  1.08it/s]"
     ]
    },
    {
     "name": "stdout",
     "output_type": "stream",
     "text": [
      "Epoch 33:\n",
      "Train Loss: 0.2982378285521781, Train Accuracy: 0.7939016057396652\n",
      "Validation Loss: 0.3733534384631139, Validation Accuracy: 0.6847621607094867\n"
     ]
    },
    {
     "name": "stderr",
     "output_type": "stream",
     "text": [
      " 68%|██████▊   | 34/50 [00:31<00:14,  1.10it/s]"
     ]
    },
    {
     "name": "stdout",
     "output_type": "stream",
     "text": [
      "Epoch 34:\n",
      "Train Loss: 0.29823783625244327, Train Accuracy: 0.7939016057396652\n",
      "Validation Loss: 0.37335343466164334, Validation Accuracy: 0.6847621607094867\n"
     ]
    },
    {
     "name": "stderr",
     "output_type": "stream",
     "text": [
      " 70%|███████   | 35/50 [00:32<00:13,  1.12it/s]"
     ]
    },
    {
     "name": "stdout",
     "output_type": "stream",
     "text": [
      "Epoch 35:\n",
      "Train Loss: 0.2982378414420907, Train Accuracy: 0.7939016057396652\n",
      "Validation Loss: 0.37335343209289934, Validation Accuracy: 0.6847621607094867\n"
     ]
    },
    {
     "name": "stderr",
     "output_type": "stream",
     "text": [
      " 72%|███████▏  | 36/50 [00:33<00:12,  1.12it/s]"
     ]
    },
    {
     "name": "stdout",
     "output_type": "stream",
     "text": [
      "Epoch 36:\n",
      "Train Loss: 0.2982378449390885, Train Accuracy: 0.7939016057396652\n",
      "Validation Loss: 0.37335343035767715, Validation Accuracy: 0.6847621607094867\n"
     ]
    },
    {
     "name": "stderr",
     "output_type": "stream",
     "text": [
      " 74%|███████▍  | 37/50 [00:34<00:11,  1.14it/s]"
     ]
    },
    {
     "name": "stdout",
     "output_type": "stream",
     "text": [
      "Epoch 37:\n",
      "Train Loss: 0.2982378472951239, Train Accuracy: 0.7939016057396652\n",
      "Validation Loss: 0.37335342918585396, Validation Accuracy: 0.6847621607094867\n"
     ]
    },
    {
     "name": "stderr",
     "output_type": "stream",
     "text": [
      " 76%|███████▌  | 38/50 [00:34<00:10,  1.13it/s]"
     ]
    },
    {
     "name": "stdout",
     "output_type": "stream",
     "text": [
      "Epoch 38:\n",
      "Train Loss: 0.2982378488822122, Train Accuracy: 0.7939016057396652\n",
      "Validation Loss: 0.3733534283947231, Validation Accuracy: 0.6847621607094867\n"
     ]
    },
    {
     "name": "stderr",
     "output_type": "stream",
     "text": [
      " 78%|███████▊  | 39/50 [00:35<00:09,  1.13it/s]"
     ]
    },
    {
     "name": "stdout",
     "output_type": "stream",
     "text": [
      "Epoch 39:\n",
      "Train Loss: 0.2982378499511599, Train Accuracy: 0.7939016057396652\n",
      "Validation Loss: 0.3733534278607481, Validation Accuracy: 0.6847621607094867\n"
     ]
    },
    {
     "name": "stderr",
     "output_type": "stream",
     "text": [
      " 80%|████████  | 40/50 [00:36<00:08,  1.14it/s]"
     ]
    },
    {
     "name": "stdout",
     "output_type": "stream",
     "text": [
      "Epoch 40:\n",
      "Train Loss: 0.29823785067102443, Train Accuracy: 0.7939016057396652\n",
      "Validation Loss: 0.37335342750043066, Validation Accuracy: 0.6847621607094867\n"
     ]
    },
    {
     "name": "stderr",
     "output_type": "stream",
     "text": [
      " 82%|████████▏ | 41/50 [00:37<00:08,  1.06it/s]"
     ]
    },
    {
     "name": "stdout",
     "output_type": "stream",
     "text": [
      "Epoch 41:\n",
      "Train Loss: 0.2982378511557413, Train Accuracy: 0.7939016057396652\n",
      "Validation Loss: 0.37335342725735227, Validation Accuracy: 0.6847621607094867\n"
     ]
    },
    {
     "name": "stderr",
     "output_type": "stream",
     "text": [
      " 84%|████████▍ | 42/50 [00:38<00:07,  1.09it/s]"
     ]
    },
    {
     "name": "stdout",
     "output_type": "stream",
     "text": [
      "Epoch 42:\n",
      "Train Loss: 0.2982378514820813, Train Accuracy: 0.7939016057396652\n",
      "Validation Loss: 0.3733534270934011, Validation Accuracy: 0.6847621607094867\n"
     ]
    },
    {
     "name": "stderr",
     "output_type": "stream",
     "text": [
      " 86%|████████▌ | 43/50 [00:39<00:06,  1.12it/s]"
     ]
    },
    {
     "name": "stdout",
     "output_type": "stream",
     "text": [
      "Epoch 43:\n",
      "Train Loss: 0.2982378517017664, Train Accuracy: 0.7939016057396652\n",
      "Validation Loss: 0.3733534269828443, Validation Accuracy: 0.6847621607094867\n"
     ]
    },
    {
     "name": "stderr",
     "output_type": "stream",
     "text": [
      " 88%|████████▊ | 44/50 [00:40<00:05,  1.13it/s]"
     ]
    },
    {
     "name": "stdout",
     "output_type": "stream",
     "text": [
      "Epoch 44:\n",
      "Train Loss: 0.2982378518496363, Train Accuracy: 0.7939016057396652\n",
      "Validation Loss: 0.3733534269083065, Validation Accuracy: 0.6847621607094867\n"
     ]
    },
    {
     "name": "stderr",
     "output_type": "stream",
     "text": [
      " 90%|█████████ | 45/50 [00:41<00:04,  1.13it/s]"
     ]
    },
    {
     "name": "stdout",
     "output_type": "stream",
     "text": [
      "Epoch 45:\n",
      "Train Loss: 0.29823785194915736, Train Accuracy: 0.7939016057396652\n",
      "Validation Loss: 0.3733534268580635, Validation Accuracy: 0.6847621607094867\n"
     ]
    },
    {
     "name": "stderr",
     "output_type": "stream",
     "text": [
      " 92%|█████████▏| 46/50 [00:42<00:03,  1.15it/s]"
     ]
    },
    {
     "name": "stdout",
     "output_type": "stream",
     "text": [
      "Epoch 46:\n",
      "Train Loss: 0.29823785201613073, Train Accuracy: 0.7939016057396652\n",
      "Validation Loss: 0.373353426824202, Validation Accuracy: 0.6847621607094867\n"
     ]
    },
    {
     "name": "stderr",
     "output_type": "stream",
     "text": [
      " 94%|█████████▍| 47/50 [00:43<00:02,  1.11it/s]"
     ]
    },
    {
     "name": "stdout",
     "output_type": "stream",
     "text": [
      "Epoch 47:\n",
      "Train Loss: 0.298237852061197, Train Accuracy: 0.7939016057396652\n",
      "Validation Loss: 0.37335342680138484, Validation Accuracy: 0.6847621607094867\n"
     ]
    },
    {
     "name": "stderr",
     "output_type": "stream",
     "text": [
      " 96%|█████████▌| 48/50 [00:43<00:01,  1.11it/s]"
     ]
    },
    {
     "name": "stdout",
     "output_type": "stream",
     "text": [
      "Epoch 48:\n",
      "Train Loss: 0.2982378520915183, Train Accuracy: 0.7939016057396652\n",
      "Validation Loss: 0.37335342678601263, Validation Accuracy: 0.6847621607094867\n"
     ]
    },
    {
     "name": "stderr",
     "output_type": "stream",
     "text": [
      " 98%|█████████▊| 49/50 [00:44<00:00,  1.12it/s]"
     ]
    },
    {
     "name": "stdout",
     "output_type": "stream",
     "text": [
      "Epoch 49:\n",
      "Train Loss: 0.29823785211191806, Train Accuracy: 0.7939016057396652\n",
      "Validation Loss: 0.37335342677565797, Validation Accuracy: 0.6847621607094867\n"
     ]
    },
    {
     "name": "stderr",
     "output_type": "stream",
     "text": [
      "100%|██████████| 50/50 [00:45<00:00,  1.09it/s]"
     ]
    },
    {
     "name": "stdout",
     "output_type": "stream",
     "text": [
      "Epoch 50:\n",
      "Train Loss: 0.29823785212564097, Train Accuracy: 0.7939016057396652\n",
      "Validation Loss: 0.37335342676868294, Validation Accuracy: 0.6847621607094867\n"
     ]
    },
    {
     "name": "stderr",
     "output_type": "stream",
     "text": [
      "\n"
     ]
    }
   ],
   "source": [
    "model = Perceptron(input_size=X_train.shape[1] , learning_rate=0.0003, epochs=50, activation=\"tanh\")\n",
    "model.fit(X_train, Y_train, x_validation, y_validation)\n"
   ]
  },
  {
   "cell_type": "code",
   "execution_count": 12,
   "metadata": {},
   "outputs": [
    {
     "name": "stdout",
     "output_type": "stream",
     "text": [
      "Test Loss: 0.38034906341897606, Test Accuracy: 0.6809626351046332\n"
     ]
    }
   ],
   "source": [
    "train_predictions = model.predict(X_train)\n",
    "test_predictions = model.predict(X_test)\n",
    "\n",
    "test_loss, test_accuracy = model.evaluate(X_test, Y_test)\n",
    "print(f\"Test Loss: {test_loss}, Test Accuracy: {test_accuracy}\")"
   ]
  },
  {
   "cell_type": "code",
   "execution_count": 13,
   "metadata": {},
   "outputs": [
    {
     "data": {
      "image/png": "[encoded data removed]",
      "text/plain": [
       "<Figure size 1500x800 with 2 Axes>"
      ]
     },
     "metadata": {},
     "output_type": "display_data"
    }
   ],
   "source": [
    "epochs = range(1, model.epochs + 1)\n",
    "\n",
    "fig = plt.figure(figsize=(15, 8))\n",
    "fig.patch.set_facecolor('#2b2b2b')  \n",
    "\n",
    "ax1 = fig.add_subplot(121)  \n",
    "ax2 = fig.add_subplot(122)  \n",
    "\n",
    "\n",
    "ax1.plot(epochs, model.train_accuracies, label='Training Accuracy', color='lime', linewidth=2.5)\n",
    "ax1.plot(epochs, model.validation_accuracies, label='Test Accuracy', color='cyan', linewidth=2.5)\n",
    "ax1.set_title(\"Accuracy per Epoch\", fontsize=14, color='#e0e0e0')\n",
    "ax1.set_xlabel(\"Epoch\", fontsize=12, color='#e0e0e0')\n",
    "ax1.set_ylabel(\"Accuracy\", fontsize=12, color='#e0e0e0')\n",
    "ax1.legend(loc='best', fontsize=10, facecolor='#2b2b2b', edgecolor='#555555')\n",
    "ax1.tick_params(axis='x', colors='#e0e0e0')\n",
    "ax1.tick_params(axis='y', colors='#e0e0e0')\n",
    "ax1.grid(color='#555555', linestyle='--', linewidth=0.5, alpha=0.6)\n",
    "ax1.set_facecolor('#2b2b2b')  \n",
    "\n",
    "\n",
    "ax2.plot(epochs, model.train_losses, label='Training Loss', color='orange', linewidth=2.5)\n",
    "ax2.plot(epochs, model.validation_losses, label='Test Loss', color='red', linewidth=2.5)\n",
    "ax2.set_title(\"Loss per Epoch\", fontsize=14, color='#e0e0e0')\n",
    "ax2.set_xlabel(\"Epoch\", fontsize=12, color='#e0e0e0')\n",
    "ax2.set_ylabel(\"Loss\", fontsize=12, color='#e0e0e0')\n",
    "ax2.legend(loc='best', fontsize=10, facecolor='#2b2b2b', edgecolor='#555555')\n",
    "ax2.tick_params(axis='x', colors='#e0e0e0')\n",
    "ax2.tick_params(axis='y', colors='#e0e0e0')\n",
    "ax2.grid(color='#555555', linestyle='--', linewidth=0.5, alpha=0.6)\n",
    "ax2.set_facecolor('#2b2b2b') \n",
    "\n",
    "\n",
    "plt.tight_layout()\n",
    "plt.show()\n",
    "\n"
   ]
  },
  {
   "cell_type": "code",
   "execution_count": 14,
   "metadata": {},
   "outputs": [
    {
     "name": "stdout",
     "output_type": "stream",
     "text": [
      "Confusion Matrix:\n",
      "[[1535  138]\n",
      " [ 320  202]]\n",
      "\n",
      "Custom Precision: 0.5941176470588235\n",
      "Custom Recall: 0.38697318007662834\n",
      "\n",
      "Scikit-Learn Precision: 0.5941176470588235\n",
      "Scikit-Learn Recall: 0.38697318007662834\n"
     ]
    }
   ],
   "source": [
    "#precision and recall from scratch\n",
    "def custom_precision(y_true, y_pred):\n",
    "    tp = np.sum((y_true == 1) & (y_pred == 1))\n",
    "    fp = np.sum((y_true == 0) & (y_pred == 1))\n",
    "    precision = tp / (tp + fp) if (tp + fp) > 0 else 0\n",
    "    return precision\n",
    "\n",
    "def custom_recall(y_true, y_pred):\n",
    "    tp = np.sum((y_true == 1) & (y_pred == 1))\n",
    "    fn = np.sum((y_true == 1) & (y_pred == 0))\n",
    "    recall = tp / (tp + fn) if (tp + fn) > 0 else 0\n",
    "    return recall\n",
    "\n",
    "\n",
    "Y_test = np.where(Y_test > 0.5, 1, 0).flatten()\n",
    "test_predictions = np.where(model.predict(X_test) > 0.5, 1, 0).flatten()\n",
    "\n",
    "# Confusion Matrix\n",
    "conf_matrix = confusion_matrix(Y_test, test_predictions)\n",
    "print(\"Confusion Matrix:\")\n",
    "print(conf_matrix)\n",
    "\n",
    "# Compute Precision and Recall using custom functions\n",
    "custom_precision_value = custom_precision(Y_test, test_predictions)\n",
    "custom_recall_value = custom_recall(Y_test, test_predictions)\n",
    "\n",
    "print(\"\\nCustom Precision:\", custom_precision_value)\n",
    "print(\"Custom Recall:\", custom_recall_value)\n",
    "\n",
    "# Compare with Scikit-Learn results\n",
    "sklearn_precision = precision_score(Y_test, test_predictions)\n",
    "sklearn_recall = recall_score(Y_test, test_predictions)\n",
    "\n",
    "print(\"\\nScikit-Learn Precision:\", sklearn_precision)\n",
    "print(\"Scikit-Learn Recall:\", sklearn_recall)\n"
   ]
  },
  {
   "cell_type": "code",
   "execution_count": 15,
   "metadata": {},
   "outputs": [
    {
     "data": {
      "image/png": "[encoded data removed]",
      "text/plain": [
       "<Figure size 800x600 with 1 Axes>"
      ]
     },
     "metadata": {},
     "output_type": "display_data"
    }
   ],
   "source": [
    "plt.figure(figsize=(8, 6))\n",
    "fig = plt.gcf()  \n",
    "fig.patch.set_facecolor('#2b2b2b')  \n",
    "\n",
    "sns.heatmap(conf_matrix, annot=True, fmt=\"d\", cmap=\"coolwarm\", cbar=False)\n",
    "plt.title(\"Confusion Matrix\", fontsize=14, color='#e0e0e0')\n",
    "plt.xlabel(\"Predicted Labels\", fontsize=12, color='#e0e0e0')\n",
    "plt.ylabel(\"True Labels\", fontsize=12, color='#e0e0e0')\n",
    "plt.xticks(color='#e0e0e0')\n",
    "plt.yticks(color='#e0e0e0')\n",
    "\n",
    "plt.tight_layout()\n",
    "plt.show()\n"
   ]
  },
  {
   "cell_type": "code",
   "execution_count": 16,
   "metadata": {},
   "outputs": [
    {
     "name": "stderr",
     "output_type": "stream",
     "text": [
      "  2%|▏         | 1/50 [00:01<01:20,  1.64s/it]"
     ]
    },
    {
     "name": "stdout",
     "output_type": "stream",
     "text": [
      "Epoch 1:\n",
      "Train Loss: 0.6806761949572854, Train Accuracy: 0.6615989067304408\n",
      "Validation Loss: 0.407123815102999, Validation Accuracy: 0.6448535339962376\n"
     ]
    },
    {
     "name": "stderr",
     "output_type": "stream",
     "text": [
      "  4%|▍         | 2/50 [00:02<00:58,  1.21s/it]"
     ]
    },
    {
     "name": "stdout",
     "output_type": "stream",
     "text": [
      "Epoch 2:\n",
      "Train Loss: 0.3197587894883083, Train Accuracy: 0.7495729415784079\n",
      "Validation Loss: 0.3726546807865355, Validation Accuracy: 0.6869793066380006\n"
     ]
    },
    {
     "name": "stderr",
     "output_type": "stream",
     "text": [
      "  6%|▌         | 3/50 [00:03<00:50,  1.08s/it]"
     ]
    },
    {
     "name": "stdout",
     "output_type": "stream",
     "text": [
      "Epoch 3:\n",
      "Train Loss: 0.3028104952247033, Train Accuracy: 0.7877519644687393\n",
      "Validation Loss: 0.370250291494913, Validation Accuracy: 0.6958478903520559\n"
     ]
    },
    {
     "name": "stderr",
     "output_type": "stream",
     "text": [
      "  8%|▊         | 4/50 [00:04<00:49,  1.08s/it]"
     ]
    },
    {
     "name": "stdout",
     "output_type": "stream",
     "text": [
      "Epoch 4:\n",
      "Train Loss: 0.2992034102258344, Train Accuracy: 0.7908267851042022\n",
      "Validation Loss: 0.36997549362127724, Validation Accuracy: 0.69436979306638\n"
     ]
    },
    {
     "name": "stderr",
     "output_type": "stream",
     "text": [
      " 10%|█         | 5/50 [00:05<00:46,  1.04s/it]"
     ]
    },
    {
     "name": "stdout",
     "output_type": "stream",
     "text": [
      "Epoch 5:\n",
      "Train Loss: 0.297708395517606, Train Accuracy: 0.7915100785787496\n",
      "Validation Loss: 0.36994909552116223, Validation Accuracy: 0.6928916957807041\n"
     ]
    },
    {
     "name": "stderr",
     "output_type": "stream",
     "text": [
      " 12%|█▏        | 6/50 [00:06<00:43,  1.02it/s]"
     ]
    },
    {
     "name": "stdout",
     "output_type": "stream",
     "text": [
      "Epoch 6:\n",
      "Train Loss: 0.2969698453259488, Train Accuracy: 0.7919371370003416\n",
      "Validation Loss: 0.36996718903393416, Validation Accuracy: 0.6936307444235421\n"
     ]
    },
    {
     "name": "stderr",
     "output_type": "stream",
     "text": [
      " 14%|█▍        | 7/50 [00:07<00:42,  1.02it/s]"
     ]
    },
    {
     "name": "stdout",
     "output_type": "stream",
     "text": [
      "Epoch 7:\n",
      "Train Loss: 0.29658296792368943, Train Accuracy: 0.7921079603689785\n",
      "Validation Loss: 0.37001563479368366, Validation Accuracy: 0.6936307444235421\n"
     ]
    },
    {
     "name": "stderr",
     "output_type": "stream",
     "text": [
      " 16%|█▌        | 8/50 [00:08<00:40,  1.03it/s]"
     ]
    },
    {
     "name": "stdout",
     "output_type": "stream",
     "text": [
      "Epoch 8:\n",
      "Train Loss: 0.2963754326892233, Train Accuracy: 0.792620430474889\n",
      "Validation Loss: 0.3700507346872545, Validation Accuracy: 0.6936307444235421\n"
     ]
    },
    {
     "name": "stderr",
     "output_type": "stream",
     "text": [
      " 18%|█▊        | 9/50 [00:09<00:38,  1.06it/s]"
     ]
    },
    {
     "name": "stdout",
     "output_type": "stream",
     "text": [
      "Epoch 9:\n",
      "Train Loss: 0.2962614079510029, Train Accuracy: 0.7921933720532969\n",
      "Validation Loss: 0.3700823132124791, Validation Accuracy: 0.6936307444235421\n"
     ]
    },
    {
     "name": "stderr",
     "output_type": "stream",
     "text": [
      " 20%|██        | 10/50 [00:10<00:36,  1.09it/s]"
     ]
    },
    {
     "name": "stdout",
     "output_type": "stream",
     "text": [
      "Epoch 10:\n",
      "Train Loss: 0.29619770338535506, Train Accuracy: 0.7919371370003416\n",
      "Validation Loss: 0.37010105132650806, Validation Accuracy: 0.6936307444235421\n"
     ]
    },
    {
     "name": "stderr",
     "output_type": "stream",
     "text": [
      " 22%|██▏       | 11/50 [00:10<00:34,  1.13it/s]"
     ]
    },
    {
     "name": "stdout",
     "output_type": "stream",
     "text": [
      "Epoch 11:\n",
      "Train Loss: 0.29616160393809016, Train Accuracy: 0.79202254868466\n",
      "Validation Loss: 0.3701117810361071, Validation Accuracy: 0.6936307444235421\n"
     ]
    },
    {
     "name": "stderr",
     "output_type": "stream",
     "text": [
      " 24%|██▍       | 12/50 [00:11<00:33,  1.14it/s]"
     ]
    },
    {
     "name": "stdout",
     "output_type": "stream",
     "text": [
      "Epoch 12:\n",
      "Train Loss: 0.29614117123889927, Train Accuracy: 0.79202254868466\n",
      "Validation Loss: 0.37011793575002755, Validation Accuracy: 0.6936307444235421\n"
     ]
    },
    {
     "name": "stderr",
     "output_type": "stream",
     "text": [
      " 26%|██▌       | 13/50 [00:12<00:31,  1.16it/s]"
     ]
    },
    {
     "name": "stdout",
     "output_type": "stream",
     "text": [
      "Epoch 13:\n",
      "Train Loss: 0.29612962146895133, Train Accuracy: 0.79202254868466\n",
      "Validation Loss: 0.3701215699258042, Validation Accuracy: 0.6936307444235421\n"
     ]
    },
    {
     "name": "stderr",
     "output_type": "stream",
     "text": [
      " 28%|██▊       | 14/50 [00:13<00:31,  1.16it/s]"
     ]
    },
    {
     "name": "stdout",
     "output_type": "stream",
     "text": [
      "Epoch 14:\n",
      "Train Loss: 0.296123063985935, Train Accuracy: 0.7921079603689785\n",
      "Validation Loss: 0.37012375749474463, Validation Accuracy: 0.6936307444235421\n"
     ]
    },
    {
     "name": "stderr",
     "output_type": "stream",
     "text": [
      " 30%|███       | 15/50 [00:14<00:31,  1.12it/s]"
     ]
    },
    {
     "name": "stdout",
     "output_type": "stream",
     "text": [
      "Epoch 15:\n",
      "Train Loss: 0.29611934045680927, Train Accuracy: 0.7921079603689785\n",
      "Validation Loss: 0.3701250733419776, Validation Accuracy: 0.6936307444235421\n"
     ]
    },
    {
     "name": "stderr",
     "output_type": "stream",
     "text": [
      " 32%|███▏      | 16/50 [00:15<00:30,  1.13it/s]"
     ]
    },
    {
     "name": "stdout",
     "output_type": "stream",
     "text": [
      "Epoch 16:\n",
      "Train Loss: 0.29611722590293044, Train Accuracy: 0.7921079603689785\n",
      "Validation Loss: 0.370125848016758, Validation Accuracy: 0.6936307444235421\n"
     ]
    },
    {
     "name": "stderr",
     "output_type": "stream",
     "text": [
      " 34%|███▍      | 17/50 [00:16<00:28,  1.14it/s]"
     ]
    },
    {
     "name": "stdout",
     "output_type": "stream",
     "text": [
      "Epoch 17:\n",
      "Train Loss: 0.296116025364107, Train Accuracy: 0.7921079603689785\n",
      "Validation Loss: 0.37012629812464376, Validation Accuracy: 0.6936307444235421\n"
     ]
    },
    {
     "name": "stderr",
     "output_type": "stream",
     "text": [
      " 36%|███▌      | 18/50 [00:16<00:27,  1.16it/s]"
     ]
    },
    {
     "name": "stdout",
     "output_type": "stream",
     "text": [
      "Epoch 18:\n",
      "Train Loss: 0.2961153443117008, Train Accuracy: 0.79202254868466\n",
      "Validation Loss: 0.3701265601251085, Validation Accuracy: 0.6936307444235421\n"
     ]
    },
    {
     "name": "stderr",
     "output_type": "stream",
     "text": [
      " 38%|███▊      | 19/50 [00:17<00:26,  1.16it/s]"
     ]
    },
    {
     "name": "stdout",
     "output_type": "stream",
     "text": [
      "Epoch 19:\n",
      "Train Loss: 0.2961149572980117, Train Accuracy: 0.79202254868466\n",
      "Validation Loss: 0.37012671287008747, Validation Accuracy: 0.6936307444235421\n"
     ]
    },
    {
     "name": "stderr",
     "output_type": "stream",
     "text": [
      " 40%|████      | 20/50 [00:18<00:25,  1.17it/s]"
     ]
    },
    {
     "name": "stdout",
     "output_type": "stream",
     "text": [
      "Epoch 20:\n",
      "Train Loss: 0.29611473709446956, Train Accuracy: 0.79202254868466\n",
      "Validation Loss: 0.3701268020419873, Validation Accuracy: 0.6936307444235421\n"
     ]
    },
    {
     "name": "stderr",
     "output_type": "stream",
     "text": [
      " 42%|████▏     | 21/50 [00:19<00:24,  1.18it/s]"
     ]
    },
    {
     "name": "stdout",
     "output_type": "stream",
     "text": [
      "Epoch 21:\n",
      "Train Loss: 0.2961146117082966, Train Accuracy: 0.79202254868466\n",
      "Validation Loss: 0.37012685416392394, Validation Accuracy: 0.6936307444235421\n"
     ]
    },
    {
     "name": "stderr",
     "output_type": "stream",
     "text": [
      " 44%|████▍     | 22/50 [00:20<00:23,  1.18it/s]"
     ]
    },
    {
     "name": "stdout",
     "output_type": "stream",
     "text": [
      "Epoch 22:\n",
      "Train Loss: 0.2961145402535182, Train Accuracy: 0.79202254868466\n",
      "Validation Loss: 0.37012688466345944, Validation Accuracy: 0.6936307444235421\n"
     ]
    },
    {
     "name": "stderr",
     "output_type": "stream",
     "text": [
      " 46%|████▌     | 23/50 [00:21<00:24,  1.11it/s]"
     ]
    },
    {
     "name": "stdout",
     "output_type": "stream",
     "text": [
      "Epoch 23:\n",
      "Train Loss: 0.2961144994973668, Train Accuracy: 0.79202254868466\n",
      "Validation Loss: 0.37012690252852876, Validation Accuracy: 0.6936307444235421\n"
     ]
    },
    {
     "name": "stderr",
     "output_type": "stream",
     "text": [
      " 48%|████▊     | 24/50 [00:22<00:23,  1.11it/s]"
     ]
    },
    {
     "name": "stdout",
     "output_type": "stream",
     "text": [
      "Epoch 24:\n",
      "Train Loss: 0.29611447622956766, Train Accuracy: 0.79202254868466\n",
      "Validation Loss: 0.37012691300273015, Validation Accuracy: 0.6936307444235421\n"
     ]
    },
    {
     "name": "stderr",
     "output_type": "stream",
     "text": [
      " 50%|█████     | 25/50 [00:23<00:22,  1.14it/s]"
     ]
    },
    {
     "name": "stdout",
     "output_type": "stream",
     "text": [
      "Epoch 25:\n",
      "Train Loss: 0.2961144629331586, Train Accuracy: 0.79202254868466\n",
      "Validation Loss: 0.37012691914902507, Validation Accuracy: 0.6936307444235421\n"
     ]
    },
    {
     "name": "stderr",
     "output_type": "stream",
     "text": [
      " 52%|█████▏    | 26/50 [00:23<00:20,  1.15it/s]"
     ]
    },
    {
     "name": "stdout",
     "output_type": "stream",
     "text": [
      "Epoch 26:\n",
      "Train Loss: 0.2961144553273678, Train Accuracy: 0.79202254868466\n",
      "Validation Loss: 0.37012692275861075, Validation Accuracy: 0.6936307444235421\n"
     ]
    },
    {
     "name": "stderr",
     "output_type": "stream",
     "text": [
      " 54%|█████▍    | 27/50 [00:24<00:20,  1.15it/s]"
     ]
    },
    {
     "name": "stdout",
     "output_type": "stream",
     "text": [
      "Epoch 27:\n",
      "Train Loss: 0.296114450972281, Train Accuracy: 0.79202254868466\n",
      "Validation Loss: 0.3701269248800569, Validation Accuracy: 0.6936307444235421\n"
     ]
    },
    {
     "name": "stderr",
     "output_type": "stream",
     "text": [
      " 56%|█████▌    | 28/50 [00:25<00:19,  1.15it/s]"
     ]
    },
    {
     "name": "stdout",
     "output_type": "stream",
     "text": [
      "Epoch 28:\n",
      "Train Loss: 0.2961144484759558, Train Accuracy: 0.79202254868466\n",
      "Validation Loss: 0.37012692612777903, Validation Accuracy: 0.6936307444235421\n"
     ]
    },
    {
     "name": "stderr",
     "output_type": "stream",
     "text": [
      " 58%|█████▊    | 29/50 [00:26<00:18,  1.16it/s]"
     ]
    },
    {
     "name": "stdout",
     "output_type": "stream",
     "text": [
      "Epoch 29:\n",
      "Train Loss: 0.29611444704355283, Train Accuracy: 0.79202254868466\n",
      "Validation Loss: 0.3701269268621199, Validation Accuracy: 0.6936307444235421\n"
     ]
    },
    {
     "name": "stderr",
     "output_type": "stream",
     "text": [
      " 60%|██████    | 30/50 [00:27<00:17,  1.13it/s]"
     ]
    },
    {
     "name": "stdout",
     "output_type": "stream",
     "text": [
      "Epoch 30:\n",
      "Train Loss: 0.2961144462207518, Train Accuracy: 0.79202254868466\n",
      "Validation Loss: 0.37012692729459085, Validation Accuracy: 0.6936307444235421\n"
     ]
    },
    {
     "name": "stderr",
     "output_type": "stream",
     "text": [
      " 62%|██████▏   | 31/50 [00:28<00:16,  1.15it/s]"
     ]
    },
    {
     "name": "stdout",
     "output_type": "stream",
     "text": [
      "Epoch 31:\n",
      "Train Loss: 0.2961144457476067, Train Accuracy: 0.79202254868466\n",
      "Validation Loss: 0.37012692754943755, Validation Accuracy: 0.6936307444235421\n"
     ]
    },
    {
     "name": "stderr",
     "output_type": "stream",
     "text": [
      " 64%|██████▍   | 32/50 [00:29<00:16,  1.10it/s]"
     ]
    },
    {
     "name": "stdout",
     "output_type": "stream",
     "text": [
      "Epoch 32:\n",
      "Train Loss: 0.29611444547523186, Train Accuracy: 0.79202254868466\n",
      "Validation Loss: 0.3701269276997004, Validation Accuracy: 0.6936307444235421\n"
     ]
    },
    {
     "name": "stderr",
     "output_type": "stream",
     "text": [
      " 66%|██████▌   | 33/50 [00:30<00:15,  1.11it/s]"
     ]
    },
    {
     "name": "stdout",
     "output_type": "stream",
     "text": [
      "Epoch 33:\n",
      "Train Loss: 0.29611444531826225, Train Accuracy: 0.79202254868466\n",
      "Validation Loss: 0.3701269277883465, Validation Accuracy: 0.6936307444235421\n"
     ]
    },
    {
     "name": "stderr",
     "output_type": "stream",
     "text": [
      " 68%|██████▊   | 34/50 [00:30<00:14,  1.13it/s]"
     ]
    },
    {
     "name": "stdout",
     "output_type": "stream",
     "text": [
      "Epoch 34:\n",
      "Train Loss: 0.2961144452277026, Train Accuracy: 0.79202254868466\n",
      "Validation Loss: 0.3701269278406709, Validation Accuracy: 0.6936307444235421\n"
     ]
    },
    {
     "name": "stderr",
     "output_type": "stream",
     "text": [
      " 70%|███████   | 35/50 [00:31<00:13,  1.15it/s]"
     ]
    },
    {
     "name": "stdout",
     "output_type": "stream",
     "text": [
      "Epoch 35:\n",
      "Train Loss: 0.29611444517539887, Train Accuracy: 0.79202254868466\n",
      "Validation Loss: 0.37012692787156976, Validation Accuracy: 0.6936307444235421\n"
     ]
    },
    {
     "name": "stderr",
     "output_type": "stream",
     "text": [
      " 72%|███████▏  | 36/50 [00:32<00:11,  1.17it/s]"
     ]
    },
    {
     "name": "stdout",
     "output_type": "stream",
     "text": [
      "Epoch 36:\n",
      "Train Loss: 0.2961144451451577, Train Accuracy: 0.79202254868466\n",
      "Validation Loss: 0.3701269278898263, Validation Accuracy: 0.6936307444235421\n"
     ]
    },
    {
     "name": "stderr",
     "output_type": "stream",
     "text": [
      " 74%|███████▍  | 37/50 [00:33<00:10,  1.18it/s]"
     ]
    },
    {
     "name": "stdout",
     "output_type": "stream",
     "text": [
      "Epoch 37:\n",
      "Train Loss: 0.296114445127654, Train Accuracy: 0.79202254868466\n",
      "Validation Loss: 0.37012692790061674, Validation Accuracy: 0.6936307444235421\n"
     ]
    },
    {
     "name": "stderr",
     "output_type": "stream",
     "text": [
      " 76%|███████▌  | 38/50 [00:34<00:10,  1.18it/s]"
     ]
    },
    {
     "name": "stdout",
     "output_type": "stream",
     "text": [
      "Epoch 38:\n",
      "Train Loss: 0.29611444511751167, Train Accuracy: 0.79202254868466\n",
      "Validation Loss: 0.37012692790699725, Validation Accuracy: 0.6936307444235421\n"
     ]
    },
    {
     "name": "stderr",
     "output_type": "stream",
     "text": [
      " 78%|███████▊  | 39/50 [00:35<00:09,  1.14it/s]"
     ]
    },
    {
     "name": "stdout",
     "output_type": "stream",
     "text": [
      "Epoch 39:\n",
      "Train Loss: 0.2961144451116285, Train Accuracy: 0.79202254868466\n",
      "Validation Loss: 0.3701269279107727, Validation Accuracy: 0.6936307444235421\n"
     ]
    },
    {
     "name": "stderr",
     "output_type": "stream",
     "text": [
      " 80%|████████  | 40/50 [00:36<00:08,  1.16it/s]"
     ]
    },
    {
     "name": "stdout",
     "output_type": "stream",
     "text": [
      "Epoch 40:\n",
      "Train Loss: 0.2961144451082128, Train Accuracy: 0.79202254868466\n",
      "Validation Loss: 0.370126927913006, Validation Accuracy: 0.6936307444235421\n"
     ]
    },
    {
     "name": "stderr",
     "output_type": "stream",
     "text": [
      " 82%|████████▏ | 41/50 [00:36<00:07,  1.18it/s]"
     ]
    },
    {
     "name": "stdout",
     "output_type": "stream",
     "text": [
      "Epoch 41:\n",
      "Train Loss: 0.2961144451062272, Train Accuracy: 0.79202254868466\n",
      "Validation Loss: 0.3701269279143283, Validation Accuracy: 0.6936307444235421\n"
     ]
    },
    {
     "name": "stderr",
     "output_type": "stream",
     "text": [
      " 84%|████████▍ | 42/50 [00:37<00:06,  1.19it/s]"
     ]
    },
    {
     "name": "stdout",
     "output_type": "stream",
     "text": [
      "Epoch 42:\n",
      "Train Loss: 0.29611444510507173, Train Accuracy: 0.79202254868466\n",
      "Validation Loss: 0.3701269279151114, Validation Accuracy: 0.6936307444235421\n"
     ]
    },
    {
     "name": "stderr",
     "output_type": "stream",
     "text": [
      " 86%|████████▌ | 43/50 [00:38<00:05,  1.18it/s]"
     ]
    },
    {
     "name": "stdout",
     "output_type": "stream",
     "text": [
      "Epoch 43:\n",
      "Train Loss: 0.29611444510439916, Train Accuracy: 0.79202254868466\n",
      "Validation Loss: 0.3701269279155754, Validation Accuracy: 0.6936307444235421\n"
     ]
    },
    {
     "name": "stderr",
     "output_type": "stream",
     "text": [
      " 88%|████████▊ | 44/50 [00:39<00:05,  1.19it/s]"
     ]
    },
    {
     "name": "stdout",
     "output_type": "stream",
     "text": [
      "Epoch 44:\n",
      "Train Loss: 0.29611444510400703, Train Accuracy: 0.79202254868466\n",
      "Validation Loss: 0.37012692791585067, Validation Accuracy: 0.6936307444235421\n"
     ]
    },
    {
     "name": "stderr",
     "output_type": "stream",
     "text": [
      " 90%|█████████ | 45/50 [00:40<00:04,  1.19it/s]"
     ]
    },
    {
     "name": "stdout",
     "output_type": "stream",
     "text": [
      "Epoch 45:\n",
      "Train Loss: 0.2961144451037783, Train Accuracy: 0.79202254868466\n",
      "Validation Loss: 0.3701269279160128, Validation Accuracy: 0.6936307444235421\n"
     ]
    },
    {
     "name": "stderr",
     "output_type": "stream",
     "text": [
      " 92%|█████████▏| 46/50 [00:41<00:03,  1.14it/s]"
     ]
    },
    {
     "name": "stdout",
     "output_type": "stream",
     "text": [
      "Epoch 46:\n",
      "Train Loss: 0.2961144451036444, Train Accuracy: 0.79202254868466\n",
      "Validation Loss: 0.37012692791610974, Validation Accuracy: 0.6936307444235421\n"
     ]
    },
    {
     "name": "stderr",
     "output_type": "stream",
     "text": [
      " 94%|█████████▍| 47/50 [00:42<00:02,  1.15it/s]"
     ]
    },
    {
     "name": "stdout",
     "output_type": "stream",
     "text": [
      "Epoch 47:\n",
      "Train Loss: 0.2961144451035662, Train Accuracy: 0.79202254868466\n",
      "Validation Loss: 0.3701269279161669, Validation Accuracy: 0.6936307444235421\n"
     ]
    },
    {
     "name": "stderr",
     "output_type": "stream",
     "text": [
      " 96%|█████████▌| 48/50 [00:42<00:01,  1.16it/s]"
     ]
    },
    {
     "name": "stdout",
     "output_type": "stream",
     "text": [
      "Epoch 48:\n",
      "Train Loss: 0.2961144451035208, Train Accuracy: 0.79202254868466\n",
      "Validation Loss: 0.37012692791620105, Validation Accuracy: 0.6936307444235421\n"
     ]
    },
    {
     "name": "stderr",
     "output_type": "stream",
     "text": [
      " 98%|█████████▊| 49/50 [00:43<00:00,  1.17it/s]"
     ]
    },
    {
     "name": "stdout",
     "output_type": "stream",
     "text": [
      "Epoch 49:\n",
      "Train Loss: 0.2961144451034937, Train Accuracy: 0.79202254868466\n",
      "Validation Loss: 0.370126927916221, Validation Accuracy: 0.6936307444235421\n"
     ]
    },
    {
     "name": "stderr",
     "output_type": "stream",
     "text": [
      "100%|██████████| 50/50 [00:44<00:00,  1.12it/s]"
     ]
    },
    {
     "name": "stdout",
     "output_type": "stream",
     "text": [
      "Epoch 50:\n",
      "Train Loss: 0.29611444510347845, Train Accuracy: 0.79202254868466\n",
      "Validation Loss: 0.3701269279162338, Validation Accuracy: 0.6936307444235421\n"
     ]
    },
    {
     "name": "stderr",
     "output_type": "stream",
     "text": [
      "\n"
     ]
    }
   ],
   "source": [
    "model = Perceptron(input_size=X_train.shape[1] , learning_rate=0.0003, epochs=50, activation=\"linear\")\n",
    "model.fit(X_train, Y_train, x_validation, y_validation)\n"
   ]
  },
  {
   "cell_type": "code",
   "execution_count": 17,
   "metadata": {},
   "outputs": [
    {
     "name": "stdout",
     "output_type": "stream",
     "text": [
      "Test Loss: 0.3776177123454261, Test Accuracy: 0.6888461558418647\n"
     ]
    }
   ],
   "source": [
    "train_predictions = model.predict(X_train)\n",
    "test_predictions = model.predict(X_test)\n",
    "\n",
    "test_loss, test_accuracy = model.evaluate(X_test, Y_test)\n",
    "print(f\"Test Loss: {test_loss}, Test Accuracy: {test_accuracy}\")"
   ]
  },
  {
   "cell_type": "code",
   "execution_count": 18,
   "metadata": {},
   "outputs": [
    {
     "data": {
      "image/png": "[encoded data removed]",
      "text/plain": [
       "<Figure size 1500x800 with 2 Axes>"
      ]
     },
     "metadata": {},
     "output_type": "display_data"
    }
   ],
   "source": [
    "epochs = range(1, model.epochs + 1)\n",
    "\n",
    "fig = plt.figure(figsize=(15, 8))\n",
    "fig.patch.set_facecolor('#2b2b2b')  \n",
    "\n",
    "ax1 = fig.add_subplot(121)  \n",
    "ax2 = fig.add_subplot(122)  \n",
    "\n",
    "\n",
    "ax1.plot(epochs, model.train_accuracies, label='Training Accuracy', color='lime', linewidth=2.5)\n",
    "ax1.plot(epochs, model.validation_accuracies, label='Test Accuracy', color='cyan', linewidth=2.5)\n",
    "ax1.set_title(\"Accuracy per Epoch\", fontsize=14, color='#e0e0e0')\n",
    "ax1.set_xlabel(\"Epoch\", fontsize=12, color='#e0e0e0')\n",
    "ax1.set_ylabel(\"Accuracy\", fontsize=12, color='#e0e0e0')\n",
    "ax1.legend(loc='best', fontsize=10, facecolor='#2b2b2b', edgecolor='#555555')\n",
    "ax1.tick_params(axis='x', colors='#e0e0e0')\n",
    "ax1.tick_params(axis='y', colors='#e0e0e0')\n",
    "ax1.grid(color='#555555', linestyle='--', linewidth=0.5, alpha=0.6)\n",
    "ax1.set_facecolor('#2b2b2b')  \n",
    "\n",
    "\n",
    "ax2.plot(epochs, model.train_losses, label='Training Loss', color='orange', linewidth=2.5)\n",
    "ax2.plot(epochs, model.validation_losses, label='Test Loss', color='red', linewidth=2.5)\n",
    "ax2.set_title(\"Loss per Epoch\", fontsize=14, color='#e0e0e0')\n",
    "ax2.set_xlabel(\"Epoch\", fontsize=12, color='#e0e0e0')\n",
    "ax2.set_ylabel(\"Loss\", fontsize=12, color='#e0e0e0')\n",
    "ax2.legend(loc='best', fontsize=10, facecolor='#2b2b2b', edgecolor='#555555')\n",
    "ax2.tick_params(axis='x', colors='#e0e0e0')\n",
    "ax2.tick_params(axis='y', colors='#e0e0e0')\n",
    "ax2.grid(color='#555555', linestyle='--', linewidth=0.5, alpha=0.6)\n",
    "ax2.set_facecolor('#2b2b2b') \n",
    "\n",
    "\n",
    "plt.tight_layout()\n",
    "plt.show()\n",
    "\n"
   ]
  },
  {
   "cell_type": "code",
   "execution_count": 19,
   "metadata": {},
   "outputs": [
    {
     "name": "stdout",
     "output_type": "stream",
     "text": [
      "Confusion Matrix:\n",
      "[[1553  120]\n",
      " [ 335  187]]\n",
      "\n",
      "Custom Precision: 0.6091205211726385\n",
      "Custom Recall: 0.35823754789272033\n",
      "\n",
      "Scikit-Learn Precision: 0.6091205211726385\n",
      "Scikit-Learn Recall: 0.35823754789272033\n"
     ]
    }
   ],
   "source": [
    "#precision and recall from scratch\n",
    "def custom_precision(y_true, y_pred):\n",
    "    tp = np.sum((y_true == 1) & (y_pred == 1))\n",
    "    fp = np.sum((y_true == 0) & (y_pred == 1))\n",
    "    precision = tp / (tp + fp) if (tp + fp) > 0 else 0\n",
    "    return precision\n",
    "\n",
    "def custom_recall(y_true, y_pred):\n",
    "    tp = np.sum((y_true == 1) & (y_pred == 1))\n",
    "    fn = np.sum((y_true == 1) & (y_pred == 0))\n",
    "    recall = tp / (tp + fn) if (tp + fn) > 0 else 0\n",
    "    return recall\n",
    "\n",
    "\n",
    "Y_test = np.where(Y_test > 0.5, 1, 0).flatten()\n",
    "test_predictions = np.where(model.predict(X_test) > 0.5, 1, 0).flatten()\n",
    "\n",
    "# Confusion Matrix\n",
    "conf_matrix = confusion_matrix(Y_test, test_predictions)\n",
    "print(\"Confusion Matrix:\")\n",
    "print(conf_matrix)\n",
    "\n",
    "# Compute Precision and Recall using custom functions\n",
    "custom_precision_value = custom_precision(Y_test, test_predictions)\n",
    "custom_recall_value = custom_recall(Y_test, test_predictions)\n",
    "\n",
    "print(\"\\nCustom Precision:\", custom_precision_value)\n",
    "print(\"Custom Recall:\", custom_recall_value)\n",
    "\n",
    "# Compare with Scikit-Learn results\n",
    "sklearn_precision = precision_score(Y_test, test_predictions)\n",
    "sklearn_recall = recall_score(Y_test, test_predictions)\n",
    "\n",
    "print(\"\\nScikit-Learn Precision:\", sklearn_precision)\n",
    "print(\"Scikit-Learn Recall:\", sklearn_recall)\n"
   ]
  },
  {
   "cell_type": "code",
   "execution_count": 20,
   "metadata": {},
   "outputs": [
    {
     "data": {
      "image/png": "[encoded data removed]",
      "text/plain": [
       "<Figure size 800x600 with 1 Axes>"
      ]
     },
     "metadata": {},
     "output_type": "display_data"
    }
   ],
   "source": [
    "plt.figure(figsize=(8, 6))\n",
    "fig = plt.gcf()  \n",
    "fig.patch.set_facecolor('#2b2b2b')  \n",
    "\n",
    "sns.heatmap(conf_matrix, annot=True, fmt=\"d\", cmap=\"coolwarm\", cbar=False)\n",
    "plt.title(\"Confusion Matrix\", fontsize=14, color='#e0e0e0')\n",
    "plt.xlabel(\"Predicted Labels\", fontsize=12, color='#e0e0e0')\n",
    "plt.ylabel(\"True Labels\", fontsize=12, color='#e0e0e0')\n",
    "plt.xticks(color='#e0e0e0')\n",
    "plt.yticks(color='#e0e0e0')\n",
    "\n",
    "plt.tight_layout()\n",
    "plt.show()\n"
   ]
  },
  {
   "cell_type": "code",
   "execution_count": 21,
   "metadata": {},
   "outputs": [
    {
     "name": "stderr",
     "output_type": "stream",
     "text": [
      "  2%|▏         | 1/50 [00:01<00:59,  1.21s/it]"
     ]
    },
    {
     "name": "stdout",
     "output_type": "stream",
     "text": [
      "Epoch 1:\n",
      "Train Loss: 0.48477184899619463, Train Accuracy: 0.7032798086778271\n",
      "Validation Loss: 0.33878428154717205, Validation Accuracy: 0.6995431335662456\n"
     ]
    },
    {
     "name": "stderr",
     "output_type": "stream",
     "text": [
      "  4%|▍         | 2/50 [00:02<00:55,  1.16s/it]"
     ]
    },
    {
     "name": "stdout",
     "output_type": "stream",
     "text": [
      "Epoch 2:\n",
      "Train Loss: 0.2576899208217346, Train Accuracy: 0.7677656303382303\n",
      "Validation Loss: 0.3367573674584171, Validation Accuracy: 0.7010212308519215\n"
     ]
    },
    {
     "name": "stderr",
     "output_type": "stream",
     "text": [
      "  6%|▌         | 3/50 [00:03<00:50,  1.07s/it]"
     ]
    },
    {
     "name": "stdout",
     "output_type": "stream",
     "text": [
      "Epoch 3:\n",
      "Train Loss: 0.26965412578163644, Train Accuracy: 0.7873249060471472\n",
      "Validation Loss: 0.3614914314246544, Validation Accuracy: 0.6921526471378662\n"
     ]
    },
    {
     "name": "stderr",
     "output_type": "stream",
     "text": [
      "  8%|▊         | 4/50 [00:04<00:48,  1.05s/it]"
     ]
    },
    {
     "name": "stdout",
     "output_type": "stream",
     "text": [
      "Epoch 4:\n",
      "Train Loss: 0.2866292050693669, Train Accuracy: 0.7924496071062521\n",
      "Validation Loss: 0.364571372465584, Validation Accuracy: 0.6891964525665144\n"
     ]
    },
    {
     "name": "stderr",
     "output_type": "stream",
     "text": [
      " 10%|█         | 5/50 [00:05<00:48,  1.08s/it]"
     ]
    },
    {
     "name": "stdout",
     "output_type": "stream",
     "text": [
      "Epoch 5:\n",
      "Train Loss: 0.28878914428265623, Train Accuracy: 0.7931329005807994\n",
      "Validation Loss: 0.3646593404493499, Validation Accuracy: 0.6899355012093523\n"
     ]
    },
    {
     "name": "stderr",
     "output_type": "stream",
     "text": [
      " 12%|█▏        | 6/50 [00:06<00:45,  1.04s/it]"
     ]
    },
    {
     "name": "stdout",
     "output_type": "stream",
     "text": [
      "Epoch 6:\n",
      "Train Loss: 0.2893029756900547, Train Accuracy: 0.79202254868466\n",
      "Validation Loss: 0.36460342812207724, Validation Accuracy: 0.6906745498521902\n"
     ]
    },
    {
     "name": "stderr",
     "output_type": "stream",
     "text": [
      " 14%|█▍        | 7/50 [00:07<00:43,  1.02s/it]"
     ]
    },
    {
     "name": "stdout",
     "output_type": "stream",
     "text": [
      "Epoch 7:\n",
      "Train Loss: 0.2895496079401676, Train Accuracy: 0.7927058421592074\n",
      "Validation Loss: 0.3645554992699852, Validation Accuracy: 0.6914135984950283\n"
     ]
    },
    {
     "name": "stderr",
     "output_type": "stream",
     "text": [
      " 16%|█▌        | 8/50 [00:08<00:42,  1.00s/it]"
     ]
    },
    {
     "name": "stdout",
     "output_type": "stream",
     "text": [
      "Epoch 8:\n",
      "Train Loss: 0.28968948249520854, Train Accuracy: 0.7918517253160232\n",
      "Validation Loss: 0.3645229121208449, Validation Accuracy: 0.6928916957807041\n"
     ]
    },
    {
     "name": "stderr",
     "output_type": "stream",
     "text": [
      " 18%|█▊        | 9/50 [00:09<00:40,  1.00it/s]"
     ]
    },
    {
     "name": "stdout",
     "output_type": "stream",
     "text": [
      "Epoch 9:\n",
      "Train Loss: 0.2897701183233282, Train Accuracy: 0.7921933720532969\n",
      "Validation Loss: 0.3645020537181075, Validation Accuracy: 0.6921526471378662\n"
     ]
    },
    {
     "name": "stderr",
     "output_type": "stream",
     "text": [
      " 20%|██        | 10/50 [00:10<00:38,  1.03it/s]"
     ]
    },
    {
     "name": "stdout",
     "output_type": "stream",
     "text": [
      "Epoch 10:\n",
      "Train Loss: 0.28981608606327897, Train Accuracy: 0.7921933720532969\n",
      "Validation Loss: 0.3644888562590639, Validation Accuracy: 0.6928916957807041\n"
     ]
    },
    {
     "name": "stderr",
     "output_type": "stream",
     "text": [
      " 22%|██▏       | 11/50 [00:11<00:36,  1.06it/s]"
     ]
    },
    {
     "name": "stdout",
     "output_type": "stream",
     "text": [
      "Epoch 11:\n",
      "Train Loss: 0.28984280535417883, Train Accuracy: 0.79202254868466\n",
      "Validation Loss: 0.36448059492974133, Validation Accuracy: 0.6928916957807041\n"
     ]
    },
    {
     "name": "stderr",
     "output_type": "stream",
     "text": [
      " 24%|██▍       | 12/50 [00:12<00:35,  1.08it/s]"
     ]
    },
    {
     "name": "stdout",
     "output_type": "stream",
     "text": [
      "Epoch 12:\n",
      "Train Loss: 0.2898582552945552, Train Accuracy: 0.79202254868466\n",
      "Validation Loss: 0.3644755536083045, Validation Accuracy: 0.6928916957807041\n"
     ]
    },
    {
     "name": "stderr",
     "output_type": "stream",
     "text": [
      " 26%|██▌       | 13/50 [00:12<00:33,  1.10it/s]"
     ]
    },
    {
     "name": "stdout",
     "output_type": "stream",
     "text": [
      "Epoch 13:\n",
      "Train Loss: 0.2898672464992893, Train Accuracy: 0.7919371370003416\n",
      "Validation Loss: 0.36447247990439086, Validation Accuracy: 0.6928916957807041\n"
     ]
    },
    {
     "name": "stderr",
     "output_type": "stream",
     "text": [
      " 28%|██▊       | 14/50 [00:13<00:34,  1.05it/s]"
     ]
    },
    {
     "name": "stdout",
     "output_type": "stream",
     "text": [
      "Epoch 14:\n",
      "Train Loss: 0.28987242395078894, Train Accuracy: 0.79202254868466\n",
      "Validation Loss: 0.36447062951251374, Validation Accuracy: 0.6928916957807041\n"
     ]
    },
    {
     "name": "stderr",
     "output_type": "stream",
     "text": [
      " 30%|███       | 15/50 [00:14<00:32,  1.07it/s]"
     ]
    },
    {
     "name": "stdout",
     "output_type": "stream",
     "text": [
      "Epoch 15:\n",
      "Train Loss: 0.28987541703034997, Train Accuracy: 0.79202254868466\n",
      "Validation Loss: 0.3644695176289791, Validation Accuracy: 0.6928916957807041\n"
     ]
    },
    {
     "name": "stderr",
     "output_type": "stream",
     "text": [
      " 32%|███▏      | 16/50 [00:15<00:31,  1.08it/s]"
     ]
    },
    {
     "name": "stdout",
     "output_type": "stream",
     "text": [
      "Epoch 16:\n",
      "Train Loss: 0.2898771496148751, Train Accuracy: 0.79202254868466\n",
      "Validation Loss: 0.3644688498500451, Validation Accuracy: 0.6928916957807041\n"
     ]
    },
    {
     "name": "stderr",
     "output_type": "stream",
     "text": [
      " 34%|███▍      | 17/50 [00:16<00:30,  1.10it/s]"
     ]
    },
    {
     "name": "stdout",
     "output_type": "stream",
     "text": [
      "Epoch 17:\n",
      "Train Loss: 0.2898781536073683, Train Accuracy: 0.7921079603689785\n",
      "Validation Loss: 0.3644684488232196, Validation Accuracy: 0.6928916957807041\n"
     ]
    },
    {
     "name": "stderr",
     "output_type": "stream",
     "text": [
      " 36%|███▌      | 18/50 [00:17<00:29,  1.09it/s]"
     ]
    },
    {
     "name": "stdout",
     "output_type": "stream",
     "text": [
      "Epoch 18:\n",
      "Train Loss: 0.28987873598990666, Train Accuracy: 0.7921079603689785\n",
      "Validation Loss: 0.36446820795509477, Validation Accuracy: 0.6928916957807041\n"
     ]
    },
    {
     "name": "stderr",
     "output_type": "stream",
     "text": [
      " 38%|███▊      | 19/50 [00:18<00:28,  1.10it/s]"
     ]
    },
    {
     "name": "stdout",
     "output_type": "stream",
     "text": [
      "Epoch 19:\n",
      "Train Loss: 0.2898790741521123, Train Accuracy: 0.7921933720532969\n",
      "Validation Loss: 0.3644680632429049, Validation Accuracy: 0.6928916957807041\n"
     ]
    },
    {
     "name": "stderr",
     "output_type": "stream",
     "text": [
      " 40%|████      | 20/50 [00:19<00:27,  1.10it/s]"
     ]
    },
    {
     "name": "stdout",
     "output_type": "stream",
     "text": [
      "Epoch 20:\n",
      "Train Loss: 0.2898792707057114, Train Accuracy: 0.7921933720532969\n",
      "Validation Loss: 0.36446797627064603, Validation Accuracy: 0.6928916957807041\n"
     ]
    },
    {
     "name": "stderr",
     "output_type": "stream",
     "text": [
      " 42%|████▏     | 21/50 [00:20<00:26,  1.10it/s]"
     ]
    },
    {
     "name": "stdout",
     "output_type": "stream",
     "text": [
      "Epoch 21:\n",
      "Train Loss: 0.2898793850666402, Train Accuracy: 0.7921933720532969\n",
      "Validation Loss: 0.3644679239803076, Validation Accuracy: 0.6928916957807041\n"
     ]
    },
    {
     "name": "stderr",
     "output_type": "stream",
     "text": [
      " 44%|████▍     | 22/50 [00:21<00:26,  1.07it/s]"
     ]
    },
    {
     "name": "stdout",
     "output_type": "stream",
     "text": [
      "Epoch 22:\n",
      "Train Loss: 0.28987945167322415, Train Accuracy: 0.7921933720532969\n",
      "Validation Loss: 0.3644678925293694, Validation Accuracy: 0.6928916957807041\n"
     ]
    },
    {
     "name": "stderr",
     "output_type": "stream",
     "text": [
      " 46%|████▌     | 23/50 [00:22<00:24,  1.09it/s]"
     ]
    },
    {
     "name": "stdout",
     "output_type": "stream",
     "text": [
      "Epoch 23:\n",
      "Train Loss: 0.2898794905063027, Train Accuracy: 0.7921933720532969\n",
      "Validation Loss: 0.3644678736051447, Validation Accuracy: 0.6928916957807041\n"
     ]
    },
    {
     "name": "stderr",
     "output_type": "stream",
     "text": [
      " 48%|████▊     | 24/50 [00:23<00:23,  1.09it/s]"
     ]
    },
    {
     "name": "stdout",
     "output_type": "stream",
     "text": [
      "Epoch 24:\n",
      "Train Loss: 0.28987951317017197, Train Accuracy: 0.7921933720532969\n",
      "Validation Loss: 0.3644678622138617, Validation Accuracy: 0.6928916957807041\n"
     ]
    },
    {
     "name": "stderr",
     "output_type": "stream",
     "text": [
      " 50%|█████     | 25/50 [00:23<00:22,  1.09it/s]"
     ]
    },
    {
     "name": "stdout",
     "output_type": "stream",
     "text": [
      "Epoch 25:\n",
      "Train Loss: 0.2898795264110303, Train Accuracy: 0.7921933720532969\n",
      "Validation Loss: 0.36446785535435344, Validation Accuracy: 0.6928916957807041\n"
     ]
    },
    {
     "name": "stderr",
     "output_type": "stream",
     "text": [
      " 52%|█████▏    | 26/50 [00:24<00:21,  1.09it/s]"
     ]
    },
    {
     "name": "stdout",
     "output_type": "stream",
     "text": [
      "Epoch 26:\n",
      "Train Loss: 0.28987953415475765, Train Accuracy: 0.7921933720532969\n",
      "Validation Loss: 0.36446785122222825, Validation Accuracy: 0.6928916957807041\n"
     ]
    },
    {
     "name": "stderr",
     "output_type": "stream",
     "text": [
      " 54%|█████▍    | 27/50 [00:25<00:20,  1.10it/s]"
     ]
    },
    {
     "name": "stdout",
     "output_type": "stream",
     "text": [
      "Epoch 27:\n",
      "Train Loss: 0.28987953868829736, Train Accuracy: 0.7921933720532969\n",
      "Validation Loss: 0.3644678487321782, Validation Accuracy: 0.6928916957807041\n"
     ]
    },
    {
     "name": "stderr",
     "output_type": "stream",
     "text": [
      " 56%|█████▌    | 28/50 [00:26<00:19,  1.11it/s]"
     ]
    },
    {
     "name": "stdout",
     "output_type": "stream",
     "text": [
      "Epoch 28:\n",
      "Train Loss: 0.2898795413452213, Train Accuracy: 0.7921933720532969\n",
      "Validation Loss: 0.36446784723114506, Validation Accuracy: 0.6928916957807041\n"
     ]
    },
    {
     "name": "stderr",
     "output_type": "stream",
     "text": [
      " 58%|█████▊    | 29/50 [00:27<00:19,  1.08it/s]"
     ]
    },
    {
     "name": "stdout",
     "output_type": "stream",
     "text": [
      "Epoch 29:\n",
      "Train Loss: 0.2898795429039687, Train Accuracy: 0.7921933720532969\n",
      "Validation Loss: 0.3644678463260095, Validation Accuracy: 0.6928916957807041\n"
     ]
    },
    {
     "name": "stderr",
     "output_type": "stream",
     "text": [
      " 60%|██████    | 30/50 [00:28<00:18,  1.09it/s]"
     ]
    },
    {
     "name": "stdout",
     "output_type": "stream",
     "text": [
      "Epoch 30:\n",
      "Train Loss: 0.2898795438194022, Train Accuracy: 0.7921933720532969\n",
      "Validation Loss: 0.36446784578003727, Validation Accuracy: 0.6928916957807041\n"
     ]
    },
    {
     "name": "stderr",
     "output_type": "stream",
     "text": [
      " 62%|██████▏   | 31/50 [00:29<00:18,  1.05it/s]"
     ]
    },
    {
     "name": "stdout",
     "output_type": "stream",
     "text": [
      "Epoch 31:\n",
      "Train Loss: 0.28987954435758695, Train Accuracy: 0.7921933720532969\n",
      "Validation Loss: 0.3644678454506128, Validation Accuracy: 0.6928916957807041\n"
     ]
    },
    {
     "name": "stderr",
     "output_type": "stream",
     "text": [
      " 64%|██████▍   | 32/50 [00:30<00:16,  1.06it/s]"
     ]
    },
    {
     "name": "stdout",
     "output_type": "stream",
     "text": [
      "Epoch 32:\n",
      "Train Loss: 0.28987954467431587, Train Accuracy: 0.7921933720532969\n",
      "Validation Loss: 0.3644678452517917, Validation Accuracy: 0.6928916957807041\n"
     ]
    },
    {
     "name": "stderr",
     "output_type": "stream",
     "text": [
      " 66%|██████▌   | 33/50 [00:31<00:15,  1.08it/s]"
     ]
    },
    {
     "name": "stdout",
     "output_type": "stream",
     "text": [
      "Epoch 33:\n",
      "Train Loss: 0.28987954486090756, Train Accuracy: 0.7921933720532969\n",
      "Validation Loss: 0.364467845131763, Validation Accuracy: 0.6928916957807041\n"
     ]
    },
    {
     "name": "stderr",
     "output_type": "stream",
     "text": [
      " 68%|██████▊   | 34/50 [00:32<00:14,  1.09it/s]"
     ]
    },
    {
     "name": "stdout",
     "output_type": "stream",
     "text": [
      "Epoch 34:\n",
      "Train Loss: 0.28987954497094587, Train Accuracy: 0.7921933720532969\n",
      "Validation Loss: 0.3644678450592845, Validation Accuracy: 0.6928916957807041\n"
     ]
    },
    {
     "name": "stderr",
     "output_type": "stream",
     "text": [
      " 70%|███████   | 35/50 [00:33<00:13,  1.10it/s]"
     ]
    },
    {
     "name": "stdout",
     "output_type": "stream",
     "text": [
      "Epoch 35:\n",
      "Train Loss: 0.28987954503590463, Train Accuracy: 0.7921933720532969\n",
      "Validation Loss: 0.3644678450155071, Validation Accuracy: 0.6928916957807041\n"
     ]
    },
    {
     "name": "stderr",
     "output_type": "stream",
     "text": [
      " 72%|███████▏  | 36/50 [00:34<00:12,  1.09it/s]"
     ]
    },
    {
     "name": "stdout",
     "output_type": "stream",
     "text": [
      "Epoch 36:\n",
      "Train Loss: 0.2898795450742895, Train Accuracy: 0.7921933720532969\n",
      "Validation Loss: 0.3644678449890599, Validation Accuracy: 0.6928916957807041\n"
     ]
    },
    {
     "name": "stderr",
     "output_type": "stream",
     "text": [
      " 74%|███████▍  | 37/50 [00:35<00:12,  1.03it/s]"
     ]
    },
    {
     "name": "stdout",
     "output_type": "stream",
     "text": [
      "Epoch 37:\n",
      "Train Loss: 0.2898795450969943, Train Accuracy: 0.7921933720532969\n",
      "Validation Loss: 0.36446784497307877, Validation Accuracy: 0.6928916957807041\n"
     ]
    },
    {
     "name": "stderr",
     "output_type": "stream",
     "text": [
      " 76%|███████▌  | 38/50 [00:36<00:11,  1.03it/s]"
     ]
    },
    {
     "name": "stdout",
     "output_type": "stream",
     "text": [
      "Epoch 38:\n",
      "Train Loss: 0.28987954511043773, Train Accuracy: 0.7921933720532969\n",
      "Validation Loss: 0.36446784496342033, Validation Accuracy: 0.6928916957807041\n"
     ]
    },
    {
     "name": "stderr",
     "output_type": "stream",
     "text": [
      " 78%|███████▊  | 39/50 [00:37<00:10,  1.06it/s]"
     ]
    },
    {
     "name": "stdout",
     "output_type": "stream",
     "text": [
      "Epoch 39:\n",
      "Train Loss: 0.2898795451184047, Train Accuracy: 0.7921933720532969\n",
      "Validation Loss: 0.36446784495758144, Validation Accuracy: 0.6928916957807041\n"
     ]
    },
    {
     "name": "stderr",
     "output_type": "stream",
     "text": [
      " 80%|████████  | 40/50 [00:38<00:09,  1.03it/s]"
     ]
    },
    {
     "name": "stdout",
     "output_type": "stream",
     "text": [
      "Epoch 40:\n",
      "Train Loss: 0.2898795451231309, Train Accuracy: 0.7921933720532969\n",
      "Validation Loss: 0.3644678449540516, Validation Accuracy: 0.6928916957807041\n"
     ]
    },
    {
     "name": "stderr",
     "output_type": "stream",
     "text": [
      " 82%|████████▏ | 41/50 [00:38<00:08,  1.05it/s]"
     ]
    },
    {
     "name": "stdout",
     "output_type": "stream",
     "text": [
      "Epoch 41:\n",
      "Train Loss: 0.28987954512593705, Train Accuracy: 0.7921933720532969\n",
      "Validation Loss: 0.3644678449519171, Validation Accuracy: 0.6928916957807041\n"
     ]
    },
    {
     "name": "stderr",
     "output_type": "stream",
     "text": [
      " 84%|████████▍ | 42/50 [00:39<00:07,  1.07it/s]"
     ]
    },
    {
     "name": "stdout",
     "output_type": "stream",
     "text": [
      "Epoch 42:\n",
      "Train Loss: 0.28987954512760494, Train Accuracy: 0.7921933720532969\n",
      "Validation Loss: 0.3644678449506258, Validation Accuracy: 0.6928916957807041\n"
     ]
    },
    {
     "name": "stderr",
     "output_type": "stream",
     "text": [
      " 86%|████████▌ | 43/50 [00:40<00:06,  1.09it/s]"
     ]
    },
    {
     "name": "stdout",
     "output_type": "stream",
     "text": [
      "Epoch 43:\n",
      "Train Loss: 0.289879545128597, Train Accuracy: 0.7921933720532969\n",
      "Validation Loss: 0.3644678449498454, Validation Accuracy: 0.6928916957807041\n"
     ]
    },
    {
     "name": "stderr",
     "output_type": "stream",
     "text": [
      " 88%|████████▊ | 44/50 [00:41<00:05,  1.09it/s]"
     ]
    },
    {
     "name": "stdout",
     "output_type": "stream",
     "text": [
      "Epoch 44:\n",
      "Train Loss: 0.2898795451291876, Train Accuracy: 0.7921933720532969\n",
      "Validation Loss: 0.3644678449493729, Validation Accuracy: 0.6928916957807041\n"
     ]
    },
    {
     "name": "stderr",
     "output_type": "stream",
     "text": [
      " 90%|█████████ | 45/50 [00:42<00:04,  1.09it/s]"
     ]
    },
    {
     "name": "stdout",
     "output_type": "stream",
     "text": [
      "Epoch 45:\n",
      "Train Loss: 0.28987954512953906, Train Accuracy: 0.7921933720532969\n",
      "Validation Loss: 0.36446784494908663, Validation Accuracy: 0.6928916957807041\n"
     ]
    },
    {
     "name": "stderr",
     "output_type": "stream",
     "text": [
      " 92%|█████████▏| 46/50 [00:43<00:03,  1.09it/s]"
     ]
    },
    {
     "name": "stdout",
     "output_type": "stream",
     "text": [
      "Epoch 46:\n",
      "Train Loss: 0.28987954512974945, Train Accuracy: 0.7921933720532969\n",
      "Validation Loss: 0.3644678449489144, Validation Accuracy: 0.6928916957807041\n"
     ]
    },
    {
     "name": "stderr",
     "output_type": "stream",
     "text": [
      " 94%|█████████▍| 47/50 [00:44<00:02,  1.05it/s]"
     ]
    },
    {
     "name": "stdout",
     "output_type": "stream",
     "text": [
      "Epoch 47:\n",
      "Train Loss: 0.2898795451298745, Train Accuracy: 0.7921933720532969\n",
      "Validation Loss: 0.3644678449488088, Validation Accuracy: 0.6928916957807041\n"
     ]
    },
    {
     "name": "stderr",
     "output_type": "stream",
     "text": [
      " 96%|█████████▌| 48/50 [00:45<00:01,  1.03it/s]"
     ]
    },
    {
     "name": "stdout",
     "output_type": "stream",
     "text": [
      "Epoch 48:\n",
      "Train Loss: 0.2898795451299492, Train Accuracy: 0.7921933720532969\n",
      "Validation Loss: 0.36446784494874607, Validation Accuracy: 0.6928916957807041\n"
     ]
    },
    {
     "name": "stderr",
     "output_type": "stream",
     "text": [
      " 98%|█████████▊| 49/50 [00:46<00:00,  1.05it/s]"
     ]
    },
    {
     "name": "stdout",
     "output_type": "stream",
     "text": [
      "Epoch 49:\n",
      "Train Loss: 0.2898795451299941, Train Accuracy: 0.7921933720532969\n",
      "Validation Loss: 0.36446784494870743, Validation Accuracy: 0.6928916957807041\n"
     ]
    },
    {
     "name": "stderr",
     "output_type": "stream",
     "text": [
      "100%|██████████| 50/50 [00:47<00:00,  1.06it/s]"
     ]
    },
    {
     "name": "stdout",
     "output_type": "stream",
     "text": [
      "Epoch 50:\n",
      "Train Loss: 0.2898795451300208, Train Accuracy: 0.7921933720532969\n",
      "Validation Loss: 0.36446784494868456, Validation Accuracy: 0.6928916957807041\n"
     ]
    },
    {
     "name": "stderr",
     "output_type": "stream",
     "text": [
      "\n"
     ]
    }
   ],
   "source": [
    "model = Perceptron(input_size=X_train.shape[1] , learning_rate=0.0003, epochs=50, activation=\"relu\")\n",
    "model.fit(X_train, Y_train, x_validation, y_validation)\n"
   ]
  },
  {
   "cell_type": "code",
   "execution_count": 22,
   "metadata": {},
   "outputs": [
    {
     "name": "stdout",
     "output_type": "stream",
     "text": [
      "Test Loss: 0.37316106947874905, Test Accuracy: 0.6883683667062749\n"
     ]
    }
   ],
   "source": [
    "train_predictions = model.predict(X_train)\n",
    "test_predictions = model.predict(X_test)\n",
    "\n",
    "test_loss, test_accuracy = model.evaluate(X_test, Y_test)\n",
    "print(f\"Test Loss: {test_loss}, Test Accuracy: {test_accuracy}\")"
   ]
  },
  {
   "cell_type": "code",
   "execution_count": 23,
   "metadata": {},
   "outputs": [
    {
     "data": {
      "image/png": "[encoded data removed]",
      "text/plain": [
       "<Figure size 1500x800 with 2 Axes>"
      ]
     },
     "metadata": {},
     "output_type": "display_data"
    }
   ],
   "source": [
    "epochs = range(1, model.epochs + 1)\n",
    "\n",
    "fig = plt.figure(figsize=(15, 8))\n",
    "fig.patch.set_facecolor('#2b2b2b')  \n",
    "\n",
    "ax1 = fig.add_subplot(121)  \n",
    "ax2 = fig.add_subplot(122)  \n",
    "\n",
    "\n",
    "ax1.plot(epochs, model.train_accuracies, label='Training Accuracy', color='lime', linewidth=2.5)\n",
    "ax1.plot(epochs, model.validation_accuracies, label='Test Accuracy', color='cyan', linewidth=2.5)\n",
    "ax1.set_title(\"Accuracy per Epoch\", fontsize=14, color='#e0e0e0')\n",
    "ax1.set_xlabel(\"Epoch\", fontsize=12, color='#e0e0e0')\n",
    "ax1.set_ylabel(\"Accuracy\", fontsize=12, color='#e0e0e0')\n",
    "ax1.legend(loc='best', fontsize=10, facecolor='#2b2b2b', edgecolor='#555555')\n",
    "ax1.tick_params(axis='x', colors='#e0e0e0')\n",
    "ax1.tick_params(axis='y', colors='#e0e0e0')\n",
    "ax1.grid(color='#555555', linestyle='--', linewidth=0.5, alpha=0.6)\n",
    "ax1.set_facecolor('#2b2b2b')  \n",
    "\n",
    "\n",
    "ax2.plot(epochs, model.train_losses, label='Training Loss', color='orange', linewidth=2.5)\n",
    "ax2.plot(epochs, model.validation_losses, label='Test Loss', color='red', linewidth=2.5)\n",
    "ax2.set_title(\"Loss per Epoch\", fontsize=14, color='#e0e0e0')\n",
    "ax2.set_xlabel(\"Epoch\", fontsize=12, color='#e0e0e0')\n",
    "ax2.set_ylabel(\"Loss\", fontsize=12, color='#e0e0e0')\n",
    "ax2.legend(loc='best', fontsize=10, facecolor='#2b2b2b', edgecolor='#555555')\n",
    "ax2.tick_params(axis='x', colors='#e0e0e0')\n",
    "ax2.tick_params(axis='y', colors='#e0e0e0')\n",
    "ax2.grid(color='#555555', linestyle='--', linewidth=0.5, alpha=0.6)\n",
    "ax2.set_facecolor('#2b2b2b') \n",
    "\n",
    "\n",
    "plt.tight_layout()\n",
    "plt.show()\n",
    "\n"
   ]
  },
  {
   "cell_type": "code",
   "execution_count": 24,
   "metadata": {},
   "outputs": [
    {
     "name": "stdout",
     "output_type": "stream",
     "text": [
      "Confusion Matrix:\n",
      "[[1553  120]\n",
      " [ 333  189]]\n",
      "\n",
      "Custom Precision: 0.6116504854368932\n",
      "Custom Recall: 0.3620689655172414\n",
      "\n",
      "Scikit-Learn Precision: 0.6116504854368932\n",
      "Scikit-Learn Recall: 0.3620689655172414\n"
     ]
    }
   ],
   "source": [
    "#precision and recall from scratch\n",
    "def custom_precision(y_true, y_pred):\n",
    "    tp = np.sum((y_true == 1) & (y_pred == 1))\n",
    "    fp = np.sum((y_true == 0) & (y_pred == 1))\n",
    "    precision = tp / (tp + fp) if (tp + fp) > 0 else 0\n",
    "    return precision\n",
    "\n",
    "def custom_recall(y_true, y_pred):\n",
    "    tp = np.sum((y_true == 1) & (y_pred == 1))\n",
    "    fn = np.sum((y_true == 1) & (y_pred == 0))\n",
    "    recall = tp / (tp + fn) if (tp + fn) > 0 else 0\n",
    "    return recall\n",
    "\n",
    "\n",
    "Y_test = np.where(Y_test > 0.5, 1, 0).flatten()\n",
    "test_predictions = np.where(model.predict(X_test) > 0.5, 1, 0).flatten()\n",
    "\n",
    "# Confusion Matrix\n",
    "conf_matrix = confusion_matrix(Y_test, test_predictions)\n",
    "print(\"Confusion Matrix:\")\n",
    "print(conf_matrix)\n",
    "\n",
    "# Compute Precision and Recall using custom functions\n",
    "custom_precision_value = custom_precision(Y_test, test_predictions)\n",
    "custom_recall_value = custom_recall(Y_test, test_predictions)\n",
    "\n",
    "print(\"\\nCustom Precision:\", custom_precision_value)\n",
    "print(\"Custom Recall:\", custom_recall_value)\n",
    "\n",
    "# Compare with Scikit-Learn results\n",
    "sklearn_precision = precision_score(Y_test, test_predictions)\n",
    "sklearn_recall = recall_score(Y_test, test_predictions)\n",
    "\n",
    "print(\"\\nScikit-Learn Precision:\", sklearn_precision)\n",
    "print(\"Scikit-Learn Recall:\", sklearn_recall)\n"
   ]
  },
  {
   "cell_type": "code",
   "execution_count": 25,
   "metadata": {},
   "outputs": [
    {
     "data": {
      "image/png": "[encoded data removed]",
      "text/plain": [
       "<Figure size 800x600 with 1 Axes>"
      ]
     },
     "metadata": {},
     "output_type": "display_data"
    }
   ],
   "source": [
    "plt.figure(figsize=(8, 6))\n",
    "fig = plt.gcf()  \n",
    "fig.patch.set_facecolor('#2b2b2b')  \n",
    "\n",
    "sns.heatmap(conf_matrix, annot=True, fmt=\"d\", cmap=\"coolwarm\", cbar=False)\n",
    "plt.title(\"Confusion Matrix\", fontsize=14, color='#e0e0e0')\n",
    "plt.xlabel(\"Predicted Labels\", fontsize=12, color='#e0e0e0')\n",
    "plt.ylabel(\"True Labels\", fontsize=12, color='#e0e0e0')\n",
    "plt.xticks(color='#e0e0e0')\n",
    "plt.yticks(color='#e0e0e0')\n",
    "\n",
    "plt.tight_layout()\n",
    "plt.show()\n"
   ]
  }
 ],
 "metadata": {
  "kernelspec": {
   "display_name": "Python 3",
   "language": "python",
   "name": "python3"
  },
  "language_info": {
   "codemirror_mode": {
    "name": "ipython",
    "version": 3
   },
   "file_extension": ".py",
   "mimetype": "text/x-python",
   "name": "python",
   "nbconvert_exporter": "python",
   "pygments_lexer": "ipython3",
   "version": "3.9.7"
  }
 },
 "nbformat": 4,
 "nbformat_minor": 2
}
