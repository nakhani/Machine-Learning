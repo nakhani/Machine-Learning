{
 "cells": [
  {
   "cell_type": "code",
   "execution_count": 2,
   "metadata": {},
   "outputs": [],
   "source": [
    "import numpy as np\n",
    "import pandas as pd\n",
    "import matplotlib.pyplot as plt\n",
    "from sklearn.model_selection import train_test_split\n",
    "from sklearn.datasets import load_digits\n",
    "from sklearn.metrics import confusion_matrix\n",
    "from mlp import MLP\n",
    "import seaborn as sns"
   ]
  },
  {
   "cell_type": "code",
   "execution_count": 3,
   "metadata": {},
   "outputs": [],
   "source": [
    "dataset = load_digits()\n",
    "X = dataset.data / 255.0\n",
    "Y = np.eye(10)[dataset.target]"
   ]
  },
  {
   "cell_type": "code",
   "execution_count": 4,
   "metadata": {},
   "outputs": [],
   "source": [
    "X_train, X_test, Y_train, Y_test = train_test_split(X, Y, test_size=0.2, random_state=42)"
   ]
  },
  {
   "cell_type": "code",
   "execution_count": 5,
   "metadata": {},
   "outputs": [
    {
     "name": "stdout",
     "output_type": "stream",
     "text": [
      "Epoch 1/100 - Loss: 0.354977, Accuracy: 0.10\n",
      "Epoch 2/100 - Loss: 0.323614, Accuracy: 0.11\n",
      "Epoch 3/100 - Loss: 0.286591, Accuracy: 0.30\n",
      "Epoch 4/100 - Loss: 0.247766, Accuracy: 0.52\n",
      "Epoch 5/100 - Loss: 0.217769, Accuracy: 0.65\n",
      "Epoch 6/100 - Loss: 0.197276, Accuracy: 0.72\n",
      "Epoch 7/100 - Loss: 0.179294, Accuracy: 0.78\n",
      "Epoch 8/100 - Loss: 0.168460, Accuracy: 0.81\n",
      "Epoch 9/100 - Loss: 0.159626, Accuracy: 0.83\n",
      "Epoch 10/100 - Loss: 0.152954, Accuracy: 0.84\n",
      "Epoch 11/100 - Loss: 0.146820, Accuracy: 0.85\n",
      "Epoch 12/100 - Loss: 0.142817, Accuracy: 0.86\n",
      "Epoch 13/100 - Loss: 0.137898, Accuracy: 0.87\n",
      "Epoch 14/100 - Loss: 0.132332, Accuracy: 0.88\n",
      "Epoch 15/100 - Loss: 0.123498, Accuracy: 0.90\n",
      "Epoch 16/100 - Loss: 0.128745, Accuracy: 0.89\n",
      "Epoch 17/100 - Loss: 0.125251, Accuracy: 0.89\n",
      "Epoch 18/100 - Loss: 0.122783, Accuracy: 0.89\n",
      "Epoch 19/100 - Loss: 0.117153, Accuracy: 0.90\n",
      "Epoch 20/100 - Loss: 0.114826, Accuracy: 0.91\n",
      "Epoch 21/100 - Loss: 0.111948, Accuracy: 0.92\n",
      "Epoch 22/100 - Loss: 0.109299, Accuracy: 0.92\n",
      "Epoch 23/100 - Loss: 0.107920, Accuracy: 0.92\n",
      "Epoch 24/100 - Loss: 0.113907, Accuracy: 0.91\n",
      "Epoch 25/100 - Loss: 0.107860, Accuracy: 0.92\n",
      "Epoch 26/100 - Loss: 0.097214, Accuracy: 0.94\n",
      "Epoch 27/100 - Loss: 0.095808, Accuracy: 0.94\n",
      "Epoch 28/100 - Loss: 0.099221, Accuracy: 0.93\n",
      "Epoch 29/100 - Loss: 0.095287, Accuracy: 0.94\n",
      "Epoch 30/100 - Loss: 0.089056, Accuracy: 0.95\n",
      "Epoch 31/100 - Loss: 0.087762, Accuracy: 0.95\n",
      "Epoch 32/100 - Loss: 0.091139, Accuracy: 0.95\n",
      "Epoch 33/100 - Loss: 0.090361, Accuracy: 0.95\n",
      "Epoch 34/100 - Loss: 0.084685, Accuracy: 0.95\n",
      "Epoch 35/100 - Loss: 0.079111, Accuracy: 0.96\n",
      "Epoch 36/100 - Loss: 0.084200, Accuracy: 0.95\n",
      "Epoch 37/100 - Loss: 0.087757, Accuracy: 0.95\n",
      "Epoch 38/100 - Loss: 0.091287, Accuracy: 0.94\n",
      "Epoch 39/100 - Loss: 0.086369, Accuracy: 0.95\n",
      "Epoch 40/100 - Loss: 0.081405, Accuracy: 0.95\n",
      "Epoch 41/100 - Loss: 0.074339, Accuracy: 0.96\n",
      "Epoch 42/100 - Loss: 0.094930, Accuracy: 0.94\n",
      "Epoch 43/100 - Loss: 0.073181, Accuracy: 0.97\n",
      "Epoch 44/100 - Loss: 0.072212, Accuracy: 0.96\n",
      "Epoch 45/100 - Loss: 0.083272, Accuracy: 0.95\n",
      "Epoch 46/100 - Loss: 0.073134, Accuracy: 0.96\n",
      "Epoch 47/100 - Loss: 0.070479, Accuracy: 0.97\n",
      "Epoch 48/100 - Loss: 0.066781, Accuracy: 0.97\n",
      "Epoch 49/100 - Loss: 0.073177, Accuracy: 0.96\n",
      "Epoch 50/100 - Loss: 0.079132, Accuracy: 0.96\n",
      "Epoch 51/100 - Loss: 0.071651, Accuracy: 0.97\n",
      "Epoch 52/100 - Loss: 0.076057, Accuracy: 0.96\n",
      "Epoch 53/100 - Loss: 0.075121, Accuracy: 0.96\n",
      "Epoch 54/100 - Loss: 0.069501, Accuracy: 0.97\n",
      "Epoch 55/100 - Loss: 0.065892, Accuracy: 0.97\n",
      "Epoch 56/100 - Loss: 0.070444, Accuracy: 0.96\n",
      "Epoch 57/100 - Loss: 0.075431, Accuracy: 0.96\n",
      "Epoch 58/100 - Loss: 0.076372, Accuracy: 0.96\n",
      "Epoch 59/100 - Loss: 0.074245, Accuracy: 0.96\n",
      "Epoch 60/100 - Loss: 0.063096, Accuracy: 0.98\n",
      "Epoch 61/100 - Loss: 0.053475, Accuracy: 0.98\n",
      "Epoch 62/100 - Loss: 0.067069, Accuracy: 0.97\n",
      "Epoch 63/100 - Loss: 0.063015, Accuracy: 0.98\n",
      "Epoch 64/100 - Loss: 0.061763, Accuracy: 0.97\n",
      "Epoch 65/100 - Loss: 0.064647, Accuracy: 0.97\n",
      "Epoch 66/100 - Loss: 0.054820, Accuracy: 0.98\n",
      "Epoch 67/100 - Loss: 0.053845, Accuracy: 0.98\n",
      "Epoch 68/100 - Loss: 0.069151, Accuracy: 0.97\n",
      "Epoch 69/100 - Loss: 0.052742, Accuracy: 0.98\n",
      "Epoch 70/100 - Loss: 0.042951, Accuracy: 0.98\n",
      "Epoch 71/100 - Loss: 0.043195, Accuracy: 0.99\n",
      "Epoch 72/100 - Loss: 0.038802, Accuracy: 0.99\n",
      "Epoch 73/100 - Loss: 0.055032, Accuracy: 0.98\n",
      "Epoch 74/100 - Loss: 0.072932, Accuracy: 0.97\n",
      "Epoch 75/100 - Loss: 0.052956, Accuracy: 0.98\n",
      "Epoch 76/100 - Loss: 0.044302, Accuracy: 0.99\n",
      "Epoch 77/100 - Loss: 0.063917, Accuracy: 0.97\n",
      "Epoch 78/100 - Loss: 0.045483, Accuracy: 0.99\n",
      "Epoch 79/100 - Loss: 0.079756, Accuracy: 0.96\n",
      "Epoch 80/100 - Loss: 0.047926, Accuracy: 0.99\n",
      "Epoch 81/100 - Loss: 0.049526, Accuracy: 0.98\n",
      "Epoch 82/100 - Loss: 0.037255, Accuracy: 0.99\n",
      "Epoch 83/100 - Loss: 0.073029, Accuracy: 0.97\n",
      "Epoch 84/100 - Loss: 0.039865, Accuracy: 0.99\n",
      "Epoch 85/100 - Loss: 0.027481, Accuracy: 1.00\n",
      "Epoch 86/100 - Loss: 0.038233, Accuracy: 0.99\n",
      "Epoch 87/100 - Loss: 0.068303, Accuracy: 0.97\n",
      "Epoch 88/100 - Loss: 0.063453, Accuracy: 0.97\n",
      "Epoch 89/100 - Loss: 0.030602, Accuracy: 0.99\n",
      "Epoch 90/100 - Loss: 0.029315, Accuracy: 1.00\n",
      "Epoch 91/100 - Loss: 0.033535, Accuracy: 0.99\n",
      "Epoch 92/100 - Loss: 0.030602, Accuracy: 0.99\n",
      "Epoch 93/100 - Loss: 0.053488, Accuracy: 0.98\n",
      "Epoch 94/100 - Loss: 0.050367, Accuracy: 0.98\n",
      "Epoch 95/100 - Loss: 0.051189, Accuracy: 0.98\n",
      "Epoch 96/100 - Loss: 0.025167, Accuracy: 1.00\n",
      "Epoch 97/100 - Loss: 0.025585, Accuracy: 1.00\n",
      "Epoch 98/100 - Loss: 0.022092, Accuracy: 1.00\n",
      "Epoch 99/100 - Loss: 0.018771, Accuracy: 1.00\n",
      "Epoch 100/100 - Loss: 0.018453, Accuracy: 1.00\n"
     ]
    }
   ],
   "source": [
    "mlp = MLP(input_size=X_train.shape[1], layer_1=128, layer_2=32, output_size=Y_train.shape[1], learning_rate=0.1)\n",
    "mlp.fit(X_train, Y_train, epochs=100)"
   ]
  },
  {
   "cell_type": "code",
   "execution_count": 6,
   "metadata": {},
   "outputs": [
    {
     "name": "stdout",
     "output_type": "stream",
     "text": [
      "Loss Train: 0.017847, Accuracy Train: 1.00\n",
      "Loss Test: 0.054060, Accuracy Test: 0.98\n"
     ]
    }
   ],
   "source": [
    "loss_train, accuracy_train = mlp.evaluate(X_train, Y_train)\n",
    "loss_test, accuracy_test = mlp.evaluate(X_test, Y_test)\n",
    "\n",
    "print(f\"Loss Train: {loss_train:.6f}, Accuracy Train: {accuracy_train:.2f}\")\n",
    "print(f\"Loss Test: {loss_test:.6f}, Accuracy Test: {accuracy_test:.2f}\")\n"
   ]
  },
  {
   "cell_type": "code",
   "execution_count": 7,
   "metadata": {},
   "outputs": [],
   "source": [
    "Y_pred_test = mlp.predict(X_test).reshape(-1, 10)\n",
    "Y_pred_classes = np.argmax(Y_pred_test, axis=1)\n",
    "Y_test_classes = np.argmax(Y_test, axis=1)\n",
    "\n",
    "conf_matrix = confusion_matrix(Y_test_classes, Y_pred_classes)\n"
   ]
  },
  {
   "cell_type": "code",
   "execution_count": 8,
   "metadata": {},
   "outputs": [
    {
     "data": {
      "image/png": "[encoded data removed]",
      "text/plain": [
       "<Figure size 800x600 with 2 Axes>"
      ]
     },
     "metadata": {},
     "output_type": "display_data"
    }
   ],
   "source": [
    "plt.figure(figsize=(8, 6))\n",
    "fig = plt.gcf()  \n",
    "fig.patch.set_facecolor('#2b2b2b')  \n",
    "\n",
    "sns.heatmap(conf_matrix, annot=True, fmt=\"d\", cmap=\"coolwarm\", cbar=True)\n",
    "plt.title(\"Confusion Matrix\", fontsize=14, color='#e0e0e0')\n",
    "plt.xlabel(\"Predicted Labels\", fontsize=12, color='#e0e0e0')\n",
    "plt.ylabel(\"True Labels\", fontsize=12, color='#e0e0e0')\n",
    "plt.xticks(color='#e0e0e0')\n",
    "plt.yticks(color='#e0e0e0')\n",
    "\n",
    "plt.tight_layout()\n",
    "plt.show()\n"
   ]
  },
  {
   "cell_type": "code",
   "execution_count": 13,
   "metadata": {},
   "outputs": [
    {
     "name": "stdout",
     "output_type": "stream",
     "text": [
      "[[[1.52952165e-12 6.05264815e-06 1.58938172e-08 7.14600619e-09\n",
      "   4.68594526e-09 4.74853502e-05 9.99945074e-01 6.63260589e-17\n",
      "   1.36016989e-06 1.08018532e-12]]]\n",
      "6\n"
     ]
    }
   ],
   "source": [
    "import cv2\n",
    "\n",
    "image = cv2.imread('6.png')\n",
    "image = cv2.cvtColor(image, cv2.COLOR_BGR2GRAY)\n",
    "image = image.reshape(1, -1)\n",
    "x = image\n",
    "\n",
    "Y_pred = mlp.predict(x)\n",
    "print(Y_pred)\n",
    "print(np.argmax(Y_pred))"
   ]
  }
 ],
 "metadata": {
  "kernelspec": {
   "display_name": "Python 3",
   "language": "python",
   "name": "python3"
  },
  "language_info": {
   "codemirror_mode": {
    "name": "ipython",
    "version": 3
   },
   "file_extension": ".py",
   "mimetype": "text/x-python",
   "name": "python",
   "nbconvert_exporter": "python",
   "pygments_lexer": "ipython3",
   "version": "3.9.7"
  }
 },
 "nbformat": 4,
 "nbformat_minor": 2
}
