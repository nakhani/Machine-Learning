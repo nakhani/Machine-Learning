{
 "cells": [
  {
   "cell_type": "code",
   "execution_count": 193,
   "metadata": {},
   "outputs": [],
   "source": [
    "import numpy as np\n",
    "import pandas as pd\n",
    "import matplotlib.pyplot as plt\n",
    "from sklearn.model_selection import train_test_split\n",
    "from sklearn.metrics import confusion_matrix\n",
    "from sklearn.preprocessing import StandardScaler\n",
    "import seaborn as sns\n",
    "from perceptron import Perceptron\n"
   ]
  },
  {
   "cell_type": "code",
   "execution_count": 194,
   "metadata": {},
   "outputs": [
    {
     "data": {
      "text/html": [
       "<div>\n",
       "<style scoped>\n",
       "    .dataframe tbody tr th:only-of-type {\n",
       "        vertical-align: middle;\n",
       "    }\n",
       "\n",
       "    .dataframe tbody tr th {\n",
       "        vertical-align: top;\n",
       "    }\n",
       "\n",
       "    .dataframe thead th {\n",
       "        text-align: right;\n",
       "    }\n",
       "</style>\n",
       "<table border=\"1\" class=\"dataframe\">\n",
       "  <thead>\n",
       "    <tr style=\"text-align: right;\">\n",
       "      <th></th>\n",
       "      <th>bmi</th>\n",
       "      <th>Age</th>\n",
       "      <th>asa_status</th>\n",
       "      <th>baseline_cancer</th>\n",
       "      <th>baseline_charlson</th>\n",
       "      <th>baseline_cvd</th>\n",
       "      <th>baseline_dementia</th>\n",
       "      <th>baseline_diabetes</th>\n",
       "      <th>baseline_digestive</th>\n",
       "      <th>baseline_osteoart</th>\n",
       "      <th>...</th>\n",
       "      <th>complication_rsi</th>\n",
       "      <th>dow</th>\n",
       "      <th>gender</th>\n",
       "      <th>hour</th>\n",
       "      <th>month</th>\n",
       "      <th>moonphase</th>\n",
       "      <th>mort30</th>\n",
       "      <th>mortality_rsi</th>\n",
       "      <th>race</th>\n",
       "      <th>complication</th>\n",
       "    </tr>\n",
       "  </thead>\n",
       "  <tbody>\n",
       "    <tr>\n",
       "      <th>0</th>\n",
       "      <td>19.31</td>\n",
       "      <td>59.2</td>\n",
       "      <td>1</td>\n",
       "      <td>1</td>\n",
       "      <td>0</td>\n",
       "      <td>0</td>\n",
       "      <td>0</td>\n",
       "      <td>0</td>\n",
       "      <td>0</td>\n",
       "      <td>0</td>\n",
       "      <td>...</td>\n",
       "      <td>-0.57</td>\n",
       "      <td>3</td>\n",
       "      <td>0</td>\n",
       "      <td>7.63</td>\n",
       "      <td>6</td>\n",
       "      <td>1</td>\n",
       "      <td>0</td>\n",
       "      <td>-0.43</td>\n",
       "      <td>1</td>\n",
       "      <td>0</td>\n",
       "    </tr>\n",
       "    <tr>\n",
       "      <th>1</th>\n",
       "      <td>18.73</td>\n",
       "      <td>59.1</td>\n",
       "      <td>0</td>\n",
       "      <td>0</td>\n",
       "      <td>0</td>\n",
       "      <td>0</td>\n",
       "      <td>0</td>\n",
       "      <td>0</td>\n",
       "      <td>0</td>\n",
       "      <td>0</td>\n",
       "      <td>...</td>\n",
       "      <td>0.21</td>\n",
       "      <td>0</td>\n",
       "      <td>0</td>\n",
       "      <td>12.93</td>\n",
       "      <td>0</td>\n",
       "      <td>1</td>\n",
       "      <td>0</td>\n",
       "      <td>-0.41</td>\n",
       "      <td>1</td>\n",
       "      <td>0</td>\n",
       "    </tr>\n",
       "    <tr>\n",
       "      <th>2</th>\n",
       "      <td>21.85</td>\n",
       "      <td>59.0</td>\n",
       "      <td>0</td>\n",
       "      <td>0</td>\n",
       "      <td>0</td>\n",
       "      <td>0</td>\n",
       "      <td>0</td>\n",
       "      <td>0</td>\n",
       "      <td>0</td>\n",
       "      <td>0</td>\n",
       "      <td>...</td>\n",
       "      <td>0.00</td>\n",
       "      <td>2</td>\n",
       "      <td>0</td>\n",
       "      <td>7.68</td>\n",
       "      <td>5</td>\n",
       "      <td>3</td>\n",
       "      <td>0</td>\n",
       "      <td>0.08</td>\n",
       "      <td>1</td>\n",
       "      <td>0</td>\n",
       "    </tr>\n",
       "    <tr>\n",
       "      <th>3</th>\n",
       "      <td>18.49</td>\n",
       "      <td>59.0</td>\n",
       "      <td>1</td>\n",
       "      <td>0</td>\n",
       "      <td>1</td>\n",
       "      <td>0</td>\n",
       "      <td>0</td>\n",
       "      <td>1</td>\n",
       "      <td>1</td>\n",
       "      <td>0</td>\n",
       "      <td>...</td>\n",
       "      <td>-0.65</td>\n",
       "      <td>2</td>\n",
       "      <td>1</td>\n",
       "      <td>7.58</td>\n",
       "      <td>4</td>\n",
       "      <td>3</td>\n",
       "      <td>0</td>\n",
       "      <td>-0.32</td>\n",
       "      <td>1</td>\n",
       "      <td>0</td>\n",
       "    </tr>\n",
       "    <tr>\n",
       "      <th>4</th>\n",
       "      <td>19.70</td>\n",
       "      <td>59.0</td>\n",
       "      <td>1</td>\n",
       "      <td>0</td>\n",
       "      <td>0</td>\n",
       "      <td>0</td>\n",
       "      <td>0</td>\n",
       "      <td>0</td>\n",
       "      <td>0</td>\n",
       "      <td>0</td>\n",
       "      <td>...</td>\n",
       "      <td>0.00</td>\n",
       "      <td>0</td>\n",
       "      <td>0</td>\n",
       "      <td>7.88</td>\n",
       "      <td>11</td>\n",
       "      <td>0</td>\n",
       "      <td>0</td>\n",
       "      <td>0.00</td>\n",
       "      <td>1</td>\n",
       "      <td>0</td>\n",
       "    </tr>\n",
       "  </tbody>\n",
       "</table>\n",
       "<p>5 rows × 25 columns</p>\n",
       "</div>"
      ],
      "text/plain": [
       "     bmi   Age  asa_status  baseline_cancer  baseline_charlson  baseline_cvd  \\\n",
       "0  19.31  59.2           1                1                  0             0   \n",
       "1  18.73  59.1           0                0                  0             0   \n",
       "2  21.85  59.0           0                0                  0             0   \n",
       "3  18.49  59.0           1                0                  1             0   \n",
       "4  19.70  59.0           1                0                  0             0   \n",
       "\n",
       "   baseline_dementia  baseline_diabetes  baseline_digestive  \\\n",
       "0                  0                  0                   0   \n",
       "1                  0                  0                   0   \n",
       "2                  0                  0                   0   \n",
       "3                  0                  1                   1   \n",
       "4                  0                  0                   0   \n",
       "\n",
       "   baseline_osteoart  ...  complication_rsi  dow  gender   hour  month  \\\n",
       "0                  0  ...             -0.57    3       0   7.63      6   \n",
       "1                  0  ...              0.21    0       0  12.93      0   \n",
       "2                  0  ...              0.00    2       0   7.68      5   \n",
       "3                  0  ...             -0.65    2       1   7.58      4   \n",
       "4                  0  ...              0.00    0       0   7.88     11   \n",
       "\n",
       "   moonphase  mort30  mortality_rsi  race  complication  \n",
       "0          1       0          -0.43     1             0  \n",
       "1          1       0          -0.41     1             0  \n",
       "2          3       0           0.08     1             0  \n",
       "3          3       0          -0.32     1             0  \n",
       "4          0       0           0.00     1             0  \n",
       "\n",
       "[5 rows x 25 columns]"
      ]
     },
     "execution_count": 194,
     "metadata": {},
     "output_type": "execute_result"
    }
   ],
   "source": [
    "df = pd.read_csv(\"Surgical-deepnet.csv\")\n",
    "df.head()"
   ]
  },
  {
   "cell_type": "code",
   "execution_count": null,
   "metadata": {},
   "outputs": [],
   "source": [
    "X = df.drop(\"complication\", axis=1).copy().values\n",
    "Y = df[\"complication\"].copy().values\n",
    "\n",
    "scaler = StandardScaler()\n",
    "X = scaler.fit_transform(X)\n",
    "\n",
    "X_train, X_test, Y_train, Y_test = train_test_split(X, Y, test_size=0.2, random_state=42)\n",
    "X_test, x_validation, Y_test, y_validation = train_test_split(X_test, Y_test, test_size=.25, random_state=42)\n",
    "\n"
   ]
  },
  {
   "cell_type": "code",
   "execution_count": 182,
   "metadata": {},
   "outputs": [
    {
     "name": "stderr",
     "output_type": "stream",
     "text": [
      "  2%|▏         | 1/50 [00:00<00:46,  1.06it/s]"
     ]
    },
    {
     "name": "stdout",
     "output_type": "stream",
     "text": [
      "Epoch 1:\n",
      "Train Loss: 0.395698791761872, Train Accuracy: 0.6626238469422617\n",
      "Validation Loss: 0.4567091515496339, Validation Accuracy: 0.5798172534264983\n"
     ]
    },
    {
     "name": "stderr",
     "output_type": "stream",
     "text": [
      "  4%|▍         | 2/50 [00:02<00:59,  1.24s/it]"
     ]
    },
    {
     "name": "stdout",
     "output_type": "stream",
     "text": [
      "Epoch 2:\n",
      "Train Loss: 0.3570473513095021, Train Accuracy: 0.7099419200546635\n",
      "Validation Loss: 0.4273795439681829, Validation Accuracy: 0.6152915882827197\n"
     ]
    },
    {
     "name": "stderr",
     "output_type": "stream",
     "text": [
      "  6%|▌         | 3/50 [00:03<01:01,  1.30s/it]"
     ]
    },
    {
     "name": "stdout",
     "output_type": "stream",
     "text": [
      "Epoch 3:\n",
      "Train Loss: 0.33207608821610923, Train Accuracy: 0.7459856508370345\n",
      "Validation Loss: 0.40646172654069995, Validation Accuracy: 0.6404192421392099\n"
     ]
    },
    {
     "name": "stderr",
     "output_type": "stream",
     "text": [
      "  8%|▊         | 4/50 [00:04<00:56,  1.23s/it]"
     ]
    },
    {
     "name": "stdout",
     "output_type": "stream",
     "text": [
      "Epoch 4:\n",
      "Train Loss: 0.3166090904327267, Train Accuracy: 0.7693884523402802\n",
      "Validation Loss: 0.39280800072936356, Validation Accuracy: 0.6655468959957\n"
     ]
    },
    {
     "name": "stderr",
     "output_type": "stream",
     "text": [
      " 10%|█         | 5/50 [00:05<00:51,  1.14s/it]"
     ]
    },
    {
     "name": "stdout",
     "output_type": "stream",
     "text": [
      "Epoch 5:\n",
      "Train Loss: 0.30708564218258394, Train Accuracy: 0.7828834984625896\n",
      "Validation Loss: 0.38409843929503446, Validation Accuracy: 0.6758935769954313\n"
     ]
    },
    {
     "name": "stderr",
     "output_type": "stream",
     "text": [
      " 12%|█▏        | 6/50 [00:06<00:47,  1.07s/it]"
     ]
    },
    {
     "name": "stdout",
     "output_type": "stream",
     "text": [
      "Epoch 6:\n",
      "Train Loss: 0.300964109575454, Train Accuracy: 0.7864707892039631\n",
      "Validation Loss: 0.37844320322275277, Validation Accuracy: 0.6788497715667832\n"
     ]
    },
    {
     "name": "stderr",
     "output_type": "stream",
     "text": [
      " 14%|█▍        | 7/50 [00:07<00:44,  1.03s/it]"
     ]
    },
    {
     "name": "stdout",
     "output_type": "stream",
     "text": [
      "Epoch 7:\n",
      "Train Loss: 0.2968388974592142, Train Accuracy: 0.7894601981551076\n",
      "Validation Loss: 0.3746541393060263, Validation Accuracy: 0.680327868852459\n"
     ]
    },
    {
     "name": "stderr",
     "output_type": "stream",
     "text": [
      " 16%|█▌        | 8/50 [00:08<00:42,  1.00s/it]"
     ]
    },
    {
     "name": "stdout",
     "output_type": "stream",
     "text": [
      "Epoch 8:\n",
      "Train Loss: 0.2939538221614699, Train Accuracy: 0.7911684318414759\n",
      "Validation Loss: 0.37203312052430565, Validation Accuracy: 0.6825450147809728\n"
     ]
    },
    {
     "name": "stderr",
     "output_type": "stream",
     "text": [
      " 18%|█▊        | 9/50 [00:09<00:39,  1.03it/s]"
     ]
    },
    {
     "name": "stdout",
     "output_type": "stream",
     "text": [
      "Epoch 9:\n",
      "Train Loss: 0.29188192972069815, Train Accuracy: 0.792620430474889\n",
      "Validation Loss: 0.3701693581153873, Validation Accuracy: 0.6855012093523246\n"
     ]
    },
    {
     "name": "stderr",
     "output_type": "stream",
     "text": [
      " 20%|██        | 10/50 [00:10<00:37,  1.06it/s]"
     ]
    },
    {
     "name": "stdout",
     "output_type": "stream",
     "text": [
      "Epoch 10:\n",
      "Train Loss: 0.2903664425016547, Train Accuracy: 0.7936453706867099\n",
      "Validation Loss: 0.3688138711292219, Validation Accuracy: 0.6855012093523246\n"
     ]
    },
    {
     "name": "stderr",
     "output_type": "stream",
     "text": [
      " 22%|██▏       | 11/50 [00:11<00:36,  1.07it/s]"
     ]
    },
    {
     "name": "stdout",
     "output_type": "stream",
     "text": [
      "Epoch 11:\n",
      "Train Loss: 0.28924378836220516, Train Accuracy: 0.7945848992142125\n",
      "Validation Loss: 0.3678099028190036, Validation Accuracy: 0.6862402579951626\n"
     ]
    },
    {
     "name": "stderr",
     "output_type": "stream",
     "text": [
      " 24%|██▍       | 12/50 [00:12<00:34,  1.09it/s]"
     ]
    },
    {
     "name": "stdout",
     "output_type": "stream",
     "text": [
      "Epoch 12:\n",
      "Train Loss: 0.28840484106473374, Train Accuracy: 0.7953536043730782\n",
      "Validation Loss: 0.36705503362472025, Validation Accuracy: 0.6862402579951626\n"
     ]
    },
    {
     "name": "stderr",
     "output_type": "stream",
     "text": [
      " 26%|██▌       | 13/50 [00:13<00:33,  1.09it/s]"
     ]
    },
    {
     "name": "stdout",
     "output_type": "stream",
     "text": [
      "Epoch 13:\n",
      "Train Loss: 0.28777419019613154, Train Accuracy: 0.7955244277417151\n",
      "Validation Loss: 0.3664801462479808, Validation Accuracy: 0.6869793066380006\n"
     ]
    },
    {
     "name": "stderr",
     "output_type": "stream",
     "text": [
      " 28%|██▊       | 14/50 [00:14<00:34,  1.04it/s]"
     ]
    },
    {
     "name": "stdout",
     "output_type": "stream",
     "text": [
      "Epoch 14:\n",
      "Train Loss: 0.2872983345040398, Train Accuracy: 0.7949265459514862\n",
      "Validation Loss: 0.3660373331966142, Validation Accuracy: 0.6877183552808385\n"
     ]
    },
    {
     "name": "stderr",
     "output_type": "stream",
     "text": [
      " 30%|███       | 15/50 [00:15<00:34,  1.01it/s]"
     ]
    },
    {
     "name": "stdout",
     "output_type": "stream",
     "text": [
      "Epoch 15:\n",
      "Train Loss: 0.286938560601039, Train Accuracy: 0.7956952511103519\n",
      "Validation Loss: 0.3656926647781411, Validation Accuracy: 0.6884574039236764\n"
     ]
    },
    {
     "name": "stderr",
     "output_type": "stream",
     "text": [
      " 32%|███▏      | 16/50 [00:16<00:32,  1.05it/s]"
     ]
    },
    {
     "name": "stdout",
     "output_type": "stream",
     "text": [
      "Epoch 16:\n",
      "Train Loss: 0.28666643345522186, Train Accuracy: 0.7944994875298941\n",
      "Validation Loss: 0.3654216931558863, Validation Accuracy: 0.6884574039236764\n"
     ]
    },
    {
     "name": "stderr",
     "output_type": "stream",
     "text": [
      " 34%|███▍      | 17/50 [00:17<00:31,  1.05it/s]"
     ]
    },
    {
     "name": "stdout",
     "output_type": "stream",
     "text": [
      "Epoch 17:\n",
      "Train Loss: 0.2864608253540382, Train Accuracy: 0.7945848992142125\n",
      "Validation Loss: 0.3652065573592836, Validation Accuracy: 0.6884574039236764\n"
     ]
    },
    {
     "name": "stderr",
     "output_type": "stream",
     "text": [
      " 36%|███▌      | 18/50 [00:18<00:33,  1.04s/it]"
     ]
    },
    {
     "name": "stdout",
     "output_type": "stream",
     "text": [
      "Epoch 18:\n",
      "Train Loss: 0.28630589568581855, Train Accuracy: 0.7948411342671677\n",
      "Validation Loss: 0.3650340614862212, Validation Accuracy: 0.6899355012093523\n"
     ]
    },
    {
     "name": "stderr",
     "output_type": "stream",
     "text": [
      " 38%|███▊      | 19/50 [00:19<00:34,  1.11s/it]"
     ]
    },
    {
     "name": "stdout",
     "output_type": "stream",
     "text": [
      "Epoch 19:\n",
      "Train Loss: 0.2861896824857138, Train Accuracy: 0.7950119576358046\n",
      "Validation Loss: 0.3648943657437702, Validation Accuracy: 0.6899355012093523\n"
     ]
    },
    {
     "name": "stderr",
     "output_type": "stream",
     "text": [
      " 40%|████      | 20/50 [00:20<00:35,  1.18s/it]"
     ]
    },
    {
     "name": "stdout",
     "output_type": "stream",
     "text": [
      "Epoch 20:\n",
      "Train Loss: 0.28610310079512996, Train Accuracy: 0.7943286641612572\n",
      "Validation Loss: 0.3647800756898749, Validation Accuracy: 0.6899355012093523\n"
     ]
    },
    {
     "name": "stderr",
     "output_type": "stream",
     "text": [
      " 42%|████▏     | 21/50 [00:22<00:37,  1.28s/it]"
     ]
    },
    {
     "name": "stdout",
     "output_type": "stream",
     "text": [
      "Epoch 21:\n",
      "Train Loss: 0.28603921888471684, Train Accuracy: 0.7947557225828493\n",
      "Validation Loss: 0.36468559731081845, Validation Accuracy: 0.6899355012093523\n"
     ]
    },
    {
     "name": "stderr",
     "output_type": "stream",
     "text": [
      " 44%|████▍     | 22/50 [00:23<00:33,  1.20s/it]"
     ]
    },
    {
     "name": "stdout",
     "output_type": "stream",
     "text": [
      "Epoch 22:\n",
      "Train Loss: 0.2859927284347742, Train Accuracy: 0.7945848992142125\n",
      "Validation Loss: 0.3646066736920338, Validation Accuracy: 0.6899355012093523\n"
     ]
    },
    {
     "name": "stderr",
     "output_type": "stream",
     "text": [
      " 46%|████▌     | 23/50 [00:24<00:30,  1.12s/it]"
     ]
    },
    {
     "name": "stdout",
     "output_type": "stream",
     "text": [
      "Epoch 23:\n",
      "Train Loss: 0.28595955253206085, Train Accuracy: 0.7945848992142125\n",
      "Validation Loss: 0.3645400481527316, Validation Accuracy: 0.6906745498521902\n"
     ]
    },
    {
     "name": "stderr",
     "output_type": "stream",
     "text": [
      " 48%|████▊     | 24/50 [00:25<00:28,  1.09s/it]"
     ]
    },
    {
     "name": "stdout",
     "output_type": "stream",
     "text": [
      "Epoch 24:\n",
      "Train Loss: 0.2859365530419348, Train Accuracy: 0.7946703108985309\n",
      "Validation Loss: 0.36448321688423513, Validation Accuracy: 0.6906745498521902\n"
     ]
    },
    {
     "name": "stderr",
     "output_type": "stream",
     "text": [
      " 50%|█████     | 25/50 [00:26<00:26,  1.06s/it]"
     ]
    },
    {
     "name": "stdout",
     "output_type": "stream",
     "text": [
      "Epoch 25:\n",
      "Train Loss: 0.2859213105236865, Train Accuracy: 0.7946703108985309\n",
      "Validation Loss: 0.3644342457945757, Validation Accuracy: 0.6914135984950283\n"
     ]
    },
    {
     "name": "stderr",
     "output_type": "stream",
     "text": [
      " 52%|█████▏    | 26/50 [00:27<00:25,  1.08s/it]"
     ]
    },
    {
     "name": "stdout",
     "output_type": "stream",
     "text": [
      "Epoch 26:\n",
      "Train Loss: 0.28591195765529365, Train Accuracy: 0.7944140758455757\n",
      "Validation Loss: 0.36439163393643353, Validation Accuracy: 0.6921526471378662\n"
     ]
    },
    {
     "name": "stderr",
     "output_type": "stream",
     "text": [
      " 54%|█████▍    | 27/50 [00:28<00:25,  1.11s/it]"
     ]
    },
    {
     "name": "stdout",
     "output_type": "stream",
     "text": [
      "Epoch 27:\n",
      "Train Loss: 0.2859070524793665, Train Accuracy: 0.7943286641612572\n",
      "Validation Loss: 0.36435421105678056, Validation Accuracy: 0.6914135984950283\n"
     ]
    },
    {
     "name": "stderr",
     "output_type": "stream",
     "text": [
      " 56%|█████▌    | 28/50 [00:30<00:28,  1.31s/it]"
     ]
    },
    {
     "name": "stdout",
     "output_type": "stream",
     "text": [
      "Epoch 28:\n",
      "Train Loss: 0.28590548150987505, Train Accuracy: 0.7943286641612572\n",
      "Validation Loss: 0.36432106034362505, Validation Accuracy: 0.6914135984950283\n"
     ]
    },
    {
     "name": "stderr",
     "output_type": "stream",
     "text": [
      " 58%|█████▊    | 29/50 [00:31<00:26,  1.25s/it]"
     ]
    },
    {
     "name": "stdout",
     "output_type": "stream",
     "text": [
      "Epoch 29:\n",
      "Train Loss: 0.2859063853777562, Train Accuracy: 0.7942432524769388\n",
      "Validation Loss: 0.36429145990891404, Validation Accuracy: 0.6914135984950283\n"
     ]
    },
    {
     "name": "stderr",
     "output_type": "stream",
     "text": [
      " 60%|██████    | 30/50 [00:32<00:24,  1.24s/it]"
     ]
    },
    {
     "name": "stdout",
     "output_type": "stream",
     "text": [
      "Epoch 30:\n",
      "Train Loss: 0.2859091015852194, Train Accuracy: 0.7943286641612572\n",
      "Validation Loss: 0.36426483828680384, Validation Accuracy: 0.6914135984950283\n"
     ]
    },
    {
     "name": "stderr",
     "output_type": "stream",
     "text": [
      " 62%|██████▏   | 31/50 [00:34<00:24,  1.28s/it]"
     ]
    },
    {
     "name": "stdout",
     "output_type": "stream",
     "text": [
      "Epoch 31:\n",
      "Train Loss: 0.285913120310312, Train Accuracy: 0.7941578407926204\n",
      "Validation Loss: 0.3642407404704594, Validation Accuracy: 0.6914135984950283\n"
     ]
    },
    {
     "name": "stderr",
     "output_type": "stream",
     "text": [
      " 64%|██████▍   | 32/50 [00:35<00:23,  1.28s/it]"
     ]
    },
    {
     "name": "stdout",
     "output_type": "stream",
     "text": [
      "Epoch 32:\n",
      "Train Loss: 0.2859180502079716, Train Accuracy: 0.7941578407926204\n",
      "Validation Loss: 0.3642188019090625, Validation Accuracy: 0.6914135984950283\n"
     ]
    },
    {
     "name": "stderr",
     "output_type": "stream",
     "text": [
      " 66%|██████▌   | 33/50 [00:36<00:20,  1.20s/it]"
     ]
    },
    {
     "name": "stdout",
     "output_type": "stream",
     "text": [
      "Epoch 33:\n",
      "Train Loss: 0.2859235918961323, Train Accuracy: 0.7943286641612572\n",
      "Validation Loss: 0.36419872854158275, Validation Accuracy: 0.6914135984950283\n"
     ]
    },
    {
     "name": "stderr",
     "output_type": "stream",
     "text": [
      " 68%|██████▊   | 34/50 [00:38<00:20,  1.31s/it]"
     ]
    },
    {
     "name": "stdout",
     "output_type": "stream",
     "text": [
      "Epoch 34:\n",
      "Train Loss: 0.28592951736829486, Train Accuracy: 0.7942432524769388\n",
      "Validation Loss: 0.3641802814248509, Validation Accuracy: 0.6906745498521902\n"
     ]
    },
    {
     "name": "stderr",
     "output_type": "stream",
     "text": [
      " 70%|███████   | 35/50 [00:39<00:19,  1.27s/it]"
     ]
    },
    {
     "name": "stdout",
     "output_type": "stream",
     "text": [
      "Epoch 35:\n",
      "Train Loss: 0.2859356539885313, Train Accuracy: 0.7941578407926204\n",
      "Validation Loss: 0.36416326486918427, Validation Accuracy: 0.6906745498521902\n"
     ]
    },
    {
     "name": "stderr",
     "output_type": "stream",
     "text": [
      " 72%|███████▏  | 36/50 [00:40<00:16,  1.21s/it]"
     ]
    },
    {
     "name": "stdout",
     "output_type": "stream",
     "text": [
      "Epoch 36:\n",
      "Train Loss: 0.28594187203770177, Train Accuracy: 0.7941578407926204\n",
      "Validation Loss: 0.3641475172594812, Validation Accuracy: 0.6906745498521902\n"
     ]
    },
    {
     "name": "stderr",
     "output_type": "stream",
     "text": [
      " 74%|███████▍  | 37/50 [00:41<00:14,  1.15s/it]"
     ]
    },
    {
     "name": "stdout",
     "output_type": "stream",
     "text": [
      "Epoch 37:\n",
      "Train Loss: 0.2859480750169539, Train Accuracy: 0.7942432524769388\n",
      "Validation Loss: 0.36413290393759995, Validation Accuracy: 0.6906745498521902\n"
     ]
    },
    {
     "name": "stderr",
     "output_type": "stream",
     "text": [
      " 76%|███████▌  | 38/50 [00:42<00:13,  1.12s/it]"
     ]
    },
    {
     "name": "stdout",
     "output_type": "stream",
     "text": [
      "Epoch 38:\n",
      "Train Loss: 0.2859541920954549, Train Accuracy: 0.7944994875298941\n",
      "Validation Loss: 0.3641193116706161, Validation Accuracy: 0.6906745498521902\n"
     ]
    },
    {
     "name": "stderr",
     "output_type": "stream",
     "text": [
      " 78%|███████▊  | 39/50 [00:43<00:13,  1.24s/it]"
     ]
    },
    {
     "name": "stdout",
     "output_type": "stream",
     "text": [
      "Epoch 39:\n",
      "Train Loss: 0.2859601722277764, Train Accuracy: 0.7943286641612572\n",
      "Validation Loss: 0.36410664434173234, Validation Accuracy: 0.6906745498521902\n"
     ]
    },
    {
     "name": "stderr",
     "output_type": "stream",
     "text": [
      " 80%|████████  | 40/50 [00:45<00:11,  1.20s/it]"
     ]
    },
    {
     "name": "stdout",
     "output_type": "stream",
     "text": [
      "Epoch 40:\n",
      "Train Loss: 0.2859659795727182, Train Accuracy: 0.7942432524769388\n",
      "Validation Loss: 0.3640948195856885, Validation Accuracy: 0.6906745498521902\n"
     ]
    },
    {
     "name": "stderr",
     "output_type": "stream",
     "text": [
      " 82%|████████▏ | 41/50 [00:46<00:11,  1.28s/it]"
     ]
    },
    {
     "name": "stdout",
     "output_type": "stream",
     "text": [
      "Epoch 41:\n",
      "Train Loss: 0.28597158992737176, Train Accuracy: 0.7942432524769388\n",
      "Validation Loss: 0.3640837661550725, Validation Accuracy: 0.6914135984950283\n"
     ]
    },
    {
     "name": "stderr",
     "output_type": "stream",
     "text": [
      " 84%|████████▍ | 42/50 [00:47<00:10,  1.26s/it]"
     ]
    },
    {
     "name": "stdout",
     "output_type": "stream",
     "text": [
      "Epoch 42:\n",
      "Train Loss: 0.28597698795359333, Train Accuracy: 0.7942432524769388\n",
      "Validation Loss: 0.36407342185323016, Validation Accuracy: 0.6914135984950283\n"
     ]
    },
    {
     "name": "stderr",
     "output_type": "stream",
     "text": [
      " 86%|████████▌ | 43/50 [00:48<00:08,  1.25s/it]"
     ]
    },
    {
     "name": "stdout",
     "output_type": "stream",
     "text": [
      "Epoch 43:\n",
      "Train Loss: 0.28598216502318285, Train Accuracy: 0.7944140758455757\n",
      "Validation Loss: 0.3640637319070968, Validation Accuracy: 0.6914135984950283\n"
     ]
    },
    {
     "name": "stderr",
     "output_type": "stream",
     "text": [
      " 88%|████████▊ | 44/50 [00:50<00:07,  1.29s/it]"
     ]
    },
    {
     "name": "stdout",
     "output_type": "stream",
     "text": [
      "Epoch 44:\n",
      "Train Loss: 0.2859871175461916, Train Accuracy: 0.7943286641612572\n",
      "Validation Loss: 0.3640546476821318, Validation Accuracy: 0.6914135984950283\n"
     ]
    },
    {
     "name": "stderr",
     "output_type": "stream",
     "text": [
      " 90%|█████████ | 45/50 [00:51<00:06,  1.28s/it]"
     ]
    },
    {
     "name": "stdout",
     "output_type": "stream",
     "text": [
      "Epoch 45:\n",
      "Train Loss: 0.28599184567647307, Train Accuracy: 0.7944994875298941\n",
      "Validation Loss: 0.36404612566371886, Validation Accuracy: 0.6914135984950283\n"
     ]
    },
    {
     "name": "stderr",
     "output_type": "stream",
     "text": [
      " 92%|█████████▏| 46/50 [00:52<00:05,  1.27s/it]"
     ]
    },
    {
     "name": "stdout",
     "output_type": "stream",
     "text": [
      "Epoch 46:\n",
      "Train Loss: 0.28599635231169673, Train Accuracy: 0.7945848992142125\n",
      "Validation Loss: 0.36403812664640944, Validation Accuracy: 0.6914135984950283\n"
     ]
    },
    {
     "name": "stderr",
     "output_type": "stream",
     "text": [
      " 94%|█████████▍| 47/50 [00:54<00:03,  1.29s/it]"
     ]
    },
    {
     "name": "stdout",
     "output_type": "stream",
     "text": [
      "Epoch 47:\n",
      "Train Loss: 0.2860006423230904, Train Accuracy: 0.7944994875298941\n",
      "Validation Loss: 0.36403061508559115, Validation Accuracy: 0.6914135984950283\n"
     ]
    },
    {
     "name": "stderr",
     "output_type": "stream",
     "text": [
      " 96%|█████████▌| 48/50 [00:55<00:02,  1.29s/it]"
     ]
    },
    {
     "name": "stdout",
     "output_type": "stream",
     "text": [
      "Epoch 48:\n",
      "Train Loss: 0.2860047219642744, Train Accuracy: 0.7944994875298941\n",
      "Validation Loss: 0.36402355857626584, Validation Accuracy: 0.6914135984950283\n"
     ]
    },
    {
     "name": "stderr",
     "output_type": "stream",
     "text": [
      " 98%|█████████▊| 49/50 [00:56<00:01,  1.20s/it]"
     ]
    },
    {
     "name": "stdout",
     "output_type": "stream",
     "text": [
      "Epoch 49:\n",
      "Train Loss: 0.28600859841957177, Train Accuracy: 0.7944994875298941\n",
      "Validation Loss: 0.36401692743153763, Validation Accuracy: 0.6914135984950283\n"
     ]
    },
    {
     "name": "stderr",
     "output_type": "stream",
     "text": [
      "100%|██████████| 50/50 [00:57<00:00,  1.15s/it]"
     ]
    },
    {
     "name": "stdout",
     "output_type": "stream",
     "text": [
      "Epoch 50:\n",
      "Train Loss: 0.2860122794607927, Train Accuracy: 0.7945848992142125\n",
      "Validation Loss: 0.36401069433943484, Validation Accuracy: 0.6914135984950283\n"
     ]
    },
    {
     "name": "stderr",
     "output_type": "stream",
     "text": [
      "\n"
     ]
    }
   ],
   "source": [
    "model = Perceptron(input_size=X_train.shape[1] , learning_rate=0.0002, epochs=50, activation=\"sigmoid\")\n",
    "model.fit(X_train, Y_train, x_validation, y_validation)\n"
   ]
  },
  {
   "cell_type": "code",
   "execution_count": 183,
   "metadata": {},
   "outputs": [
    {
     "name": "stdout",
     "output_type": "stream",
     "text": [
      "Test Loss: 0.37140640741659386, Test Accuracy: 0.6895628395452493\n"
     ]
    }
   ],
   "source": [
    "train_predictions = model.predict(X_train)\n",
    "test_predictions = model.predict(X_test)\n",
    "\n",
    "test_loss, test_accuracy = model.evaluate(X_test, Y_test)\n",
    "print(f\"Test Loss: {test_loss}, Test Accuracy: {test_accuracy}\")"
   ]
  },
  {
   "cell_type": "code",
   "execution_count": 184,
   "metadata": {},
   "outputs": [
    {
     "data": {
      "image/png": "[encoded data removed]",
      "text/plain": [
       "<Figure size 1500x800 with 2 Axes>"
      ]
     },
     "metadata": {},
     "output_type": "display_data"
    }
   ],
   "source": [
    "epochs = range(1, model.epochs + 1)\n",
    "\n",
    "fig = plt.figure(figsize=(15, 8))\n",
    "fig.patch.set_facecolor('#2b2b2b')  \n",
    "\n",
    "ax1 = fig.add_subplot(121)  \n",
    "ax2 = fig.add_subplot(122)  \n",
    "\n",
    "\n",
    "ax1.plot(epochs, model.train_accuracies, label='Training Accuracy', color='lime', linewidth=2.5)\n",
    "ax1.plot(epochs, model.validation_accuracies, label='Test Accuracy', color='cyan', linewidth=2.5)\n",
    "ax1.set_title(\"Accuracy per Epoch\", fontsize=14, color='#e0e0e0')\n",
    "ax1.set_xlabel(\"Epoch\", fontsize=12, color='#e0e0e0')\n",
    "ax1.set_ylabel(\"Accuracy\", fontsize=12, color='#e0e0e0')\n",
    "ax1.legend(loc='best', fontsize=10, facecolor='#2b2b2b', edgecolor='#555555')\n",
    "ax1.tick_params(axis='x', colors='#e0e0e0')\n",
    "ax1.tick_params(axis='y', colors='#e0e0e0')\n",
    "ax1.grid(color='#555555', linestyle='--', linewidth=0.5, alpha=0.6)\n",
    "ax1.set_facecolor('#2b2b2b')  \n",
    "\n",
    "\n",
    "ax2.plot(epochs, model.train_losses, label='Training Loss', color='orange', linewidth=2.5)\n",
    "ax2.plot(epochs, model.validation_losses, label='Test Loss', color='red', linewidth=2.5)\n",
    "ax2.set_title(\"Loss per Epoch\", fontsize=14, color='#e0e0e0')\n",
    "ax2.set_xlabel(\"Epoch\", fontsize=12, color='#e0e0e0')\n",
    "ax2.set_ylabel(\"Loss\", fontsize=12, color='#e0e0e0')\n",
    "ax2.legend(loc='best', fontsize=10, facecolor='#2b2b2b', edgecolor='#555555')\n",
    "ax2.tick_params(axis='x', colors='#e0e0e0')\n",
    "ax2.tick_params(axis='y', colors='#e0e0e0')\n",
    "ax2.grid(color='#555555', linestyle='--', linewidth=0.5, alpha=0.6)\n",
    "ax2.set_facecolor('#2b2b2b') \n",
    "\n",
    "\n",
    "plt.tight_layout()\n",
    "plt.show()\n",
    "\n"
   ]
  },
  {
   "cell_type": "code",
   "execution_count": 191,
   "metadata": {},
   "outputs": [],
   "source": [
    "Y_test = np.where(Y_test > 0.5, 1, 0).flatten()\n",
    "test_predictions = np.where(model.predict(X_test) > 0.5, 1, 0).flatten()\n",
    "\n",
    "conf_matrix = confusion_matrix(Y_test, test_predictions)"
   ]
  },
  {
   "cell_type": "code",
   "execution_count": null,
   "metadata": {},
   "outputs": [
    {
     "data": {
      "image/png": "[encoded data removed]",
      "text/plain": [
       "<Figure size 800x600 with 1 Axes>"
      ]
     },
     "metadata": {},
     "output_type": "display_data"
    }
   ],
   "source": [
    "plt.figure(figsize=(8, 6))\n",
    "fig = plt.gcf()  \n",
    "fig.patch.set_facecolor('#2b2b2b')  \n",
    "\n",
    "sns.heatmap(conf_matrix, annot=True, fmt=\"d\", cmap=\"coolwarm\", cbar=False)\n",
    "plt.title(\"Confusion Matrix\", fontsize=14, color='#e0e0e0')\n",
    "plt.xlabel(\"Predicted Labels\", fontsize=12, color='#e0e0e0')\n",
    "plt.ylabel(\"True Labels\", fontsize=12, color='#e0e0e0')\n",
    "plt.xticks(color='#e0e0e0')\n",
    "plt.yticks(color='#e0e0e0')\n",
    "\n",
    "plt.tight_layout()\n",
    "plt.show()\n"
   ]
  },
  {
   "cell_type": "code",
   "execution_count": 200,
   "metadata": {},
   "outputs": [
    {
     "name": "stderr",
     "output_type": "stream",
     "text": [
      "  2%|▏         | 1/50 [00:01<00:54,  1.10s/it]"
     ]
    },
    {
     "name": "stdout",
     "output_type": "stream",
     "text": [
      "Epoch 1:\n",
      "Train Loss: 0.5401769477438119, Train Accuracy: 0.6394772804919713\n",
      "Validation Loss: 0.5338551774281571, Validation Accuracy: 0.5524724536414942\n"
     ]
    },
    {
     "name": "stderr",
     "output_type": "stream",
     "text": [
      "  4%|▍         | 2/50 [00:02<00:49,  1.03s/it]"
     ]
    },
    {
     "name": "stdout",
     "output_type": "stream",
     "text": [
      "Epoch 2:\n",
      "Train Loss: 0.4003845510704958, Train Accuracy: 0.6822685343354971\n",
      "Validation Loss: 0.42549174889593816, Validation Accuracy: 0.624899220639613\n"
     ]
    },
    {
     "name": "stderr",
     "output_type": "stream",
     "text": [
      "  6%|▌         | 3/50 [00:02<00:44,  1.07it/s]"
     ]
    },
    {
     "name": "stdout",
     "output_type": "stream",
     "text": [
      "Epoch 3:\n",
      "Train Loss: 0.3339239219197391, Train Accuracy: 0.7552955244277417\n",
      "Validation Loss: 0.38725912982069827, Validation Accuracy: 0.667024993281376\n"
     ]
    },
    {
     "name": "stderr",
     "output_type": "stream",
     "text": [
      "  8%|▊         | 4/50 [00:03<00:42,  1.09it/s]"
     ]
    },
    {
     "name": "stdout",
     "output_type": "stream",
     "text": [
      "Epoch 4:\n",
      "Train Loss: 0.3114989447925834, Train Accuracy: 0.7853604373078237\n",
      "Validation Loss: 0.3772589874990015, Validation Accuracy: 0.6862402579951626\n"
     ]
    },
    {
     "name": "stderr",
     "output_type": "stream",
     "text": [
      " 10%|█         | 5/50 [00:04<00:39,  1.13it/s]"
     ]
    },
    {
     "name": "stdout",
     "output_type": "stream",
     "text": [
      "Epoch 5:\n",
      "Train Loss: 0.30378389666154265, Train Accuracy: 0.7911684318414759\n",
      "Validation Loss: 0.3742026412070155, Validation Accuracy: 0.6884574039236764\n"
     ]
    },
    {
     "name": "stderr",
     "output_type": "stream",
     "text": [
      " 12%|█▏        | 6/50 [00:05<00:39,  1.11it/s]"
     ]
    },
    {
     "name": "stdout",
     "output_type": "stream",
     "text": [
      "Epoch 6:\n",
      "Train Loss: 0.30072230701150315, Train Accuracy: 0.79202254868466\n",
      "Validation Loss: 0.3731955645930172, Validation Accuracy: 0.6840231120666488\n"
     ]
    },
    {
     "name": "stderr",
     "output_type": "stream",
     "text": [
      " 14%|█▍        | 7/50 [00:06<00:42,  1.02it/s]"
     ]
    },
    {
     "name": "stdout",
     "output_type": "stream",
     "text": [
      "Epoch 7:\n",
      "Train Loss: 0.29941292097586736, Train Accuracy: 0.7925350187905705\n",
      "Validation Loss: 0.3730678678017305, Validation Accuracy: 0.6869793066380006\n"
     ]
    },
    {
     "name": "stderr",
     "output_type": "stream",
     "text": [
      " 16%|█▌        | 8/50 [00:07<00:44,  1.06s/it]"
     ]
    },
    {
     "name": "stdout",
     "output_type": "stream",
     "text": [
      "Epoch 8:\n",
      "Train Loss: 0.29885633743955936, Train Accuracy: 0.794072429108302\n",
      "Validation Loss: 0.37307371670934253, Validation Accuracy: 0.6855012093523246\n"
     ]
    },
    {
     "name": "stderr",
     "output_type": "stream",
     "text": [
      " 18%|█▊        | 9/50 [00:08<00:42,  1.04s/it]"
     ]
    },
    {
     "name": "stdout",
     "output_type": "stream",
     "text": [
      "Epoch 9:\n",
      "Train Loss: 0.2985732471080143, Train Accuracy: 0.7944994875298941\n",
      "Validation Loss: 0.37313838946001554, Validation Accuracy: 0.6847621607094867\n"
     ]
    },
    {
     "name": "stderr",
     "output_type": "stream",
     "text": [
      " 20%|██        | 10/50 [00:09<00:39,  1.00it/s]"
     ]
    },
    {
     "name": "stdout",
     "output_type": "stream",
     "text": [
      "Epoch 10:\n",
      "Train Loss: 0.29842457900538977, Train Accuracy: 0.7939016057396652\n",
      "Validation Loss: 0.37319423283454595, Validation Accuracy: 0.6840231120666488\n"
     ]
    },
    {
     "name": "stderr",
     "output_type": "stream",
     "text": [
      " 22%|██▏       | 11/50 [00:11<00:51,  1.31s/it]"
     ]
    },
    {
     "name": "stdout",
     "output_type": "stream",
     "text": [
      "Epoch 11:\n",
      "Train Loss: 0.2983448737927881, Train Accuracy: 0.7939870174239836\n",
      "Validation Loss: 0.37324943693200274, Validation Accuracy: 0.6840231120666488\n"
     ]
    },
    {
     "name": "stderr",
     "output_type": "stream",
     "text": [
      " 24%|██▍       | 12/50 [00:12<00:47,  1.24s/it]"
     ]
    },
    {
     "name": "stdout",
     "output_type": "stream",
     "text": [
      "Epoch 12:\n",
      "Train Loss: 0.2983012175436283, Train Accuracy: 0.794072429108302\n",
      "Validation Loss: 0.37328703344545006, Validation Accuracy: 0.6847621607094867\n"
     ]
    },
    {
     "name": "stderr",
     "output_type": "stream",
     "text": [
      " 26%|██▌       | 13/50 [00:13<00:42,  1.14s/it]"
     ]
    },
    {
     "name": "stdout",
     "output_type": "stream",
     "text": [
      "Epoch 13:\n",
      "Train Loss: 0.2982756413035759, Train Accuracy: 0.7942432524769388\n",
      "Validation Loss: 0.37331123796175675, Validation Accuracy: 0.6847621607094867\n"
     ]
    },
    {
     "name": "stderr",
     "output_type": "stream",
     "text": [
      " 28%|██▊       | 14/50 [00:14<00:41,  1.14s/it]"
     ]
    },
    {
     "name": "stdout",
     "output_type": "stream",
     "text": [
      "Epoch 14:\n",
      "Train Loss: 0.29826070525176135, Train Accuracy: 0.7941578407926204\n",
      "Validation Loss: 0.373326725493176, Validation Accuracy: 0.6847621607094867\n"
     ]
    },
    {
     "name": "stderr",
     "output_type": "stream",
     "text": [
      " 30%|███       | 15/50 [00:15<00:37,  1.08s/it]"
     ]
    },
    {
     "name": "stdout",
     "output_type": "stream",
     "text": [
      "Epoch 15:\n",
      "Train Loss: 0.29825159409562324, Train Accuracy: 0.794072429108302\n",
      "Validation Loss: 0.3733365842826376, Validation Accuracy: 0.6847621607094867\n"
     ]
    },
    {
     "name": "stderr",
     "output_type": "stream",
     "text": [
      " 32%|███▏      | 16/50 [00:16<00:33,  1.01it/s]"
     ]
    },
    {
     "name": "stdout",
     "output_type": "stream",
     "text": [
      "Epoch 16:\n",
      "Train Loss: 0.29824611606323254, Train Accuracy: 0.7939016057396652\n",
      "Validation Loss: 0.37334283387704775, Validation Accuracy: 0.6847621607094867\n"
     ]
    },
    {
     "name": "stderr",
     "output_type": "stream",
     "text": [
      " 34%|███▍      | 17/50 [00:17<00:31,  1.06it/s]"
     ]
    },
    {
     "name": "stdout",
     "output_type": "stream",
     "text": [
      "Epoch 17:\n",
      "Train Loss: 0.29824279623815986, Train Accuracy: 0.7939016057396652\n",
      "Validation Loss: 0.37334678208660765, Validation Accuracy: 0.6847621607094867\n"
     ]
    },
    {
     "name": "stderr",
     "output_type": "stream",
     "text": [
      " 36%|███▌      | 18/50 [00:18<00:29,  1.10it/s]"
     ]
    },
    {
     "name": "stdout",
     "output_type": "stream",
     "text": [
      "Epoch 18:\n",
      "Train Loss: 0.29824080219191645, Train Accuracy: 0.7939016057396652\n",
      "Validation Loss: 0.37334926920296774, Validation Accuracy: 0.6847621607094867\n"
     ]
    },
    {
     "name": "stderr",
     "output_type": "stream",
     "text": [
      " 38%|███▊      | 19/50 [00:19<00:28,  1.11it/s]"
     ]
    },
    {
     "name": "stdout",
     "output_type": "stream",
     "text": [
      "Epoch 19:\n",
      "Train Loss: 0.29823959666544264, Train Accuracy: 0.7939016057396652\n",
      "Validation Loss: 0.3733508319142784, Validation Accuracy: 0.6847621607094867\n"
     ]
    },
    {
     "name": "stderr",
     "output_type": "stream",
     "text": [
      " 40%|████      | 20/50 [00:20<00:26,  1.14it/s]"
     ]
    },
    {
     "name": "stdout",
     "output_type": "stream",
     "text": [
      "Epoch 20:\n",
      "Train Loss: 0.298238872211109, Train Accuracy: 0.7939016057396652\n",
      "Validation Loss: 0.3733518114473663, Validation Accuracy: 0.6847621607094867\n"
     ]
    },
    {
     "name": "stderr",
     "output_type": "stream",
     "text": [
      " 42%|████▏     | 21/50 [00:20<00:25,  1.16it/s]"
     ]
    },
    {
     "name": "stdout",
     "output_type": "stream",
     "text": [
      "Epoch 21:\n",
      "Train Loss: 0.2982384400932912, Train Accuracy: 0.7939016057396652\n",
      "Validation Loss: 0.37335242398962365, Validation Accuracy: 0.6847621607094867\n"
     ]
    },
    {
     "name": "stderr",
     "output_type": "stream",
     "text": [
      " 44%|████▍     | 22/50 [00:21<00:25,  1.10it/s]"
     ]
    },
    {
     "name": "stdout",
     "output_type": "stream",
     "text": [
      "Epoch 22:\n",
      "Train Loss: 0.2982381847218746, Train Accuracy: 0.7939016057396652\n",
      "Validation Loss: 0.3733528061166723, Validation Accuracy: 0.6847621607094867\n"
     ]
    },
    {
     "name": "stderr",
     "output_type": "stream",
     "text": [
      " 46%|████▌     | 23/50 [00:22<00:25,  1.07it/s]"
     ]
    },
    {
     "name": "stdout",
     "output_type": "stream",
     "text": [
      "Epoch 23:\n",
      "Train Loss: 0.2982380355408812, Train Accuracy: 0.7939016057396652\n",
      "Validation Loss: 0.3733530438986536, Validation Accuracy: 0.6847621607094867\n"
     ]
    },
    {
     "name": "stderr",
     "output_type": "stream",
     "text": [
      " 48%|████▊     | 24/50 [00:23<00:24,  1.05it/s]"
     ]
    },
    {
     "name": "stdout",
     "output_type": "stream",
     "text": [
      "Epoch 24:\n",
      "Train Loss: 0.2982379496689405, Train Accuracy: 0.7939016057396652\n",
      "Validation Loss: 0.3733531914571878, Validation Accuracy: 0.6847621607094867\n"
     ]
    },
    {
     "name": "stderr",
     "output_type": "stream",
     "text": [
      " 50%|█████     | 25/50 [00:24<00:23,  1.05it/s]"
     ]
    },
    {
     "name": "stdout",
     "output_type": "stream",
     "text": [
      "Epoch 25:\n",
      "Train Loss: 0.2982379011835007, Train Accuracy: 0.7939016057396652\n",
      "Validation Loss: 0.3733532827527619, Validation Accuracy: 0.6847621607094867\n"
     ]
    },
    {
     "name": "stderr",
     "output_type": "stream",
     "text": [
      " 52%|█████▏    | 26/50 [00:25<00:21,  1.09it/s]"
     ]
    },
    {
     "name": "stdout",
     "output_type": "stream",
     "text": [
      "Epoch 26:\n",
      "Train Loss: 0.2982378745158476, Train Accuracy: 0.7939016057396652\n",
      "Validation Loss: 0.3733533390503954, Validation Accuracy: 0.6847621607094867\n"
     ]
    },
    {
     "name": "stderr",
     "output_type": "stream",
     "text": [
      " 54%|█████▍    | 27/50 [00:26<00:20,  1.13it/s]"
     ]
    },
    {
     "name": "stdout",
     "output_type": "stream",
     "text": [
      "Epoch 27:\n",
      "Train Loss: 0.2982378603895998, Train Accuracy: 0.7939016057396652\n",
      "Validation Loss: 0.37335337363682014, Validation Accuracy: 0.6847621607094867\n"
     ]
    },
    {
     "name": "stderr",
     "output_type": "stream",
     "text": [
      " 56%|█████▌    | 28/50 [00:27<00:19,  1.12it/s]"
     ]
    },
    {
     "name": "stdout",
     "output_type": "stream",
     "text": [
      "Epoch 28:\n",
      "Train Loss: 0.2982378533311596, Train Accuracy: 0.7939016057396652\n",
      "Validation Loss: 0.37335339479481233, Validation Accuracy: 0.6847621607094867\n"
     ]
    },
    {
     "name": "stderr",
     "output_type": "stream",
     "text": [
      " 58%|█████▊    | 29/50 [00:28<00:18,  1.11it/s]"
     ]
    },
    {
     "name": "stdout",
     "output_type": "stream",
     "text": [
      "Epoch 29:\n",
      "Train Loss: 0.2982378501497555, Train Accuracy: 0.7939016057396652\n",
      "Validation Loss: 0.3733534076749996, Validation Accuracy: 0.6847621607094867\n"
     ]
    },
    {
     "name": "stderr",
     "output_type": "stream",
     "text": [
      " 60%|██████    | 30/50 [00:29<00:19,  1.01it/s]"
     ]
    },
    {
     "name": "stdout",
     "output_type": "stream",
     "text": [
      "Epoch 30:\n",
      "Train Loss: 0.29823784901390943, Train Accuracy: 0.7939016057396652\n",
      "Validation Loss: 0.3733534154716236, Validation Accuracy: 0.6847621607094867\n"
     ]
    },
    {
     "name": "stderr",
     "output_type": "stream",
     "text": [
      " 62%|██████▏   | 31/50 [00:30<00:19,  1.01s/it]"
     ]
    },
    {
     "name": "stdout",
     "output_type": "stream",
     "text": [
      "Epoch 31:\n",
      "Train Loss: 0.2982378488934997, Train Accuracy: 0.7939016057396652\n",
      "Validation Loss: 0.3733534201597067, Validation Accuracy: 0.6847621607094867\n"
     ]
    },
    {
     "name": "stderr",
     "output_type": "stream",
     "text": [
      " 64%|██████▍   | 32/50 [00:31<00:18,  1.01s/it]"
     ]
    },
    {
     "name": "stdout",
     "output_type": "stream",
     "text": [
      "Epoch 32:\n",
      "Train Loss: 0.2982378492250153, Train Accuracy: 0.7939016057396652\n",
      "Validation Loss: 0.37335342295631496, Validation Accuracy: 0.6847621607094867\n"
     ]
    },
    {
     "name": "stderr",
     "output_type": "stream",
     "text": [
      " 66%|██████▌   | 33/50 [00:32<00:17,  1.01s/it]"
     ]
    },
    {
     "name": "stdout",
     "output_type": "stream",
     "text": [
      "Epoch 33:\n",
      "Train Loss: 0.29823784971237177, Train Accuracy: 0.7939016057396652\n",
      "Validation Loss: 0.3733534246085995, Validation Accuracy: 0.6847621607094867\n"
     ]
    },
    {
     "name": "stderr",
     "output_type": "stream",
     "text": [
      " 68%|██████▊   | 34/50 [00:33<00:15,  1.02it/s]"
     ]
    },
    {
     "name": "stdout",
     "output_type": "stream",
     "text": [
      "Epoch 34:\n",
      "Train Loss: 0.298237850209599, Train Accuracy: 0.7939016057396652\n",
      "Validation Loss: 0.3733534255732441, Validation Accuracy: 0.6847621607094867\n"
     ]
    },
    {
     "name": "stderr",
     "output_type": "stream",
     "text": [
      " 70%|███████   | 35/50 [00:34<00:14,  1.05it/s]"
     ]
    },
    {
     "name": "stdout",
     "output_type": "stream",
     "text": [
      "Epoch 35:\n",
      "Train Loss: 0.29823785065260494, Train Accuracy: 0.7939016057396652\n",
      "Validation Loss: 0.3733534261279986, Validation Accuracy: 0.6847621607094867\n"
     ]
    },
    {
     "name": "stderr",
     "output_type": "stream",
     "text": [
      " 72%|███████▏  | 36/50 [00:35<00:13,  1.06it/s]"
     ]
    },
    {
     "name": "stdout",
     "output_type": "stream",
     "text": [
      "Epoch 36:\n",
      "Train Loss: 0.29823785102013695, Train Accuracy: 0.7939016057396652\n",
      "Validation Loss: 0.3733534264408081, Validation Accuracy: 0.6847621607094867\n"
     ]
    },
    {
     "name": "stderr",
     "output_type": "stream",
     "text": [
      " 74%|███████▍  | 37/50 [00:36<00:12,  1.05it/s]"
     ]
    },
    {
     "name": "stdout",
     "output_type": "stream",
     "text": [
      "Epoch 37:\n",
      "Train Loss: 0.29823785131190816, Train Accuracy: 0.7939016057396652\n",
      "Validation Loss: 0.37335342661252774, Validation Accuracy: 0.6847621607094867\n"
     ]
    },
    {
     "name": "stderr",
     "output_type": "stream",
     "text": [
      " 76%|███████▌  | 38/50 [00:37<00:11,  1.07it/s]"
     ]
    },
    {
     "name": "stdout",
     "output_type": "stream",
     "text": [
      "Epoch 38:\n",
      "Train Loss: 0.2982378515367048, Train Accuracy: 0.7939016057396652\n",
      "Validation Loss: 0.3733534267032292, Validation Accuracy: 0.6847621607094867\n"
     ]
    },
    {
     "name": "stderr",
     "output_type": "stream",
     "text": [
      " 78%|███████▊  | 39/50 [00:38<00:10,  1.09it/s]"
     ]
    },
    {
     "name": "stdout",
     "output_type": "stream",
     "text": [
      "Epoch 39:\n",
      "Train Loss: 0.2982378517061918, Train Accuracy: 0.7939016057396652\n",
      "Validation Loss: 0.37335342674833705, Validation Accuracy: 0.6847621607094867\n"
     ]
    },
    {
     "name": "stderr",
     "output_type": "stream",
     "text": [
      " 80%|████████  | 40/50 [00:39<00:09,  1.06it/s]"
     ]
    },
    {
     "name": "stdout",
     "output_type": "stream",
     "text": [
      "Epoch 40:\n",
      "Train Loss: 0.29823785183190216, Train Accuracy: 0.7939016057396652\n",
      "Validation Loss: 0.37335342676848565, Validation Accuracy: 0.6847621607094867\n"
     ]
    },
    {
     "name": "stderr",
     "output_type": "stream",
     "text": [
      " 82%|████████▏ | 41/50 [00:39<00:08,  1.08it/s]"
     ]
    },
    {
     "name": "stdout",
     "output_type": "stream",
     "text": [
      "Epoch 41:\n",
      "Train Loss: 0.2982378519239559, Train Accuracy: 0.7939016057396652\n",
      "Validation Loss: 0.37335342677550415, Validation Accuracy: 0.6847621607094867\n"
     ]
    },
    {
     "name": "stderr",
     "output_type": "stream",
     "text": [
      " 84%|████████▍ | 42/50 [00:40<00:07,  1.07it/s]"
     ]
    },
    {
     "name": "stdout",
     "output_type": "stream",
     "text": [
      "Epoch 42:\n",
      "Train Loss: 0.29823785199067443, Train Accuracy: 0.7939016057396652\n",
      "Validation Loss: 0.3733534267760366, Validation Accuracy: 0.6847621607094867\n"
     ]
    },
    {
     "name": "stderr",
     "output_type": "stream",
     "text": [
      " 86%|████████▌ | 43/50 [00:41<00:06,  1.06it/s]"
     ]
    },
    {
     "name": "stdout",
     "output_type": "stream",
     "text": [
      "Epoch 43:\n",
      "Train Loss: 0.298237852038624, Train Accuracy: 0.7939016057396652\n",
      "Validation Loss: 0.3733534267737111, Validation Accuracy: 0.6847621607094867\n"
     ]
    },
    {
     "name": "stderr",
     "output_type": "stream",
     "text": [
      " 88%|████████▊ | 44/50 [00:42<00:05,  1.03it/s]"
     ]
    },
    {
     "name": "stdout",
     "output_type": "stream",
     "text": [
      "Epoch 44:\n",
      "Train Loss: 0.2982378520728439, Train Accuracy: 0.7939016057396652\n",
      "Validation Loss: 0.3733534267704276, Validation Accuracy: 0.6847621607094867\n"
     ]
    },
    {
     "name": "stderr",
     "output_type": "stream",
     "text": [
      " 90%|█████████ | 45/50 [00:43<00:04,  1.08it/s]"
     ]
    },
    {
     "name": "stdout",
     "output_type": "stream",
     "text": [
      "Epoch 45:\n",
      "Train Loss: 0.2982378520971201, Train Accuracy: 0.7939016057396652\n",
      "Validation Loss: 0.37335342676711625, Validation Accuracy: 0.6847621607094867\n"
     ]
    },
    {
     "name": "stderr",
     "output_type": "stream",
     "text": [
      " 92%|█████████▏| 46/50 [00:44<00:03,  1.09it/s]"
     ]
    },
    {
     "name": "stdout",
     "output_type": "stream",
     "text": [
      "Epoch 46:\n",
      "Train Loss: 0.2982378521142547, Train Accuracy: 0.7939016057396652\n",
      "Validation Loss: 0.37335342676418287, Validation Accuracy: 0.6847621607094867\n"
     ]
    },
    {
     "name": "stderr",
     "output_type": "stream",
     "text": [
      " 94%|█████████▍| 47/50 [00:45<00:02,  1.08it/s]"
     ]
    },
    {
     "name": "stdout",
     "output_type": "stream",
     "text": [
      "Epoch 47:\n",
      "Train Loss: 0.2982378521262957, Train Accuracy: 0.7939016057396652\n",
      "Validation Loss: 0.37335342676175803, Validation Accuracy: 0.6847621607094867\n"
     ]
    },
    {
     "name": "stderr",
     "output_type": "stream",
     "text": [
      " 96%|█████████▌| 48/50 [00:46<00:01,  1.06it/s]"
     ]
    },
    {
     "name": "stdout",
     "output_type": "stream",
     "text": [
      "Epoch 48:\n",
      "Train Loss: 0.29823785213472437, Train Accuracy: 0.7939016057396652\n",
      "Validation Loss: 0.3733534267598362, Validation Accuracy: 0.6847621607094867\n"
     ]
    },
    {
     "name": "stderr",
     "output_type": "stream",
     "text": [
      " 98%|█████████▊| 49/50 [00:47<00:00,  1.10it/s]"
     ]
    },
    {
     "name": "stdout",
     "output_type": "stream",
     "text": [
      "Epoch 49:\n",
      "Train Loss: 0.2982378521406045, Train Accuracy: 0.7939016057396652\n",
      "Validation Loss: 0.3733534267583583, Validation Accuracy: 0.6847621607094867\n"
     ]
    },
    {
     "name": "stderr",
     "output_type": "stream",
     "text": [
      "100%|██████████| 50/50 [00:48<00:00,  1.04it/s]"
     ]
    },
    {
     "name": "stdout",
     "output_type": "stream",
     "text": [
      "Epoch 50:\n",
      "Train Loss: 0.2982378521446946, Train Accuracy: 0.7939016057396652\n",
      "Validation Loss: 0.37335342675724525, Validation Accuracy: 0.6847621607094867\n"
     ]
    },
    {
     "name": "stderr",
     "output_type": "stream",
     "text": [
      "\n"
     ]
    }
   ],
   "source": [
    "model = Perceptron(input_size=X_train.shape[1] , learning_rate=0.0003, epochs=50, activation=\"tanh\")\n",
    "model.fit(X_train, Y_train, x_validation, y_validation)\n"
   ]
  },
  {
   "cell_type": "code",
   "execution_count": 201,
   "metadata": {},
   "outputs": [
    {
     "name": "stdout",
     "output_type": "stream",
     "text": [
      "Test Loss: 0.38034906341875074, Test Accuracy: 0.6809626351046332\n"
     ]
    }
   ],
   "source": [
    "train_predictions = model.predict(X_train)\n",
    "test_predictions = model.predict(X_test)\n",
    "\n",
    "test_loss, test_accuracy = model.evaluate(X_test, Y_test)\n",
    "print(f\"Test Loss: {test_loss}, Test Accuracy: {test_accuracy}\")"
   ]
  },
  {
   "cell_type": "code",
   "execution_count": 202,
   "metadata": {},
   "outputs": [
    {
     "data": {
      "image/png": "[encoded data removed]",
      "text/plain": [
       "<Figure size 1500x800 with 2 Axes>"
      ]
     },
     "metadata": {},
     "output_type": "display_data"
    }
   ],
   "source": [
    "epochs = range(1, model.epochs + 1)\n",
    "\n",
    "fig = plt.figure(figsize=(15, 8))\n",
    "fig.patch.set_facecolor('#2b2b2b')  \n",
    "\n",
    "ax1 = fig.add_subplot(121)  \n",
    "ax2 = fig.add_subplot(122)  \n",
    "\n",
    "\n",
    "ax1.plot(epochs, model.train_accuracies, label='Training Accuracy', color='lime', linewidth=2.5)\n",
    "ax1.plot(epochs, model.validation_accuracies, label='Test Accuracy', color='cyan', linewidth=2.5)\n",
    "ax1.set_title(\"Accuracy per Epoch\", fontsize=14, color='#e0e0e0')\n",
    "ax1.set_xlabel(\"Epoch\", fontsize=12, color='#e0e0e0')\n",
    "ax1.set_ylabel(\"Accuracy\", fontsize=12, color='#e0e0e0')\n",
    "ax1.legend(loc='best', fontsize=10, facecolor='#2b2b2b', edgecolor='#555555')\n",
    "ax1.tick_params(axis='x', colors='#e0e0e0')\n",
    "ax1.tick_params(axis='y', colors='#e0e0e0')\n",
    "ax1.grid(color='#555555', linestyle='--', linewidth=0.5, alpha=0.6)\n",
    "ax1.set_facecolor('#2b2b2b')  \n",
    "\n",
    "\n",
    "ax2.plot(epochs, model.train_losses, label='Training Loss', color='orange', linewidth=2.5)\n",
    "ax2.plot(epochs, model.validation_losses, label='Test Loss', color='red', linewidth=2.5)\n",
    "ax2.set_title(\"Loss per Epoch\", fontsize=14, color='#e0e0e0')\n",
    "ax2.set_xlabel(\"Epoch\", fontsize=12, color='#e0e0e0')\n",
    "ax2.set_ylabel(\"Loss\", fontsize=12, color='#e0e0e0')\n",
    "ax2.legend(loc='best', fontsize=10, facecolor='#2b2b2b', edgecolor='#555555')\n",
    "ax2.tick_params(axis='x', colors='#e0e0e0')\n",
    "ax2.tick_params(axis='y', colors='#e0e0e0')\n",
    "ax2.grid(color='#555555', linestyle='--', linewidth=0.5, alpha=0.6)\n",
    "ax2.set_facecolor('#2b2b2b') \n",
    "\n",
    "\n",
    "plt.tight_layout()\n",
    "plt.show()\n",
    "\n"
   ]
  },
  {
   "cell_type": "code",
   "execution_count": 203,
   "metadata": {},
   "outputs": [],
   "source": [
    "Y_test = np.where(Y_test > 0.5, 1, 0).flatten()\n",
    "test_predictions = np.where(model.predict(X_test) > 0.5, 1, 0).flatten()\n",
    "\n",
    "conf_matrix = confusion_matrix(Y_test, test_predictions)"
   ]
  },
  {
   "cell_type": "code",
   "execution_count": 204,
   "metadata": {},
   "outputs": [
    {
     "data": {
      "image/png": "[encoded data removed]",
      "text/plain": [
       "<Figure size 800x600 with 1 Axes>"
      ]
     },
     "metadata": {},
     "output_type": "display_data"
    }
   ],
   "source": [
    "plt.figure(figsize=(8, 6))\n",
    "fig = plt.gcf()  \n",
    "fig.patch.set_facecolor('#2b2b2b')  \n",
    "\n",
    "sns.heatmap(conf_matrix, annot=True, fmt=\"d\", cmap=\"coolwarm\", cbar=False)\n",
    "plt.title(\"Confusion Matrix\", fontsize=14, color='#e0e0e0')\n",
    "plt.xlabel(\"Predicted Labels\", fontsize=12, color='#e0e0e0')\n",
    "plt.ylabel(\"True Labels\", fontsize=12, color='#e0e0e0')\n",
    "plt.xticks(color='#e0e0e0')\n",
    "plt.yticks(color='#e0e0e0')\n",
    "\n",
    "plt.tight_layout()\n",
    "plt.show()\n"
   ]
  },
  {
   "cell_type": "code",
   "execution_count": 205,
   "metadata": {},
   "outputs": [
    {
     "name": "stderr",
     "output_type": "stream",
     "text": [
      "  2%|▏         | 1/50 [00:01<00:53,  1.10s/it]"
     ]
    },
    {
     "name": "stdout",
     "output_type": "stream",
     "text": [
      "Epoch 1:\n",
      "Train Loss: 0.713169096946945, Train Accuracy: 0.6673214895797746\n",
      "Validation Loss: 0.44307705532003366, Validation Accuracy: 0.6581564095673206\n"
     ]
    },
    {
     "name": "stderr",
     "output_type": "stream",
     "text": [
      "  4%|▍         | 2/50 [00:02<00:50,  1.04s/it]"
     ]
    },
    {
     "name": "stdout",
     "output_type": "stream",
     "text": [
      "Epoch 2:\n",
      "Train Loss: 0.3283223162335964, Train Accuracy: 0.7640929279125385\n",
      "Validation Loss: 0.383785753843171, Validation Accuracy: 0.6847621607094867\n"
     ]
    },
    {
     "name": "stderr",
     "output_type": "stream",
     "text": [
      "  6%|▌         | 3/50 [00:02<00:44,  1.05it/s]"
     ]
    },
    {
     "name": "stdout",
     "output_type": "stream",
     "text": [
      "Epoch 3:\n",
      "Train Loss: 0.2991188957927692, Train Accuracy: 0.7857874957294158\n",
      "Validation Loss: 0.3734889066947678, Validation Accuracy: 0.6847621607094867\n"
     ]
    },
    {
     "name": "stderr",
     "output_type": "stream",
     "text": [
      "  8%|▊         | 4/50 [00:03<00:41,  1.10it/s]"
     ]
    },
    {
     "name": "stdout",
     "output_type": "stream",
     "text": [
      "Epoch 4:\n",
      "Train Loss: 0.29559374775774844, Train Accuracy: 0.791595490263068\n",
      "Validation Loss: 0.37157107384716703, Validation Accuracy: 0.6899355012093523\n"
     ]
    },
    {
     "name": "stderr",
     "output_type": "stream",
     "text": [
      " 10%|█         | 5/50 [00:04<00:42,  1.07it/s]"
     ]
    },
    {
     "name": "stdout",
     "output_type": "stream",
     "text": [
      "Epoch 5:\n",
      "Train Loss: 0.2954385777254789, Train Accuracy: 0.7917663136317048\n",
      "Validation Loss: 0.3709127907292303, Validation Accuracy: 0.6899355012093523\n"
     ]
    },
    {
     "name": "stderr",
     "output_type": "stream",
     "text": [
      " 12%|█▏        | 6/50 [00:05<00:40,  1.08it/s]"
     ]
    },
    {
     "name": "stdout",
     "output_type": "stream",
     "text": [
      "Epoch 6:\n",
      "Train Loss: 0.29561936845733133, Train Accuracy: 0.7909976084728391\n",
      "Validation Loss: 0.37056053667425076, Validation Accuracy: 0.6906745498521902\n"
     ]
    },
    {
     "name": "stderr",
     "output_type": "stream",
     "text": [
      " 14%|█▍        | 7/50 [00:06<00:38,  1.12it/s]"
     ]
    },
    {
     "name": "stdout",
     "output_type": "stream",
     "text": [
      "Epoch 7:\n",
      "Train Loss: 0.2957910801302415, Train Accuracy: 0.7913392552101127\n",
      "Validation Loss: 0.370384243802927, Validation Accuracy: 0.6914135984950283\n"
     ]
    },
    {
     "name": "stderr",
     "output_type": "stream",
     "text": [
      " 16%|█▌        | 8/50 [00:07<00:39,  1.08it/s]"
     ]
    },
    {
     "name": "stdout",
     "output_type": "stream",
     "text": [
      "Epoch 8:\n",
      "Train Loss: 0.295914932167022, Train Accuracy: 0.7917663136317048\n",
      "Validation Loss: 0.37028202610253813, Validation Accuracy: 0.6921526471378662\n"
     ]
    },
    {
     "name": "stderr",
     "output_type": "stream",
     "text": [
      " 18%|█▊        | 9/50 [00:08<00:38,  1.05it/s]"
     ]
    },
    {
     "name": "stdout",
     "output_type": "stream",
     "text": [
      "Epoch 9:\n",
      "Train Loss: 0.29599465705940814, Train Accuracy: 0.79202254868466\n",
      "Validation Loss: 0.37021992941529613, Validation Accuracy: 0.6921526471378662\n"
     ]
    },
    {
     "name": "stderr",
     "output_type": "stream",
     "text": [
      " 20%|██        | 10/50 [00:09<00:37,  1.08it/s]"
     ]
    },
    {
     "name": "stdout",
     "output_type": "stream",
     "text": [
      "Epoch 10:\n",
      "Train Loss: 0.2960428779082929, Train Accuracy: 0.7921079603689785\n",
      "Validation Loss: 0.370182501242283, Validation Accuracy: 0.6921526471378662\n"
     ]
    },
    {
     "name": "stderr",
     "output_type": "stream",
     "text": [
      " 22%|██▏       | 11/50 [00:10<00:39,  1.00s/it]"
     ]
    },
    {
     "name": "stdout",
     "output_type": "stream",
     "text": [
      "Epoch 11:\n",
      "Train Loss: 0.2960716966172154, Train Accuracy: 0.7921933720532969\n",
      "Validation Loss: 0.3701600495829767, Validation Accuracy: 0.6928916957807041\n"
     ]
    },
    {
     "name": "stderr",
     "output_type": "stream",
     "text": [
      " 24%|██▍       | 12/50 [00:12<00:45,  1.19s/it]"
     ]
    },
    {
     "name": "stdout",
     "output_type": "stream",
     "text": [
      "Epoch 12:\n",
      "Train Loss: 0.29608898482519613, Train Accuracy: 0.7921079603689785\n",
      "Validation Loss: 0.37014662271541426, Validation Accuracy: 0.6928916957807041\n"
     ]
    },
    {
     "name": "stderr",
     "output_type": "stream",
     "text": [
      " 26%|██▌       | 13/50 [00:13<00:47,  1.28s/it]"
     ]
    },
    {
     "name": "stdout",
     "output_type": "stream",
     "text": [
      "Epoch 13:\n",
      "Train Loss: 0.29609942155477986, Train Accuracy: 0.7921079603689785\n",
      "Validation Loss: 0.37013860894941103, Validation Accuracy: 0.6936307444235421\n"
     ]
    },
    {
     "name": "stderr",
     "output_type": "stream",
     "text": [
      " 28%|██▊       | 14/50 [00:14<00:44,  1.23s/it]"
     ]
    },
    {
     "name": "stdout",
     "output_type": "stream",
     "text": [
      "Epoch 14:\n",
      "Train Loss: 0.29610563215628255, Train Accuracy: 0.79202254868466\n",
      "Validation Loss: 0.3701338322706508, Validation Accuracy: 0.6936307444235421\n"
     ]
    },
    {
     "name": "stderr",
     "output_type": "stream",
     "text": [
      " 30%|███       | 15/50 [00:15<00:38,  1.11s/it]"
     ]
    },
    {
     "name": "stdout",
     "output_type": "stream",
     "text": [
      "Epoch 15:\n",
      "Train Loss: 0.2961092696281293, Train Accuracy: 0.7919371370003416\n",
      "Validation Loss: 0.3701310082415601, Validation Accuracy: 0.6936307444235421\n"
     ]
    },
    {
     "name": "stderr",
     "output_type": "stream",
     "text": [
      " 32%|███▏      | 16/50 [00:16<00:35,  1.04s/it]"
     ]
    },
    {
     "name": "stdout",
     "output_type": "stream",
     "text": [
      "Epoch 16:\n",
      "Train Loss: 0.29611139891319166, Train Accuracy: 0.7921079603689785\n",
      "Validation Loss: 0.3701293544033037, Validation Accuracy: 0.6936307444235421\n"
     ]
    },
    {
     "name": "stderr",
     "output_type": "stream",
     "text": [
      " 34%|███▍      | 17/50 [00:17<00:32,  1.02it/s]"
     ]
    },
    {
     "name": "stdout",
     "output_type": "stream",
     "text": [
      "Epoch 17:\n",
      "Train Loss: 0.29611265407381543, Train Accuracy: 0.7921079603689785\n",
      "Validation Loss: 0.3701283706293565, Validation Accuracy: 0.6936307444235421\n"
     ]
    },
    {
     "name": "stderr",
     "output_type": "stream",
     "text": [
      " 36%|███▌      | 18/50 [00:18<00:32,  1.00s/it]"
     ]
    },
    {
     "name": "stdout",
     "output_type": "stream",
     "text": [
      "Epoch 18:\n",
      "Train Loss: 0.2961133914156891, Train Accuracy: 0.79202254868466\n",
      "Validation Loss: 0.37012778562030063, Validation Accuracy: 0.6936307444235421\n"
     ]
    },
    {
     "name": "stderr",
     "output_type": "stream",
     "text": [
      " 38%|███▊      | 19/50 [00:19<00:34,  1.12s/it]"
     ]
    },
    {
     "name": "stdout",
     "output_type": "stream",
     "text": [
      "Epoch 19:\n",
      "Train Loss: 0.2961138246987319, Train Accuracy: 0.79202254868466\n",
      "Validation Loss: 0.3701274378054025, Validation Accuracy: 0.6936307444235421\n"
     ]
    },
    {
     "name": "stderr",
     "output_type": "stream",
     "text": [
      " 40%|████      | 20/50 [00:20<00:32,  1.09s/it]"
     ]
    },
    {
     "name": "stdout",
     "output_type": "stream",
     "text": [
      "Epoch 20:\n",
      "Train Loss: 0.29611407954494967, Train Accuracy: 0.79202254868466\n",
      "Validation Loss: 0.3701272310346714, Validation Accuracy: 0.6936307444235421\n"
     ]
    },
    {
     "name": "stderr",
     "output_type": "stream",
     "text": [
      " 42%|████▏     | 21/50 [00:22<00:32,  1.13s/it]"
     ]
    },
    {
     "name": "stdout",
     "output_type": "stream",
     "text": [
      "Epoch 21:\n",
      "Train Loss: 0.2961142295632596, Train Accuracy: 0.79202254868466\n",
      "Validation Loss: 0.37012710811798744, Validation Accuracy: 0.6936307444235421\n"
     ]
    },
    {
     "name": "stderr",
     "output_type": "stream",
     "text": [
      " 44%|████▍     | 22/50 [00:23<00:32,  1.16s/it]"
     ]
    },
    {
     "name": "stdout",
     "output_type": "stream",
     "text": [
      "Epoch 22:\n",
      "Train Loss: 0.29611431793922677, Train Accuracy: 0.79202254868466\n",
      "Validation Loss: 0.37012703504933003, Validation Accuracy: 0.6936307444235421\n"
     ]
    },
    {
     "name": "stderr",
     "output_type": "stream",
     "text": [
      " 46%|████▌     | 23/50 [00:24<00:32,  1.19s/it]"
     ]
    },
    {
     "name": "stdout",
     "output_type": "stream",
     "text": [
      "Epoch 23:\n",
      "Train Loss: 0.2961143700369251, Train Accuracy: 0.79202254868466\n",
      "Validation Loss: 0.3701269916121189, Validation Accuracy: 0.6936307444235421\n"
     ]
    },
    {
     "name": "stderr",
     "output_type": "stream",
     "text": [
      " 48%|████▊     | 24/50 [00:25<00:33,  1.27s/it]"
     ]
    },
    {
     "name": "stdout",
     "output_type": "stream",
     "text": [
      "Epoch 24:\n",
      "Train Loss: 0.2961144007676473, Train Accuracy: 0.79202254868466\n",
      "Validation Loss: 0.37012696578884796, Validation Accuracy: 0.6936307444235421\n"
     ]
    },
    {
     "name": "stderr",
     "output_type": "stream",
     "text": [
      " 50%|█████     | 25/50 [00:26<00:29,  1.19s/it]"
     ]
    },
    {
     "name": "stdout",
     "output_type": "stream",
     "text": [
      "Epoch 25:\n",
      "Train Loss: 0.29611441890508877, Train Accuracy: 0.79202254868466\n",
      "Validation Loss: 0.37012695043616606, Validation Accuracy: 0.6936307444235421\n"
     ]
    },
    {
     "name": "stderr",
     "output_type": "stream",
     "text": [
      " 52%|█████▏    | 26/50 [00:28<00:28,  1.19s/it]"
     ]
    },
    {
     "name": "stdout",
     "output_type": "stream",
     "text": [
      "Epoch 26:\n",
      "Train Loss: 0.29611442961560164, Train Accuracy: 0.79202254868466\n",
      "Validation Loss: 0.3701269413079891, Validation Accuracy: 0.6936307444235421\n"
     ]
    },
    {
     "name": "stderr",
     "output_type": "stream",
     "text": [
      " 54%|█████▍    | 27/50 [00:29<00:29,  1.29s/it]"
     ]
    },
    {
     "name": "stdout",
     "output_type": "stream",
     "text": [
      "Epoch 27:\n",
      "Train Loss: 0.29611443594350295, Train Accuracy: 0.79202254868466\n",
      "Validation Loss: 0.37012693588033263, Validation Accuracy: 0.6936307444235421\n"
     ]
    },
    {
     "name": "stderr",
     "output_type": "stream",
     "text": [
      " 56%|█████▌    | 28/50 [00:30<00:25,  1.17s/it]"
     ]
    },
    {
     "name": "stdout",
     "output_type": "stream",
     "text": [
      "Epoch 28:\n",
      "Train Loss: 0.2961144396838361, Train Accuracy: 0.79202254868466\n",
      "Validation Loss: 0.3701269326528047, Validation Accuracy: 0.6936307444235421\n"
     ]
    },
    {
     "name": "stderr",
     "output_type": "stream",
     "text": [
      " 58%|█████▊    | 29/50 [00:31<00:25,  1.20s/it]"
     ]
    },
    {
     "name": "stdout",
     "output_type": "stream",
     "text": [
      "Epoch 29:\n",
      "Train Loss: 0.29611444189565395, Train Accuracy: 0.79202254868466\n",
      "Validation Loss: 0.3701269307334434, Validation Accuracy: 0.6936307444235421\n"
     ]
    },
    {
     "name": "stderr",
     "output_type": "stream",
     "text": [
      " 60%|██████    | 30/50 [00:32<00:22,  1.13s/it]"
     ]
    },
    {
     "name": "stdout",
     "output_type": "stream",
     "text": [
      "Epoch 30:\n",
      "Train Loss: 0.2961144432041287, Train Accuracy: 0.79202254868466\n",
      "Validation Loss: 0.3701269295919533, Validation Accuracy: 0.6936307444235421\n"
     ]
    },
    {
     "name": "stderr",
     "output_type": "stream",
     "text": [
      " 62%|██████▏   | 31/50 [00:33<00:19,  1.05s/it]"
     ]
    },
    {
     "name": "stdout",
     "output_type": "stream",
     "text": [
      "Epoch 31:\n",
      "Train Loss: 0.2961144439784971, Train Accuracy: 0.79202254868466\n",
      "Validation Loss: 0.3701269289130377, Validation Accuracy: 0.6936307444235421\n"
     ]
    },
    {
     "name": "stderr",
     "output_type": "stream",
     "text": [
      " 64%|██████▍   | 32/50 [00:34<00:18,  1.00s/it]"
     ]
    },
    {
     "name": "stdout",
     "output_type": "stream",
     "text": [
      "Epoch 32:\n",
      "Train Loss: 0.29611444443694157, Train Accuracy: 0.79202254868466\n",
      "Validation Loss: 0.3701269285092197, Validation Accuracy: 0.6936307444235421\n"
     ]
    },
    {
     "name": "stderr",
     "output_type": "stream",
     "text": [
      " 66%|██████▌   | 33/50 [00:35<00:16,  1.05it/s]"
     ]
    },
    {
     "name": "stdout",
     "output_type": "stream",
     "text": [
      "Epoch 33:\n",
      "Train Loss: 0.2961144447084435, Train Accuracy: 0.79202254868466\n",
      "Validation Loss: 0.37012692826901444, Validation Accuracy: 0.6936307444235421\n"
     ]
    },
    {
     "name": "stderr",
     "output_type": "stream",
     "text": [
      " 68%|██████▊   | 34/50 [00:36<00:16,  1.05s/it]"
     ]
    },
    {
     "name": "stdout",
     "output_type": "stream",
     "text": [
      "Epoch 34:\n",
      "Train Loss: 0.2961144448692852, Train Accuracy: 0.79202254868466\n",
      "Validation Loss: 0.3701269281261234, Validation Accuracy: 0.6936307444235421\n"
     ]
    },
    {
     "name": "stderr",
     "output_type": "stream",
     "text": [
      " 70%|███████   | 35/50 [00:37<00:15,  1.04s/it]"
     ]
    },
    {
     "name": "stdout",
     "output_type": "stream",
     "text": [
      "Epoch 35:\n",
      "Train Loss: 0.29611444496459877, Train Accuracy: 0.79202254868466\n",
      "Validation Loss: 0.37012692804111846, Validation Accuracy: 0.6936307444235421\n"
     ]
    },
    {
     "name": "stderr",
     "output_type": "stream",
     "text": [
      " 72%|███████▏  | 36/50 [00:38<00:15,  1.09s/it]"
     ]
    },
    {
     "name": "stdout",
     "output_type": "stream",
     "text": [
      "Epoch 36:\n",
      "Train Loss: 0.2961144450210964, Train Accuracy: 0.79202254868466\n",
      "Validation Loss: 0.3701269279905467, Validation Accuracy: 0.6936307444235421\n"
     ]
    },
    {
     "name": "stderr",
     "output_type": "stream",
     "text": [
      " 74%|███████▍  | 37/50 [00:39<00:13,  1.05s/it]"
     ]
    },
    {
     "name": "stdout",
     "output_type": "stream",
     "text": [
      "Epoch 37:\n",
      "Train Loss: 0.29611444505459544, Train Accuracy: 0.79202254868466\n",
      "Validation Loss: 0.3701269279604574, Validation Accuracy: 0.6936307444235421\n"
     ]
    },
    {
     "name": "stderr",
     "output_type": "stream",
     "text": [
      " 76%|███████▌  | 38/50 [00:40<00:12,  1.04s/it]"
     ]
    },
    {
     "name": "stdout",
     "output_type": "stream",
     "text": [
      "Epoch 38:\n",
      "Train Loss: 0.2961144450744628, Train Accuracy: 0.79202254868466\n",
      "Validation Loss: 0.37012692794255686, Validation Accuracy: 0.6936307444235421\n"
     ]
    },
    {
     "name": "stderr",
     "output_type": "stream",
     "text": [
      " 78%|███████▊  | 39/50 [00:42<00:13,  1.20s/it]"
     ]
    },
    {
     "name": "stdout",
     "output_type": "stream",
     "text": [
      "Epoch 39:\n",
      "Train Loss: 0.2961144450862485, Train Accuracy: 0.79202254868466\n",
      "Validation Loss: 0.3701269279319039, Validation Accuracy: 0.6936307444235421\n"
     ]
    },
    {
     "name": "stderr",
     "output_type": "stream",
     "text": [
      " 80%|████████  | 40/50 [00:43<00:12,  1.21s/it]"
     ]
    },
    {
     "name": "stdout",
     "output_type": "stream",
     "text": [
      "Epoch 40:\n",
      "Train Loss: 0.296114445093241, Train Accuracy: 0.79202254868466\n",
      "Validation Loss: 0.3701269279255655, Validation Accuracy: 0.6936307444235421\n"
     ]
    },
    {
     "name": "stderr",
     "output_type": "stream",
     "text": [
      " 82%|████████▏ | 41/50 [00:44<00:11,  1.24s/it]"
     ]
    },
    {
     "name": "stdout",
     "output_type": "stream",
     "text": [
      "Epoch 41:\n",
      "Train Loss: 0.29611444509739077, Train Accuracy: 0.79202254868466\n",
      "Validation Loss: 0.37012692792179414, Validation Accuracy: 0.6936307444235421\n"
     ]
    },
    {
     "name": "stderr",
     "output_type": "stream",
     "text": [
      " 84%|████████▍ | 42/50 [00:46<00:09,  1.24s/it]"
     ]
    },
    {
     "name": "stdout",
     "output_type": "stream",
     "text": [
      "Epoch 42:\n",
      "Train Loss: 0.2961144450998543, Train Accuracy: 0.79202254868466\n",
      "Validation Loss: 0.37012692791954965, Validation Accuracy: 0.6936307444235421\n"
     ]
    },
    {
     "name": "stderr",
     "output_type": "stream",
     "text": [
      " 86%|████████▌ | 43/50 [00:47<00:08,  1.18s/it]"
     ]
    },
    {
     "name": "stdout",
     "output_type": "stream",
     "text": [
      "Epoch 43:\n",
      "Train Loss: 0.2961144451013166, Train Accuracy: 0.79202254868466\n",
      "Validation Loss: 0.37012692791821444, Validation Accuracy: 0.6936307444235421\n"
     ]
    },
    {
     "name": "stderr",
     "output_type": "stream",
     "text": [
      " 88%|████████▊ | 44/50 [00:48<00:06,  1.09s/it]"
     ]
    },
    {
     "name": "stdout",
     "output_type": "stream",
     "text": [
      "Epoch 44:\n",
      "Train Loss: 0.29611444510218526, Train Accuracy: 0.79202254868466\n",
      "Validation Loss: 0.3701269279174194, Validation Accuracy: 0.6936307444235421\n"
     ]
    },
    {
     "name": "stderr",
     "output_type": "stream",
     "text": [
      " 90%|█████████ | 45/50 [00:49<00:05,  1.02s/it]"
     ]
    },
    {
     "name": "stdout",
     "output_type": "stream",
     "text": [
      "Epoch 45:\n",
      "Train Loss: 0.29611444510270096, Train Accuracy: 0.79202254868466\n",
      "Validation Loss: 0.3701269279169457, Validation Accuracy: 0.6936307444235421\n"
     ]
    },
    {
     "name": "stderr",
     "output_type": "stream",
     "text": [
      " 92%|█████████▏| 46/50 [00:50<00:04,  1.22s/it]"
     ]
    },
    {
     "name": "stdout",
     "output_type": "stream",
     "text": [
      "Epoch 46:\n",
      "Train Loss: 0.2961144451030074, Train Accuracy: 0.79202254868466\n",
      "Validation Loss: 0.37012692791666446, Validation Accuracy: 0.6936307444235421\n"
     ]
    },
    {
     "name": "stderr",
     "output_type": "stream",
     "text": [
      " 94%|█████████▍| 47/50 [00:51<00:03,  1.17s/it]"
     ]
    },
    {
     "name": "stdout",
     "output_type": "stream",
     "text": [
      "Epoch 47:\n",
      "Train Loss: 0.29611444510318924, Train Accuracy: 0.79202254868466\n",
      "Validation Loss: 0.3701269279164972, Validation Accuracy: 0.6936307444235421\n"
     ]
    },
    {
     "name": "stderr",
     "output_type": "stream",
     "text": [
      " 96%|█████████▌| 48/50 [00:53<00:02,  1.25s/it]"
     ]
    },
    {
     "name": "stdout",
     "output_type": "stream",
     "text": [
      "Epoch 48:\n",
      "Train Loss: 0.29611444510329754, Train Accuracy: 0.79202254868466\n",
      "Validation Loss: 0.3701269279163977, Validation Accuracy: 0.6936307444235421\n"
     ]
    },
    {
     "name": "stderr",
     "output_type": "stream",
     "text": [
      " 98%|█████████▊| 49/50 [00:54<00:01,  1.35s/it]"
     ]
    },
    {
     "name": "stdout",
     "output_type": "stream",
     "text": [
      "Epoch 49:\n",
      "Train Loss: 0.2961144451033617, Train Accuracy: 0.79202254868466\n",
      "Validation Loss: 0.37012692791633744, Validation Accuracy: 0.6936307444235421\n"
     ]
    },
    {
     "name": "stderr",
     "output_type": "stream",
     "text": [
      "100%|██████████| 50/50 [00:55<00:00,  1.11s/it]"
     ]
    },
    {
     "name": "stdout",
     "output_type": "stream",
     "text": [
      "Epoch 50:\n",
      "Train Loss: 0.29611444510339985, Train Accuracy: 0.79202254868466\n",
      "Validation Loss: 0.3701269279163029, Validation Accuracy: 0.6936307444235421\n"
     ]
    },
    {
     "name": "stderr",
     "output_type": "stream",
     "text": [
      "\n"
     ]
    }
   ],
   "source": [
    "model = Perceptron(input_size=X_train.shape[1] , learning_rate=0.0003, epochs=50, activation=\"linear\")\n",
    "model.fit(X_train, Y_train, x_validation, y_validation)\n"
   ]
  },
  {
   "cell_type": "code",
   "execution_count": 206,
   "metadata": {},
   "outputs": [
    {
     "name": "stdout",
     "output_type": "stream",
     "text": [
      "Test Loss: 0.37761771234543295, Test Accuracy: 0.6888461558418647\n"
     ]
    }
   ],
   "source": [
    "train_predictions = model.predict(X_train)\n",
    "test_predictions = model.predict(X_test)\n",
    "\n",
    "test_loss, test_accuracy = model.evaluate(X_test, Y_test)\n",
    "print(f\"Test Loss: {test_loss}, Test Accuracy: {test_accuracy}\")"
   ]
  },
  {
   "cell_type": "code",
   "execution_count": 207,
   "metadata": {},
   "outputs": [
    {
     "data": {
      "image/png": "[encoded data removed]",
      "text/plain": [
       "<Figure size 1500x800 with 2 Axes>"
      ]
     },
     "metadata": {},
     "output_type": "display_data"
    }
   ],
   "source": [
    "epochs = range(1, model.epochs + 1)\n",
    "\n",
    "fig = plt.figure(figsize=(15, 8))\n",
    "fig.patch.set_facecolor('#2b2b2b')  \n",
    "\n",
    "ax1 = fig.add_subplot(121)  \n",
    "ax2 = fig.add_subplot(122)  \n",
    "\n",
    "\n",
    "ax1.plot(epochs, model.train_accuracies, label='Training Accuracy', color='lime', linewidth=2.5)\n",
    "ax1.plot(epochs, model.validation_accuracies, label='Test Accuracy', color='cyan', linewidth=2.5)\n",
    "ax1.set_title(\"Accuracy per Epoch\", fontsize=14, color='#e0e0e0')\n",
    "ax1.set_xlabel(\"Epoch\", fontsize=12, color='#e0e0e0')\n",
    "ax1.set_ylabel(\"Accuracy\", fontsize=12, color='#e0e0e0')\n",
    "ax1.legend(loc='best', fontsize=10, facecolor='#2b2b2b', edgecolor='#555555')\n",
    "ax1.tick_params(axis='x', colors='#e0e0e0')\n",
    "ax1.tick_params(axis='y', colors='#e0e0e0')\n",
    "ax1.grid(color='#555555', linestyle='--', linewidth=0.5, alpha=0.6)\n",
    "ax1.set_facecolor('#2b2b2b')  \n",
    "\n",
    "\n",
    "ax2.plot(epochs, model.train_losses, label='Training Loss', color='orange', linewidth=2.5)\n",
    "ax2.plot(epochs, model.validation_losses, label='Test Loss', color='red', linewidth=2.5)\n",
    "ax2.set_title(\"Loss per Epoch\", fontsize=14, color='#e0e0e0')\n",
    "ax2.set_xlabel(\"Epoch\", fontsize=12, color='#e0e0e0')\n",
    "ax2.set_ylabel(\"Loss\", fontsize=12, color='#e0e0e0')\n",
    "ax2.legend(loc='best', fontsize=10, facecolor='#2b2b2b', edgecolor='#555555')\n",
    "ax2.tick_params(axis='x', colors='#e0e0e0')\n",
    "ax2.tick_params(axis='y', colors='#e0e0e0')\n",
    "ax2.grid(color='#555555', linestyle='--', linewidth=0.5, alpha=0.6)\n",
    "ax2.set_facecolor('#2b2b2b') \n",
    "\n",
    "\n",
    "plt.tight_layout()\n",
    "plt.show()\n",
    "\n"
   ]
  },
  {
   "cell_type": "code",
   "execution_count": 208,
   "metadata": {},
   "outputs": [],
   "source": [
    "Y_test = np.where(Y_test > 0.5, 1, 0).flatten()\n",
    "test_predictions = np.where(model.predict(X_test) > 0.5, 1, 0).flatten()\n",
    "\n",
    "conf_matrix = confusion_matrix(Y_test, test_predictions)"
   ]
  },
  {
   "cell_type": "code",
   "execution_count": 209,
   "metadata": {},
   "outputs": [
    {
     "data": {
      "image/png": "[encoded data removed]",
      "text/plain": [
       "<Figure size 800x600 with 1 Axes>"
      ]
     },
     "metadata": {},
     "output_type": "display_data"
    }
   ],
   "source": [
    "plt.figure(figsize=(8, 6))\n",
    "fig = plt.gcf()  \n",
    "fig.patch.set_facecolor('#2b2b2b')  \n",
    "\n",
    "sns.heatmap(conf_matrix, annot=True, fmt=\"d\", cmap=\"coolwarm\", cbar=False)\n",
    "plt.title(\"Confusion Matrix\", fontsize=14, color='#e0e0e0')\n",
    "plt.xlabel(\"Predicted Labels\", fontsize=12, color='#e0e0e0')\n",
    "plt.ylabel(\"True Labels\", fontsize=12, color='#e0e0e0')\n",
    "plt.xticks(color='#e0e0e0')\n",
    "plt.yticks(color='#e0e0e0')\n",
    "\n",
    "plt.tight_layout()\n",
    "plt.show()\n"
   ]
  },
  {
   "cell_type": "code",
   "execution_count": 210,
   "metadata": {},
   "outputs": [
    {
     "name": "stderr",
     "output_type": "stream",
     "text": [
      "  2%|▏         | 1/50 [00:01<00:51,  1.06s/it]"
     ]
    },
    {
     "name": "stdout",
     "output_type": "stream",
     "text": [
      "Epoch 1:\n",
      "Train Loss: 0.5081663109644885, Train Accuracy: 0.7119918004783055\n",
      "Validation Loss: 0.3635317221305627, Validation Accuracy: 0.6869793066380006\n"
     ]
    },
    {
     "name": "stderr",
     "output_type": "stream",
     "text": [
      "  4%|▍         | 2/50 [00:03<01:18,  1.64s/it]"
     ]
    },
    {
     "name": "stdout",
     "output_type": "stream",
     "text": [
      "Epoch 2:\n",
      "Train Loss: 0.2747416034121007, Train Accuracy: 0.7553809361120601\n",
      "Validation Loss: 0.3353270151656704, Validation Accuracy: 0.6921526471378662\n"
     ]
    },
    {
     "name": "stderr",
     "output_type": "stream",
     "text": [
      "  6%|▌         | 3/50 [00:04<01:12,  1.55s/it]"
     ]
    },
    {
     "name": "stdout",
     "output_type": "stream",
     "text": [
      "Epoch 3:\n",
      "Train Loss: 0.26145083117812884, Train Accuracy: 0.7715237444482406\n",
      "Validation Loss: 0.3395187499360475, Validation Accuracy: 0.6980650362805697\n"
     ]
    },
    {
     "name": "stderr",
     "output_type": "stream",
     "text": [
      "  8%|▊         | 4/50 [00:05<00:58,  1.27s/it]"
     ]
    },
    {
     "name": "stdout",
     "output_type": "stream",
     "text": [
      "Epoch 4:\n",
      "Train Loss: 0.2760372279557468, Train Accuracy: 0.787495729415784\n",
      "Validation Loss: 0.3616495035962452, Validation Accuracy: 0.69436979306638\n"
     ]
    },
    {
     "name": "stderr",
     "output_type": "stream",
     "text": [
      " 10%|█         | 5/50 [00:06<00:53,  1.18s/it]"
     ]
    },
    {
     "name": "stdout",
     "output_type": "stream",
     "text": [
      "Epoch 5:\n",
      "Train Loss: 0.28906974177014183, Train Accuracy: 0.7936453706867099\n",
      "Validation Loss: 0.3643637723779889, Validation Accuracy: 0.6936307444235421\n"
     ]
    },
    {
     "name": "stderr",
     "output_type": "stream",
     "text": [
      " 12%|█▏        | 6/50 [00:07<00:47,  1.08s/it]"
     ]
    },
    {
     "name": "stdout",
     "output_type": "stream",
     "text": [
      "Epoch 6:\n",
      "Train Loss: 0.29003816741957533, Train Accuracy: 0.7924496071062521\n",
      "Validation Loss: 0.36452115192595436, Validation Accuracy: 0.6914135984950283\n"
     ]
    },
    {
     "name": "stderr",
     "output_type": "stream",
     "text": [
      " 14%|█▍        | 7/50 [00:08<00:45,  1.05s/it]"
     ]
    },
    {
     "name": "stdout",
     "output_type": "stream",
     "text": [
      "Epoch 7:\n",
      "Train Loss: 0.29000894056038073, Train Accuracy: 0.7923641954219337\n",
      "Validation Loss: 0.36450360313624297, Validation Accuracy: 0.6921526471378662\n"
     ]
    },
    {
     "name": "stderr",
     "output_type": "stream",
     "text": [
      " 16%|█▌        | 8/50 [00:09<00:52,  1.25s/it]"
     ]
    },
    {
     "name": "stdout",
     "output_type": "stream",
     "text": [
      "Epoch 8:\n",
      "Train Loss: 0.28994687180517414, Train Accuracy: 0.79202254868466\n",
      "Validation Loss: 0.3644880131990504, Validation Accuracy: 0.6921526471378662\n"
     ]
    },
    {
     "name": "stderr",
     "output_type": "stream",
     "text": [
      " 18%|█▊        | 9/50 [00:11<00:52,  1.27s/it]"
     ]
    },
    {
     "name": "stdout",
     "output_type": "stream",
     "text": [
      "Epoch 9:\n",
      "Train Loss: 0.28991040710632243, Train Accuracy: 0.7922787837376153\n",
      "Validation Loss: 0.36447741135859535, Validation Accuracy: 0.6921526471378662\n"
     ]
    },
    {
     "name": "stderr",
     "output_type": "stream",
     "text": [
      " 20%|██        | 10/50 [00:12<00:50,  1.26s/it]"
     ]
    },
    {
     "name": "stdout",
     "output_type": "stream",
     "text": [
      "Epoch 10:\n",
      "Train Loss: 0.2898924464733719, Train Accuracy: 0.7923641954219337\n",
      "Validation Loss: 0.3644718277734123, Validation Accuracy: 0.6928916957807041\n"
     ]
    },
    {
     "name": "stderr",
     "output_type": "stream",
     "text": [
      " 22%|██▏       | 11/50 [00:13<00:48,  1.24s/it]"
     ]
    },
    {
     "name": "stdout",
     "output_type": "stream",
     "text": [
      "Epoch 11:\n",
      "Train Loss: 0.2898844427799599, Train Accuracy: 0.7921933720532969\n",
      "Validation Loss: 0.36446928815839374, Validation Accuracy: 0.6928916957807041\n"
     ]
    },
    {
     "name": "stderr",
     "output_type": "stream",
     "text": [
      " 24%|██▍       | 12/50 [00:15<00:49,  1.30s/it]"
     ]
    },
    {
     "name": "stdout",
     "output_type": "stream",
     "text": [
      "Epoch 12:\n",
      "Train Loss: 0.2898812538562737, Train Accuracy: 0.7921933720532969\n",
      "Validation Loss: 0.3644682299138292, Validation Accuracy: 0.6928916957807041\n"
     ]
    },
    {
     "name": "stderr",
     "output_type": "stream",
     "text": [
      " 26%|██▌       | 13/50 [00:16<00:51,  1.40s/it]"
     ]
    },
    {
     "name": "stdout",
     "output_type": "stream",
     "text": [
      "Epoch 13:\n",
      "Train Loss: 0.2898800234400906, Train Accuracy: 0.7921933720532969\n",
      "Validation Loss: 0.36446783638160574, Validation Accuracy: 0.6928916957807041\n"
     ]
    },
    {
     "name": "stderr",
     "output_type": "stream",
     "text": [
      " 28%|██▊       | 14/50 [00:17<00:48,  1.35s/it]"
     ]
    },
    {
     "name": "stdout",
     "output_type": "stream",
     "text": [
      "Epoch 14:\n",
      "Train Loss: 0.28987959458180496, Train Accuracy: 0.7921933720532969\n",
      "Validation Loss: 0.36446772266049754, Validation Accuracy: 0.6928916957807041\n"
     ]
    },
    {
     "name": "stderr",
     "output_type": "stream",
     "text": [
      " 30%|███       | 15/50 [00:19<00:48,  1.40s/it]"
     ]
    },
    {
     "name": "stdout",
     "output_type": "stream",
     "text": [
      "Epoch 15:\n",
      "Train Loss: 0.28987947520886753, Train Accuracy: 0.7921933720532969\n",
      "Validation Loss: 0.3644677145951635, Validation Accuracy: 0.6928916957807041\n"
     ]
    },
    {
     "name": "stderr",
     "output_type": "stream",
     "text": [
      " 32%|███▏      | 16/50 [00:20<00:43,  1.29s/it]"
     ]
    },
    {
     "name": "stdout",
     "output_type": "stream",
     "text": [
      "Epoch 16:\n",
      "Train Loss: 0.28987946327496833, Train Accuracy: 0.7921933720532969\n",
      "Validation Loss: 0.3644677390261076, Validation Accuracy: 0.6928916957807041\n"
     ]
    },
    {
     "name": "stderr",
     "output_type": "stream",
     "text": [
      " 34%|███▍      | 17/50 [00:21<00:38,  1.17s/it]"
     ]
    },
    {
     "name": "stdout",
     "output_type": "stream",
     "text": [
      "Epoch 17:\n",
      "Train Loss: 0.28987948115054546, Train Accuracy: 0.7921933720532969\n",
      "Validation Loss: 0.3644677678718329, Validation Accuracy: 0.6928916957807041\n"
     ]
    },
    {
     "name": "stderr",
     "output_type": "stream",
     "text": [
      " 36%|███▌      | 18/50 [00:22<00:35,  1.11s/it]"
     ]
    },
    {
     "name": "stdout",
     "output_type": "stream",
     "text": [
      "Epoch 18:\n",
      "Train Loss: 0.28987950193061107, Train Accuracy: 0.7921933720532969\n",
      "Validation Loss: 0.36446779205943725, Validation Accuracy: 0.6928916957807041\n"
     ]
    },
    {
     "name": "stderr",
     "output_type": "stream",
     "text": [
      " 38%|███▊      | 19/50 [00:23<00:33,  1.08s/it]"
     ]
    },
    {
     "name": "stdout",
     "output_type": "stream",
     "text": [
      "Epoch 19:\n",
      "Train Loss: 0.289879518165019, Train Accuracy: 0.7921933720532969\n",
      "Validation Loss: 0.3644678099215815, Validation Accuracy: 0.6928916957807041\n"
     ]
    },
    {
     "name": "stderr",
     "output_type": "stream",
     "text": [
      " 40%|████      | 20/50 [00:24<00:30,  1.03s/it]"
     ]
    },
    {
     "name": "stdout",
     "output_type": "stream",
     "text": [
      "Epoch 20:\n",
      "Train Loss: 0.28987952914051, Train Accuracy: 0.7921933720532969\n",
      "Validation Loss: 0.36446782228067015, Validation Accuracy: 0.6928916957807041\n"
     ]
    },
    {
     "name": "stderr",
     "output_type": "stream",
     "text": [
      " 42%|████▏     | 21/50 [00:25<00:28,  1.02it/s]"
     ]
    },
    {
     "name": "stdout",
     "output_type": "stream",
     "text": [
      "Epoch 21:\n",
      "Train Loss: 0.28987953600746585, Train Accuracy: 0.7921933720532969\n",
      "Validation Loss: 0.36446783050837783, Validation Accuracy: 0.6928916957807041\n"
     ]
    },
    {
     "name": "stderr",
     "output_type": "stream",
     "text": [
      " 44%|████▍     | 22/50 [00:26<00:33,  1.18s/it]"
     ]
    },
    {
     "name": "stdout",
     "output_type": "stream",
     "text": [
      "Epoch 22:\n",
      "Train Loss: 0.2898795400930156, Train Accuracy: 0.7921933720532969\n",
      "Validation Loss: 0.36446783585150266, Validation Accuracy: 0.6928916957807041\n"
     ]
    },
    {
     "name": "stderr",
     "output_type": "stream",
     "text": [
      " 46%|████▌     | 23/50 [00:28<00:31,  1.18s/it]"
     ]
    },
    {
     "name": "stdout",
     "output_type": "stream",
     "text": [
      "Epoch 23:\n",
      "Train Loss: 0.2898795424344345, Train Accuracy: 0.7921933720532969\n",
      "Validation Loss: 0.3644678392635447, Validation Accuracy: 0.6928916957807041\n"
     ]
    },
    {
     "name": "stderr",
     "output_type": "stream",
     "text": [
      " 48%|████▊     | 24/50 [00:29<00:29,  1.13s/it]"
     ]
    },
    {
     "name": "stdout",
     "output_type": "stream",
     "text": [
      "Epoch 24:\n",
      "Train Loss: 0.289879543734957, Train Accuracy: 0.7921933720532969\n",
      "Validation Loss: 0.3644678414168825, Validation Accuracy: 0.6928916957807041\n"
     ]
    },
    {
     "name": "stderr",
     "output_type": "stream",
     "text": [
      " 50%|█████     | 25/50 [00:30<00:30,  1.21s/it]"
     ]
    },
    {
     "name": "stdout",
     "output_type": "stream",
     "text": [
      "Epoch 25:\n",
      "Train Loss: 0.28987954443651415, Train Accuracy: 0.7921933720532969\n",
      "Validation Loss: 0.3644678427643544, Validation Accuracy: 0.6928916957807041\n"
     ]
    },
    {
     "name": "stderr",
     "output_type": "stream",
     "text": [
      " 52%|█████▏    | 26/50 [00:31<00:28,  1.18s/it]"
     ]
    },
    {
     "name": "stdout",
     "output_type": "stream",
     "text": [
      "Epoch 26:\n",
      "Train Loss: 0.28987954480361006, Train Accuracy: 0.7921933720532969\n",
      "Validation Loss: 0.3644678436022961, Validation Accuracy: 0.6928916957807041\n"
     ]
    },
    {
     "name": "stderr",
     "output_type": "stream",
     "text": [
      " 54%|█████▍    | 27/50 [00:33<00:34,  1.51s/it]"
     ]
    },
    {
     "name": "stdout",
     "output_type": "stream",
     "text": [
      "Epoch 27:\n",
      "Train Loss: 0.28987954498901575, Train Accuracy: 0.7921933720532969\n",
      "Validation Loss: 0.3644678441209504, Validation Accuracy: 0.6928916957807041\n"
     ]
    },
    {
     "name": "stderr",
     "output_type": "stream",
     "text": [
      " 56%|█████▌    | 28/50 [00:34<00:29,  1.33s/it]"
     ]
    },
    {
     "name": "stdout",
     "output_type": "stream",
     "text": [
      "Epoch 28:\n",
      "Train Loss: 0.2898795450784466, Train Accuracy: 0.7921933720532969\n",
      "Validation Loss: 0.36446784444084085, Validation Accuracy: 0.6928916957807041\n"
     ]
    },
    {
     "name": "stderr",
     "output_type": "stream",
     "text": [
      " 58%|█████▊    | 29/50 [00:36<00:28,  1.37s/it]"
     ]
    },
    {
     "name": "stdout",
     "output_type": "stream",
     "text": [
      "Epoch 29:\n",
      "Train Loss: 0.28987954511875574, Train Accuracy: 0.7921933720532969\n",
      "Validation Loss: 0.3644678446376015, Validation Accuracy: 0.6928916957807041\n"
     ]
    },
    {
     "name": "stderr",
     "output_type": "stream",
     "text": [
      " 60%|██████    | 30/50 [00:37<00:25,  1.25s/it]"
     ]
    },
    {
     "name": "stdout",
     "output_type": "stream",
     "text": [
      "Epoch 30:\n",
      "Train Loss: 0.2898795451348979, Train Accuracy: 0.7921933720532969\n",
      "Validation Loss: 0.3644678447583697, Validation Accuracy: 0.6928916957807041\n"
     ]
    },
    {
     "name": "stderr",
     "output_type": "stream",
     "text": [
      " 62%|██████▏   | 31/50 [00:38<00:21,  1.16s/it]"
     ]
    },
    {
     "name": "stdout",
     "output_type": "stream",
     "text": [
      "Epoch 31:\n",
      "Train Loss: 0.28987954513978964, Train Accuracy: 0.7921933720532969\n",
      "Validation Loss: 0.3644678448323697, Validation Accuracy: 0.6928916957807041\n"
     ]
    },
    {
     "name": "stderr",
     "output_type": "stream",
     "text": [
      " 64%|██████▍   | 32/50 [00:39<00:20,  1.12s/it]"
     ]
    },
    {
     "name": "stdout",
     "output_type": "stream",
     "text": [
      "Epoch 32:\n",
      "Train Loss: 0.28987954513989145, Train Accuracy: 0.7921933720532969\n",
      "Validation Loss: 0.3644678448776525, Validation Accuracy: 0.6928916957807041\n"
     ]
    },
    {
     "name": "stderr",
     "output_type": "stream",
     "text": [
      " 66%|██████▌   | 33/50 [00:40<00:18,  1.11s/it]"
     ]
    },
    {
     "name": "stdout",
     "output_type": "stream",
     "text": [
      "Epoch 33:\n",
      "Train Loss: 0.28987954513828773, Train Accuracy: 0.7921933720532969\n",
      "Validation Loss: 0.36446784490533124, Validation Accuracy: 0.6928916957807041\n"
     ]
    },
    {
     "name": "stderr",
     "output_type": "stream",
     "text": [
      " 68%|██████▊   | 34/50 [00:41<00:16,  1.02s/it]"
     ]
    },
    {
     "name": "stdout",
     "output_type": "stream",
     "text": [
      "Epoch 34:\n",
      "Train Loss: 0.28987954513635145, Train Accuracy: 0.7921933720532969\n",
      "Validation Loss: 0.3644678449222351, Validation Accuracy: 0.6928916957807041\n"
     ]
    },
    {
     "name": "stderr",
     "output_type": "stream",
     "text": [
      " 70%|███████   | 35/50 [00:42<00:17,  1.14s/it]"
     ]
    },
    {
     "name": "stdout",
     "output_type": "stream",
     "text": [
      "Epoch 35:\n",
      "Train Loss: 0.28987954513462183, Train Accuracy: 0.7921933720532969\n",
      "Validation Loss: 0.3644678449325513, Validation Accuracy: 0.6928916957807041\n"
     ]
    },
    {
     "name": "stderr",
     "output_type": "stream",
     "text": [
      " 72%|███████▏  | 36/50 [00:43<00:14,  1.06s/it]"
     ]
    },
    {
     "name": "stdout",
     "output_type": "stream",
     "text": [
      "Epoch 36:\n",
      "Train Loss: 0.28987954513325404, Train Accuracy: 0.7921933720532969\n",
      "Validation Loss: 0.3644678449388431, Validation Accuracy: 0.6928916957807041\n"
     ]
    },
    {
     "name": "stderr",
     "output_type": "stream",
     "text": [
      " 74%|███████▍  | 37/50 [00:44<00:13,  1.04s/it]"
     ]
    },
    {
     "name": "stdout",
     "output_type": "stream",
     "text": [
      "Epoch 37:\n",
      "Train Loss: 0.2898795451322413, Train Accuracy: 0.7921933720532969\n",
      "Validation Loss: 0.3644678449426776, Validation Accuracy: 0.6928916957807041\n"
     ]
    },
    {
     "name": "stderr",
     "output_type": "stream",
     "text": [
      " 76%|███████▌  | 38/50 [00:45<00:12,  1.04s/it]"
     ]
    },
    {
     "name": "stdout",
     "output_type": "stream",
     "text": [
      "Epoch 38:\n",
      "Train Loss: 0.2898795451315225, Train Accuracy: 0.7921933720532969\n",
      "Validation Loss: 0.3644678449450137, Validation Accuracy: 0.6928916957807041\n"
     ]
    },
    {
     "name": "stderr",
     "output_type": "stream",
     "text": [
      " 78%|███████▊  | 39/50 [00:47<00:14,  1.28s/it]"
     ]
    },
    {
     "name": "stdout",
     "output_type": "stream",
     "text": [
      "Epoch 39:\n",
      "Train Loss: 0.2898795451310265, Train Accuracy: 0.7921933720532969\n",
      "Validation Loss: 0.36446784494643675, Validation Accuracy: 0.6928916957807041\n"
     ]
    },
    {
     "name": "stderr",
     "output_type": "stream",
     "text": [
      " 80%|████████  | 40/50 [00:48<00:11,  1.19s/it]"
     ]
    },
    {
     "name": "stdout",
     "output_type": "stream",
     "text": [
      "Epoch 40:\n",
      "Train Loss: 0.2898795451306914, Train Accuracy: 0.7921933720532969\n",
      "Validation Loss: 0.3644678449473028, Validation Accuracy: 0.6928916957807041\n"
     ]
    },
    {
     "name": "stderr",
     "output_type": "stream",
     "text": [
      " 82%|████████▏ | 41/50 [00:49<00:11,  1.25s/it]"
     ]
    },
    {
     "name": "stdout",
     "output_type": "stream",
     "text": [
      "Epoch 41:\n",
      "Train Loss: 0.2898795451304691, Train Accuracy: 0.7921933720532969\n",
      "Validation Loss: 0.3644678449478303, Validation Accuracy: 0.6928916957807041\n"
     ]
    },
    {
     "name": "stderr",
     "output_type": "stream",
     "text": [
      " 84%|████████▍ | 42/50 [00:50<00:09,  1.20s/it]"
     ]
    },
    {
     "name": "stdout",
     "output_type": "stream",
     "text": [
      "Epoch 42:\n",
      "Train Loss: 0.28987954513032305, Train Accuracy: 0.7921933720532969\n",
      "Validation Loss: 0.36446784494815065, Validation Accuracy: 0.6928916957807041\n"
     ]
    },
    {
     "name": "stderr",
     "output_type": "stream",
     "text": [
      " 86%|████████▌ | 43/50 [00:51<00:08,  1.18s/it]"
     ]
    },
    {
     "name": "stdout",
     "output_type": "stream",
     "text": [
      "Epoch 43:\n",
      "Train Loss: 0.2898795451302279, Train Accuracy: 0.7921933720532969\n",
      "Validation Loss: 0.3644678449483461, Validation Accuracy: 0.6928916957807041\n"
     ]
    },
    {
     "name": "stderr",
     "output_type": "stream",
     "text": [
      " 88%|████████▊ | 44/50 [00:52<00:06,  1.15s/it]"
     ]
    },
    {
     "name": "stdout",
     "output_type": "stream",
     "text": [
      "Epoch 44:\n",
      "Train Loss: 0.2898795451301667, Train Accuracy: 0.7921933720532969\n",
      "Validation Loss: 0.36446784494846457, Validation Accuracy: 0.6928916957807041\n"
     ]
    },
    {
     "name": "stderr",
     "output_type": "stream",
     "text": [
      " 90%|█████████ | 45/50 [00:53<00:05,  1.08s/it]"
     ]
    },
    {
     "name": "stdout",
     "output_type": "stream",
     "text": [
      "Epoch 45:\n",
      "Train Loss: 0.2898795451301279, Train Accuracy: 0.7921933720532969\n",
      "Validation Loss: 0.36446784494853707, Validation Accuracy: 0.6928916957807041\n"
     ]
    },
    {
     "name": "stderr",
     "output_type": "stream",
     "text": [
      " 92%|█████████▏| 46/50 [00:55<00:05,  1.29s/it]"
     ]
    },
    {
     "name": "stdout",
     "output_type": "stream",
     "text": [
      "Epoch 46:\n",
      "Train Loss: 0.28987954513010283, Train Accuracy: 0.7921933720532969\n",
      "Validation Loss: 0.3644678449485804, Validation Accuracy: 0.6928916957807041\n"
     ]
    },
    {
     "name": "stderr",
     "output_type": "stream",
     "text": [
      " 94%|█████████▍| 47/50 [00:56<00:03,  1.21s/it]"
     ]
    },
    {
     "name": "stdout",
     "output_type": "stream",
     "text": [
      "Epoch 47:\n",
      "Train Loss: 0.28987954513008685, Train Accuracy: 0.7921933720532969\n",
      "Validation Loss: 0.3644678449486073, Validation Accuracy: 0.6928916957807041\n"
     ]
    },
    {
     "name": "stderr",
     "output_type": "stream",
     "text": [
      " 96%|█████████▌| 48/50 [00:57<00:02,  1.12s/it]"
     ]
    },
    {
     "name": "stdout",
     "output_type": "stream",
     "text": [
      "Epoch 48:\n",
      "Train Loss: 0.28987954513007685, Train Accuracy: 0.7921933720532969\n",
      "Validation Loss: 0.3644678449486232, Validation Accuracy: 0.6928916957807041\n"
     ]
    },
    {
     "name": "stderr",
     "output_type": "stream",
     "text": [
      " 98%|█████████▊| 49/50 [00:58<00:01,  1.23s/it]"
     ]
    },
    {
     "name": "stdout",
     "output_type": "stream",
     "text": [
      "Epoch 49:\n",
      "Train Loss: 0.28987954513007075, Train Accuracy: 0.7921933720532969\n",
      "Validation Loss: 0.3644678449486335, Validation Accuracy: 0.6928916957807041\n"
     ]
    },
    {
     "name": "stderr",
     "output_type": "stream",
     "text": [
      "100%|██████████| 50/50 [01:00<00:00,  1.20s/it]"
     ]
    },
    {
     "name": "stdout",
     "output_type": "stream",
     "text": [
      "Epoch 50:\n",
      "Train Loss: 0.28987954513006675, Train Accuracy: 0.7921933720532969\n",
      "Validation Loss: 0.3644678449486392, Validation Accuracy: 0.6928916957807041\n"
     ]
    },
    {
     "name": "stderr",
     "output_type": "stream",
     "text": [
      "\n"
     ]
    }
   ],
   "source": [
    "model = Perceptron(input_size=X_train.shape[1] , learning_rate=0.0003, epochs=50, activation=\"relu\")\n",
    "model.fit(X_train, Y_train, x_validation, y_validation)\n"
   ]
  },
  {
   "cell_type": "code",
   "execution_count": 211,
   "metadata": {},
   "outputs": [
    {
     "name": "stdout",
     "output_type": "stream",
     "text": [
      "Test Loss: 0.37316106947874267, Test Accuracy: 0.6883683667062749\n"
     ]
    }
   ],
   "source": [
    "train_predictions = model.predict(X_train)\n",
    "test_predictions = model.predict(X_test)\n",
    "\n",
    "test_loss, test_accuracy = model.evaluate(X_test, Y_test)\n",
    "print(f\"Test Loss: {test_loss}, Test Accuracy: {test_accuracy}\")"
   ]
  },
  {
   "cell_type": "code",
   "execution_count": 212,
   "metadata": {},
   "outputs": [
    {
     "data": {
      "image/png": "[encoded data removed]",
      "text/plain": [
       "<Figure size 1500x800 with 2 Axes>"
      ]
     },
     "metadata": {},
     "output_type": "display_data"
    }
   ],
   "source": [
    "epochs = range(1, model.epochs + 1)\n",
    "\n",
    "fig = plt.figure(figsize=(15, 8))\n",
    "fig.patch.set_facecolor('#2b2b2b')  \n",
    "\n",
    "ax1 = fig.add_subplot(121)  \n",
    "ax2 = fig.add_subplot(122)  \n",
    "\n",
    "\n",
    "ax1.plot(epochs, model.train_accuracies, label='Training Accuracy', color='lime', linewidth=2.5)\n",
    "ax1.plot(epochs, model.validation_accuracies, label='Test Accuracy', color='cyan', linewidth=2.5)\n",
    "ax1.set_title(\"Accuracy per Epoch\", fontsize=14, color='#e0e0e0')\n",
    "ax1.set_xlabel(\"Epoch\", fontsize=12, color='#e0e0e0')\n",
    "ax1.set_ylabel(\"Accuracy\", fontsize=12, color='#e0e0e0')\n",
    "ax1.legend(loc='best', fontsize=10, facecolor='#2b2b2b', edgecolor='#555555')\n",
    "ax1.tick_params(axis='x', colors='#e0e0e0')\n",
    "ax1.tick_params(axis='y', colors='#e0e0e0')\n",
    "ax1.grid(color='#555555', linestyle='--', linewidth=0.5, alpha=0.6)\n",
    "ax1.set_facecolor('#2b2b2b')  \n",
    "\n",
    "\n",
    "ax2.plot(epochs, model.train_losses, label='Training Loss', color='orange', linewidth=2.5)\n",
    "ax2.plot(epochs, model.validation_losses, label='Test Loss', color='red', linewidth=2.5)\n",
    "ax2.set_title(\"Loss per Epoch\", fontsize=14, color='#e0e0e0')\n",
    "ax2.set_xlabel(\"Epoch\", fontsize=12, color='#e0e0e0')\n",
    "ax2.set_ylabel(\"Loss\", fontsize=12, color='#e0e0e0')\n",
    "ax2.legend(loc='best', fontsize=10, facecolor='#2b2b2b', edgecolor='#555555')\n",
    "ax2.tick_params(axis='x', colors='#e0e0e0')\n",
    "ax2.tick_params(axis='y', colors='#e0e0e0')\n",
    "ax2.grid(color='#555555', linestyle='--', linewidth=0.5, alpha=0.6)\n",
    "ax2.set_facecolor('#2b2b2b') \n",
    "\n",
    "\n",
    "plt.tight_layout()\n",
    "plt.show()\n",
    "\n"
   ]
  },
  {
   "cell_type": "code",
   "execution_count": 213,
   "metadata": {},
   "outputs": [],
   "source": [
    "Y_test = np.where(Y_test > 0.5, 1, 0).flatten()\n",
    "test_predictions = np.where(model.predict(X_test) > 0.5, 1, 0).flatten()\n",
    "\n",
    "conf_matrix = confusion_matrix(Y_test, test_predictions)"
   ]
  },
  {
   "cell_type": "code",
   "execution_count": 214,
   "metadata": {},
   "outputs": [
    {
     "data": {
      "image/png": "[encoded data removed]",
      "text/plain": [
       "<Figure size 800x600 with 1 Axes>"
      ]
     },
     "metadata": {},
     "output_type": "display_data"
    }
   ],
   "source": [
    "plt.figure(figsize=(8, 6))\n",
    "fig = plt.gcf()  \n",
    "fig.patch.set_facecolor('#2b2b2b')  \n",
    "\n",
    "sns.heatmap(conf_matrix, annot=True, fmt=\"d\", cmap=\"coolwarm\", cbar=False)\n",
    "plt.title(\"Confusion Matrix\", fontsize=14, color='#e0e0e0')\n",
    "plt.xlabel(\"Predicted Labels\", fontsize=12, color='#e0e0e0')\n",
    "plt.ylabel(\"True Labels\", fontsize=12, color='#e0e0e0')\n",
    "plt.xticks(color='#e0e0e0')\n",
    "plt.yticks(color='#e0e0e0')\n",
    "\n",
    "plt.tight_layout()\n",
    "plt.show()\n"
   ]
  }
 ],
 "metadata": {
  "kernelspec": {
   "display_name": "Python 3",
   "language": "python",
   "name": "python3"
  },
  "language_info": {
   "codemirror_mode": {
    "name": "ipython",
    "version": 3
   },
   "file_extension": ".py",
   "mimetype": "text/x-python",
   "name": "python",
   "nbconvert_exporter": "python",
   "pygments_lexer": "ipython3",
   "version": "3.9.7"
  }
 },
 "nbformat": 4,
 "nbformat_minor": 2
}
